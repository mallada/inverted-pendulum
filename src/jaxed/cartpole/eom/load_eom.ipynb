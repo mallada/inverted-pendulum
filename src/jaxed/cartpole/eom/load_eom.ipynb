{
 "cells": [
  {
   "cell_type": "code",
   "execution_count": 1,
   "metadata": {},
   "outputs": [],
   "source": [
    "from eom import load_equations_of_motions"
   ]
  },
  {
   "cell_type": "code",
   "execution_count": 2,
   "metadata": {},
   "outputs": [],
   "source": [
    "def load_display(n_poles: int = 1):\n",
    "    assert n_poles > 0\n",
    "    sols = load_equations_of_motions(n_poles)\n",
    "    print(\"Solutions:\")\n",
    "    for i, sol in enumerate(sols):\n",
    "        name = \"tau\" if i == 0 else f\"dd_theta_{i}\"\n",
    "        print(f\"{name}:\")\n",
    "        display(sol)"
   ]
  },
  {
   "cell_type": "code",
   "execution_count": 3,
   "metadata": {},
   "outputs": [
    {
     "name": "stdout",
     "output_type": "stream",
     "text": [
      "Solutions:\n",
      "tau:\n"
     ]
    },
    {
     "data": {
      "text/latex": [
       "$\\displaystyle \\frac{- a_{1} dds m_{1} \\cos{\\left(\\theta_{1} \\right)} + a_{1} g m_{1} \\sin{\\left(\\theta_{1} \\right)} - d_{1} dtheta_{1}}{J_{1} + a_{1}^{2} m_{1}}$"
      ],
      "text/plain": [
       "(-a1*dds*m1*cos(theta1) + a1*g*m1*sin(theta1) - d1*dtheta1)/(J1 + a1**2*m1)"
      ]
     },
     "metadata": {},
     "output_type": "display_data"
    },
    {
     "name": "stdout",
     "output_type": "stream",
     "text": [
      "dd_theta_1:\n"
     ]
    },
    {
     "data": {
      "text/latex": [
       "$\\displaystyle \\frac{- J_{1} a_{1} dtheta_{1}^{2} m_{1} \\sin{\\left(\\theta_{1} \\right)} + J_{1} dds m_{1} + J_{1} dds m_{c} - a_{1}^{3} dtheta_{1}^{2} m_{1}^{2} \\sin{\\left(\\theta_{1} \\right)} - a_{1}^{2} dds m_{1}^{2} \\cos^{2}{\\left(\\theta_{1} \\right)} + a_{1}^{2} dds m_{1}^{2} + a_{1}^{2} dds m_{1} m_{c} + \\frac{a_{1}^{2} g m_{1}^{2} \\sin{\\left(2 \\theta_{1} \\right)}}{2} - a_{1} d_{1} dtheta_{1} m_{1} \\cos{\\left(\\theta_{1} \\right)}}{J_{1} + a_{1}^{2} m_{1}}$"
      ],
      "text/plain": [
       "(-J1*a1*dtheta1**2*m1*sin(theta1) + J1*dds*m1 + J1*dds*m_c - a1**3*dtheta1**2*m1**2*sin(theta1) - a1**2*dds*m1**2*cos(theta1)**2 + a1**2*dds*m1**2 + a1**2*dds*m1*m_c + a1**2*g*m1**2*sin(2*theta1)/2 - a1*d1*dtheta1*m1*cos(theta1))/(J1 + a1**2*m1)"
      ]
     },
     "metadata": {},
     "output_type": "display_data"
    }
   ],
   "source": [
    "load_display(1)"
   ]
  }
 ],
 "metadata": {
  "kernelspec": {
   "display_name": "Python 3",
   "language": "python",
   "name": "python3"
  },
  "language_info": {
   "codemirror_mode": {
    "name": "ipython",
    "version": 3
   },
   "file_extension": ".py",
   "mimetype": "text/x-python",
   "name": "python",
   "nbconvert_exporter": "python",
   "pygments_lexer": "ipython3",
   "version": "3.11.6"
  }
 },
 "nbformat": 4,
 "nbformat_minor": 2
}
