{
 "cells": [
  {
   "cell_type": "code",
   "execution_count": 1,
   "metadata": {},
   "outputs": [],
   "source": [
    "from cartpoleenv import CartPoleEnv\n",
    "import jax\n",
    "import jax.numpy as jnp"
   ]
  },
  {
   "cell_type": "code",
   "execution_count": 66,
   "metadata": {},
   "outputs": [
    {
     "data": {
      "text/plain": [
       "Array([0.1      , 0.       , 3.1415927, 0.       , 3.1415927, 0.       ],      dtype=float32)"
      ]
     },
     "execution_count": 66,
     "metadata": {},
     "output_type": "execute_result"
    }
   ],
   "source": [
    "dt = 0.1\n",
    "env = CartPoleEnv(2, 100, dt)\n",
    "key = jax.random.PRNGKey(0)\n",
    "state = jnp.array([0.1, 0, jnp.pi, 0, jnp.pi, 0])\n",
    "state, info = env.reset(key, state)\n",
    "state"
   ]
  },
  {
   "cell_type": "code",
   "execution_count": 330,
   "metadata": {},
   "outputs": [
    {
     "data": {
      "text/plain": [
       "(Array([2.3499999e+00, 1.1920929e-07, 4.0724516e+00, 3.0106888e+00,\n",
       "        5.1909585e+00, 2.7318263e-01], dtype=float32),\n",
       " 0,\n",
       " False,\n",
       " False,\n",
       " {'observation_state'})"
      ]
     },
     "execution_count": 330,
     "metadata": {},
     "output_type": "execute_result"
    }
   ],
   "source": [
    "action = jnp.array([0])\n",
    "env.step(action)"
   ]
  }
 ],
 "metadata": {
  "kernelspec": {
   "display_name": "Python 3",
   "language": "python",
   "name": "python3"
  },
  "language_info": {
   "codemirror_mode": {
    "name": "ipython",
    "version": 3
   },
   "file_extension": ".py",
   "mimetype": "text/x-python",
   "name": "python",
   "nbconvert_exporter": "python",
   "pygments_lexer": "ipython3",
   "version": "3.11.6"
  }
 },
 "nbformat": 4,
 "nbformat_minor": 2
}
