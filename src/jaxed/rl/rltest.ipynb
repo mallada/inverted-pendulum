{
 "cells": [
  {
   "cell_type": "code",
   "execution_count": 1,
   "metadata": {},
   "outputs": [],
   "source": [
    "import jax\n",
    "from typing import Any, Callable, Sequence\n",
    "from jax import random, numpy as jnp\n",
    "import flax\n",
    "from flax import linen as nn\n",
    "import numpy as np"
   ]
  },
  {
   "cell_type": "code",
   "execution_count": 6,
   "metadata": {},
   "outputs": [
    {
     "name": "stdout",
     "output_type": "stream",
     "text": [
      "initialized parameter shapes:\n",
      " {'params': {'layers_0': {'bias': (4,), 'kernel': (4, 4)}, 'layers_1': {'bias': (128,), 'kernel': (4, 128)}, 'layers_2': {'bias': (512,), 'kernel': (128, 512)}, 'layers_3': {'bias': (512,), 'kernel': (512, 512)}, 'layers_4': {'bias': (128,), 'kernel': (512, 128)}, 'layers_5': {'bias': (2,), 'kernel': (128, 2)}}}\n",
      "output:\n",
      " [[0.26753563 0.49408063]\n",
      " [0.17382324 0.3050771 ]\n",
      " [0.16901806 0.33530086]\n",
      " [0.06821223 0.16916744]]\n"
     ]
    }
   ],
   "source": [
    "class QNet(nn.Module):\n",
    "    n_states: int\n",
    "    hidden_features: Sequence[int]\n",
    "    n_actions: int\n",
    "\n",
    "    @nn.compact\n",
    "    def __call__(self, inputs):\n",
    "        x = inputs\n",
    "        features = [self.n_states] + list(self.hidden_features) + [self.n_actions]\n",
    "        for i, feat in enumerate(features):\n",
    "            x = nn.Dense(feat, name=f'layers_{i}')(x)\n",
    "            if i != len(features) - 1:\n",
    "                x = nn.relu(x)\n",
    "            # providing a name is optional though!\n",
    "            # the default autonames would be \"Dense_0\", \"Dense_1\", ...\n",
    "        return x\n",
    "\n",
    "class DuelingQNet(QNet):\n",
    "    hidden_value_features: Sequence[int]\n",
    "    hidden_advantage_features: Sequence[int]\n",
    "\n",
    "    @nn.compact\n",
    "    def __call__(self, inputs):\n",
    "        hidden = inputs\n",
    "        features = [self.n_states] + list(self.hidden_features)\n",
    "        for i, feat in enumerate(features):\n",
    "            hidden = nn.Dense(feat, name=f'hidden_layers_{i}')(hidden)\n",
    "            hidden = nn.relu(hidden)\n",
    "\n",
    "        values = hidden\n",
    "        for i, feat in enumerate(self.hidden_value_features):\n",
    "            values = nn.Dense(feat, name=f'value_layers_{i}')(values)\n",
    "            values = nn.relu(values)\n",
    "        values = nn.Dense(1, name='value')(values)\n",
    "\n",
    "        advantages = hidden\n",
    "        for i, feat in enumerate(self.hidden_advantage_features):\n",
    "            advantages = nn.Dense(feat, name=f'advantage_layers_{i}')(advantages)\n",
    "            advantages = nn.relu(advantages)\n",
    "        advantages = nn.Dense(self.n_actions, name='advantage')(advantages)\n",
    "\n",
    "        qvalues = values + (advantages - jnp.mean(advantages, axis=-1, keepdims=True))\n",
    "        \n",
    "        return qvalues\n",
    "  \n",
    "key1, key2 = random.split(random.key(0), 2)\n",
    "x = random.uniform(key1, (4,4))\n",
    "\n",
    "model = QNet(n_states=4, hidden_features=[128, 512, 512, 128], n_actions=2)\n",
    "params = model.init(key2, x)\n",
    "y = model.apply(params, x)\n",
    "\n",
    "print('initialized parameter shapes:\\n', jax.tree_util.tree_map(jnp.shape, flax.core.unfreeze(params)))\n",
    "print('output:\\n', y)"
   ]
  },
  {
   "cell_type": "code",
   "execution_count": 7,
   "metadata": {},
   "outputs": [
    {
     "name": "stdout",
     "output_type": "stream",
     "text": [
      "initialized parameter shapes:\n",
      " {'params': {'advantage': {'bias': (2,), 'kernel': (64, 2)}, 'advantage_layers_0': {'bias': (64,), 'kernel': (512, 64)}, 'hidden_layers_0': {'bias': (4,), 'kernel': (4, 4)}, 'hidden_layers_1': {'bias': (128,), 'kernel': (4, 128)}, 'hidden_layers_2': {'bias': (512,), 'kernel': (128, 512)}, 'value': {'bias': (1,), 'kernel': (64, 1)}, 'value_layers_0': {'bias': (64,), 'kernel': (512, 64)}}}\n",
      "output:\n",
      " [[-0.00040921  0.24043036]\n",
      " [-0.00195015  0.11650497]\n",
      " [ 0.00692727  0.17678855]\n",
      " [-0.03291429  0.12385821]]\n"
     ]
    }
   ],
   "source": [
    "key1, key2 = random.split(random.key(0), 2)\n",
    "x = random.uniform(key1, (4,4))\n",
    "\n",
    "model = DuelingQNet(n_states=4, hidden_features=[128, 512], hidden_value_features=[64], hidden_advantage_features=[64], n_actions=2)\n",
    "params = model.init(key2, x)\n",
    "y = model.apply(params, x)\n",
    "\n",
    "print('initialized parameter shapes:\\n', jax.tree_util.tree_map(jnp.shape, flax.core.unfreeze(params)))\n",
    "print('output:\\n', y)"
   ]
  },
  {
   "cell_type": "code",
   "execution_count": null,
   "metadata": {},
   "outputs": [],
   "source": [
    "class TransitionBuffer:\n",
    "    def __init__(self, n_states, n_actions, size=1000):\n",
    "        self._states = np.zeros((size, n_states))\n",
    "        self._actions = np.zeros((size, n_actions))\n",
    "        self._rewards = np.zeros(size)\n",
    "        self._dones = np.zeros(size, dtype=np.bool_)\n",
    "        self._next_states = np.zeros((size, n_states))\n",
    "        self._size = size\n",
    "        self._pointer = 0\n",
    "        self._full = False\n",
    "\n",
    "    @property\n",
    "    def size(self):\n",
    "        return self._size\n",
    "    @property\n",
    "    def full(self):\n",
    "        return self._full\n",
    "    @property\n",
    "    def pointer(self):\n",
    "        return self._pointer\n",
    "    "
   ]
  },
  {
   "cell_type": "code",
   "execution_count": null,
   "metadata": {},
   "outputs": [],
   "source": [
    "from optax import adam\n",
    "\n",
    "class Controller:\n",
    "    def __init__(self, model: nn.Module, optimizer, loss_fn):\n",
    "        self.model = model\n",
    "        self.optimizer = optimizer\n",
    "        self.loss_fn = loss_fn"
   ]
  },
  {
   "cell_type": "code",
   "execution_count": null,
   "metadata": {},
   "outputs": [],
   "source": [
    "class Runner:\n",
    "    def __init__(self, env, controller: Controller, replay_buffer):\n",
    "        self.env = env\n",
    "        self.controller = controller\n",
    "        self.replay_buffer = replay_buffer"
   ]
  },
  {
   "cell_type": "code",
   "execution_count": null,
   "metadata": {},
   "outputs": [],
   "source": [
    "class Trainer:\n",
    "    def __init__(self, model: nn.Module):\n",
    "        self.model = model\n",
    "\n",
    "    def train(self):\n",
    "        pass"
   ]
  },
  {
   "cell_type": "code",
   "execution_count": null,
   "metadata": {},
   "outputs": [],
   "source": [
    "class Experiment:\n",
    "    def __init__(self, runner: Runner, trainer: Trainer):\n",
    "        self.runner = runner\n",
    "        self.trainer = trainer\n",
    "\n",
    "    def run(self):\n",
    "        pass"
   ]
  }
 ],
 "metadata": {
  "kernelspec": {
   "display_name": "Python 3",
   "language": "python",
   "name": "python3"
  },
  "language_info": {
   "codemirror_mode": {
    "name": "ipython",
    "version": 3
   },
   "file_extension": ".py",
   "mimetype": "text/x-python",
   "name": "python",
   "nbconvert_exporter": "python",
   "pygments_lexer": "ipython3",
   "version": "3.11.6"
  }
 },
 "nbformat": 4,
 "nbformat_minor": 2
}
