{
 "cells": [
  {
   "cell_type": "code",
   "execution_count": 9,
   "metadata": {},
   "outputs": [],
   "source": [
    "import sympy as sp\n",
    "import numpy as np \n",
    "from numpy import radians\n",
    "from time import perf_counter\n",
    "import casadi as ca"
   ]
  },
  {
   "cell_type": "code",
   "execution_count": 10,
   "metadata": {},
   "outputs": [],
   "source": [
    "num_poles = 2\n",
    "\n",
    "pole_as = [ca.SX.sym(f'a_{i+1}') for i in range(num_poles)]\n",
    "pole_ls = [ca.SX.sym(f'l_{i+1}') for i in range(num_poles)]\n",
    "pole_ms = [ca.SX.sym(f'm_{i+1}') for i in range(num_poles)]\n",
    "pole_ds = [ca.SX.sym(f'd_{i+1}') for i in range(num_poles)]\n",
    "pole_Js = [ca.SX.sym(f'J_{i+1}') for i in range(num_poles)]\n",
    "\n",
    "m_c = ca.SX.sym('m_c')\n",
    "g = ca.SX.sym('g')"
   ]
  },
  {
   "cell_type": "code",
   "execution_count": 17,
   "metadata": {},
   "outputs": [],
   "source": [
    "t = ca.MX.sym(\"t\")\n",
    "s = ca.MX.sym(\"s\")"
   ]
  },
  {
   "cell_type": "code",
   "execution_count": null,
   "metadata": {},
   "outputs": [],
   "source": [
    "t = ca.SX.sym(\"t\")\n",
    "s = ca.Function(\n",
    "\n",
    "d_s = sp.diff(s, t)\n",
    "dd_s = sp.diff(d_s, t)\n",
    "thetas = [sp.Function(f\"\\\\theta_{i+1}\")(t) for i in range(num_poles)]\n",
    "d_thetas = [sp.diff(theta,t) for theta in thetas]\n",
    "dd_thetas = [sp.diff(d_theta,t) for d_theta in d_thetas]\n",
    "u = dd_s\n",
    "torque = sp.Symbol(\"\\\\tau\")"
   ]
  },
  {
   "cell_type": "code",
   "execution_count": null,
   "metadata": {},
   "outputs": [
    {
     "name": "stdout",
     "output_type": "stream",
     "text": [
      "[[-a_1*sin(\\theta_1(t)) + s(t), a_1*cos(\\theta_1(t))], [-a_2*sin(\\theta_2(t)) - l_1*sin(\\theta_1(t)) + s(t), a_2*cos(\\theta_2(t)) + l_1*cos(\\theta_1(t))]]\n"
     ]
    }
   ],
   "source": [
    "pole_pcs = []\n",
    "for i, (theta, a) in enumerate(zip(thetas, pole_as)):\n",
    "    prev_1 = 0\n",
    "    prev_2 = 0\n",
    "    for prev_l, prev_theta in list(zip(pole_ls, thetas))[:i]:\n",
    "        prev_1 += -prev_l*sp.sin(prev_theta)\n",
    "        prev_2 += prev_l*sp.cos(prev_theta)\n",
    "    pole_pcs.append([s-a*sp.sin(theta)+prev_1, a*sp.cos(theta)+prev_2])\n",
    "print(pole_pcs)"
   ]
  },
  {
   "cell_type": "code",
   "execution_count": null,
   "metadata": {},
   "outputs": [],
   "source": [
    "def square_sum(x: tuple):\n",
    "    result = 0\n",
    "    for x_i in x:\n",
    "        result += x_i**2\n",
    "    return result\n",
    "\n",
    "T = [1/2*m_c*d_s**2]\n",
    "for m, pc, J, d_theta in zip(pole_ms, pole_pcs, pole_Js, d_thetas):\n",
    "    d_pc = [sp.diff(p,t) for p in pc]\n",
    "    T_p = 1/2*m*square_sum(d_pc) + 1/2*J*d_theta**2\n",
    "    T.append(T_p)\n",
    "    \n",
    "V = 0   \n",
    "for m, pc in zip(pole_ms, pole_pcs):\n",
    "    V += g*m*pc[1]\n",
    "R = 0\n",
    "prev_w = 0\n",
    "for d, d_theta in zip(pole_ds, d_thetas):\n",
    "    R += 1/2*d*(d_theta-prev_w)**2\n",
    "    prev_w = d_theta"
   ]
  },
  {
   "cell_type": "code",
   "execution_count": null,
   "metadata": {},
   "outputs": [],
   "source": [
    "L = T[0]-V\n",
    "eqs = []\n",
    "lh = sp.diff(sp.diff(L, d_s),t)\n",
    "lh -= sp.diff(L, s) + sp.diff(R, d_s)\n",
    "rh = torque\n",
    "eqs.append(lh-rh)\n",
    "for theta, d_theta, T_p in zip(thetas, d_thetas, T[1:]):\n",
    "    L = T_p-V\n",
    "    lh = sp.diff(sp.diff(L, d_theta),t)\n",
    "    lh -= sp.diff(L, theta) + sp.diff(R, d_theta)\n",
    "    rh = 0\n",
    "    eqs.append(lh-rh)"
   ]
  },
  {
   "cell_type": "code",
   "execution_count": 7,
   "metadata": {},
   "outputs": [
    {
     "ename": "NameError",
     "evalue": "name 'eqs' is not defined",
     "output_type": "error",
     "traceback": [
      "\u001b[1;31m---------------------------------------------------------------------------\u001b[0m",
      "\u001b[1;31mNameError\u001b[0m                                 Traceback (most recent call last)",
      "Cell \u001b[1;32mIn[7], line 1\u001b[0m\n\u001b[1;32m----> 1\u001b[0m sols \u001b[39m=\u001b[39m sp\u001b[39m.\u001b[39msolve(eqs, dd_thetas \u001b[39m+\u001b[39m [torque])\n\u001b[0;32m      2\u001b[0m \u001b[39mfor\u001b[39;00m key, value \u001b[39min\u001b[39;00m sols\u001b[39m.\u001b[39mitems():\n\u001b[0;32m      3\u001b[0m     sols[key] \u001b[39m=\u001b[39m sp\u001b[39m.\u001b[39msimplify(value)\n",
      "\u001b[1;31mNameError\u001b[0m: name 'eqs' is not defined"
     ]
    }
   ],
   "source": [
    "sols = sp.solve(eqs, dd_thetas + [torque])\n",
    "for key, value in sols.items():\n",
    "    sols[key] = sp.simplify(value)\n",
    "    display(sols[key])"
   ]
  },
  {
   "cell_type": "code",
   "execution_count": 21,
   "metadata": {},
   "outputs": [
    {
     "name": "stdout",
     "output_type": "stream",
     "text": [
      "0\n",
      "Time: 0.0021551999961957335\n"
     ]
    }
   ],
   "source": [
    "values = np.array([10, 0, radians(0), 0, radians(0), 0, radians(0), 0] + [0])\n",
    "variables = [s, d_s]\n",
    "for theta, d_theta in zip(thetas, d_thetas):\n",
    "    variables.append(theta)\n",
    "    variables.append(d_theta)\n",
    "variables.append(u)\n",
    "\n",
    "start_time = perf_counter()\n",
    "# substitute the values of the variables into the solutions\n",
    "sol_sub = sols.copy()\n",
    "for k, v in sols.items():\n",
    "    a = v.subs({var: value for var, value in zip(variables, values)})\n",
    "    print(a)\n",
    "print(f\"Time: {perf_counter()-start_time}\")"
   ]
  }
 ],
 "metadata": {
  "kernelspec": {
   "display_name": "Python 3",
   "language": "python",
   "name": "python3"
  },
  "language_info": {
   "codemirror_mode": {
    "name": "ipython",
    "version": 3
   },
   "file_extension": ".py",
   "mimetype": "text/x-python",
   "name": "python",
   "nbconvert_exporter": "python",
   "pygments_lexer": "ipython3",
   "version": "3.11.3"
  },
  "orig_nbformat": 4
 },
 "nbformat": 4,
 "nbformat_minor": 2
}
