{
 "cells": [
  {
   "cell_type": "code",
   "execution_count": 20,
   "metadata": {},
   "outputs": [],
   "source": [
    "import numpy as np\n",
    "import serial\n",
    "from serial.tools.list_ports import comports\n",
    "from lib.cartpolesimulator import CartPoleSerialSimulator\n",
    "from lib.cartpolesystem import CartPoleStepperMotorSystem, Pole, Cart\n",
    "from lib.motors import StepperMotor"
   ]
  },
  {
   "cell_type": "code",
   "execution_count": 21,
   "metadata": {},
   "outputs": [
    {
     "name": "stdout",
     "output_type": "stream",
     "text": [
      "Port 1: COM3 COM3 Silicon Labs CP210x USB to UART Bridge (COM3)\n"
     ]
    }
   ],
   "source": [
    "for i, port in enumerate(comports(),1):\n",
    "    print(f\"Port {i}:\", port.device, port.name, port.description)"
   ]
  },
  {
   "cell_type": "code",
   "execution_count": null,
   "metadata": {},
   "outputs": [
    {
     "name": "stderr",
     "output_type": "stream",
     "text": [
      "Exception in thread Thread-9 (run_loop):\n",
      "Traceback (most recent call last):\n",
      "  File \"c:\\Users\\sacka\\AppData\\Local\\Programs\\Python\\Python311\\Lib\\threading.py\", line 1038, in _bootstrap_inner\n",
      "    self.run()\n",
      "  File \"c:\\Users\\sacka\\AppData\\Local\\Programs\\Python\\Python311\\Lib\\threading.py\", line 975, in run\n",
      "    self._target(*self._args, **self._kwargs)\n",
      "  File \"c:\\Users\\sacka\\Documents\\programming\\projects\\inverted-pendulum\\src\\python\\lib\\cartpolesimulator.py\", line 91, in run_loop\n",
      "    with serial.Serial(self._port, self._baudrate, timeout=self._timeout) as ser:\n",
      "         ^^^^^^^^^^^^^^^^^^^^^^^^^^^^^^^^^^^^^^^^^^^^^^^^^^^^^^^^^^^^^^^^\n",
      "  File \"c:\\Users\\sacka\\AppData\\Local\\Programs\\Python\\Python311\\Lib\\site-packages\\serial\\serialwin32.py\", line 33, in __init__\n",
      "    super(Serial, self).__init__(*args, **kwargs)\n",
      "  File \"c:\\Users\\sacka\\AppData\\Local\\Programs\\Python\\Python311\\Lib\\site-packages\\serial\\serialutil.py\", line 244, in __init__\n"
     ]
    },
    {
     "name": "stderr",
     "output_type": "stream",
     "text": [
      "    self.open()\n",
      "  File \"c:\\Users\\sacka\\AppData\\Local\\Programs\\Python\\Python311\\Lib\\site-packages\\serial\\serialwin32.py\", line 64, in open\n",
      "    raise SerialException(\"could not open port {!r}: {!r}\".format(self.portstr, ctypes.WinError()))\n",
      "serial.serialutil.SerialException: could not open port 'COM3': PermissionError(13, 'Access is denied.', None, 5)\n"
     ]
    },
    {
     "name": "stdout",
     "output_type": "stream",
     "text": [
      "6300 MC state: [0. 0. 0. 0. 0. 0.]\n",
      "6400 MC state: [0. 0. 0. 0. 0. 0.]\n",
      "6500 MC state: [0. 0. 0. 0. 0. 0.]\n",
      "6600 MC state: [0. 0. 0. 0. 0. 0.]\n"
     ]
    }
   ],
   "source": [
    "port = \"COM3\"\n",
    "baud = 115200\n",
    "timeout = 0.1\n",
    "\n",
    "dt = 0.01\n",
    "g = 9.81\n",
    "\n",
    "cart = Cart(0.1, 0.01, (-0.8, 0.8), 0.1)\n",
    "motor = StepperMotor(0.06, (-5, 5), 0.2, (-2, 2), 0.1)\n",
    "poles = [Pole(0.05, 0.15, 0.001), Pole(0.05, 0.2, 0.001)]\n",
    "system = CartPoleStepperMotorSystem(cart, motor, poles, g)\n",
    "\n",
    "def get_control(state: np.ndarray) -> np.ndarray:\n",
    "    return np.array([0], dtype=np.float32)\n",
    "\n",
    "sim = CartPoleSerialSimulator(dt, system)\n",
    "sim.get_control = get_control\n",
    "sim.run(port, baud, timeout)"
   ]
  }
 ],
 "metadata": {
  "kernelspec": {
   "display_name": "Python 3",
   "language": "python",
   "name": "python3"
  },
  "language_info": {
   "codemirror_mode": {
    "name": "ipython",
    "version": 3
   },
   "file_extension": ".py",
   "mimetype": "text/x-python",
   "name": "python",
   "nbconvert_exporter": "python",
   "pygments_lexer": "ipython3",
   "version": "3.11.3"
  },
  "orig_nbformat": 4
 },
 "nbformat": 4,
 "nbformat_minor": 2
}
