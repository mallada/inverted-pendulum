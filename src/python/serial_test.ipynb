{
 "cells": [
  {
   "cell_type": "code",
   "execution_count": 1,
   "metadata": {},
   "outputs": [],
   "source": [
    "from serial import Serial\n",
    "import numpy as np\n",
    "from time import sleep\n",
    "from threading import Thread"
   ]
  },
  {
   "cell_type": "code",
   "execution_count": 2,
   "metadata": {},
   "outputs": [
    {
     "name": "stdout",
     "output_type": "stream",
     "text": [
      "0 Time: 0.029999999329447746, State: [1. 2. 3. 4. 5. 6.]\n",
      "100 Time: 2.1600000858306885, State: [1. 2. 3. 4. 5. 6.]\n",
      "200 Time: 3.1600000858306885, State: [1. 2. 3. 4. 5. 6.]\n",
      "300 Time: 4.159999847412109, State: [1. 2. 3. 4. 5. 6.]\n",
      "400 Time: 5.159999847412109, State: [1. 2. 3. 4. 5. 6.]\n",
      "500 Time: 6.159999847412109, State: [1. 2. 3. 4. 5. 6.]\n",
      "600 Time: 7.159999847412109, State: [1. 2. 3. 4. 5. 6.]\n"
     ]
    },
    {
     "name": "stdout",
     "output_type": "stream",
     "text": [
      "700 Time: 8.15999984741211, State: [1. 2. 3. 4. 5. 6.]\n"
     ]
    }
   ],
   "source": [
    "port = \"COM3\"\n",
    "baudrate = 576000\n",
    "timeout = 10\n",
    "\n",
    "with Serial(port, baudrate, timeout=timeout) as ser:\n",
    "    message = np.zeros(7, dtype=np.float32)\n",
    "    state = np.zeros(6, dtype=np.float32)\n",
    "    control = np.zeros(14400, dtype=np.float32)\n",
    "    control[-1] = 3.14\n",
    "    counter = 0\n",
    "    sleep(1)\n",
    "    ser.reset_input_buffer()\n",
    "    ser.reset_output_buffer()\n",
    "    ser.flush()\n",
    "    ser.read_until(b\"start\")\n",
    "\n",
    "    while ser.is_open:\n",
    "        if ser.in_waiting == 0:\n",
    "            continue\n",
    "        \n",
    "        ser.read_until(b\"msg\")\n",
    "        message = np.frombuffer(ser.read(message.nbytes), dtype=np.float32)\n",
    "        time = message[0]\n",
    "        state = message[1:7]\n",
    "\n",
    "        if counter % 100 == 0:\n",
    "            print(f\"{counter} Time: {time}, State: {state}\")\n",
    "\n",
    "        if counter % 1000 == 0:\n",
    "            def write_control():\n",
    "                ser.write(b\"s\")\n",
    "                ser.write(control.tobytes())\n",
    "            Thread(target=write_control).start()\n",
    "        counter += 1    "
   ]
  }
 ],
 "metadata": {
  "kernelspec": {
   "display_name": "Python 3",
   "language": "python",
   "name": "python3"
  },
  "language_info": {
   "codemirror_mode": {
    "name": "ipython",
    "version": 3
   },
   "file_extension": ".py",
   "mimetype": "text/x-python",
   "name": "python",
   "nbconvert_exporter": "python",
   "pygments_lexer": "ipython3",
   "version": "3.11.3"
  },
  "orig_nbformat": 4
 },
 "nbformat": 4,
 "nbformat_minor": 2
}
