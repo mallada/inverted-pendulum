{
 "cells": [
  {
   "cell_type": "code",
   "execution_count": 1,
   "metadata": {},
   "outputs": [],
   "source": [
    "from serial import Serial\n",
    "import numpy as np\n",
    "from time import sleep\n",
    "from threading import Thread"
   ]
  },
  {
   "cell_type": "code",
   "execution_count": 2,
   "metadata": {},
   "outputs": [
    {
     "name": "stdout",
     "output_type": "stream",
     "text": [
      "0 Time: 0.029999999329447746, State: [1. 2. 3. 4. 5. 6.]\n",
      "100 Time: 2.4100000858306885, State: [1. 2. 3. 4. 5. 6.]\n",
      "200 Time: 3.4100000858306885, State: [1. 2. 3. 4. 5. 6.]\n",
      "300 Time: 4.409999847412109, State: [1. 2. 3. 4. 5. 6.]\n",
      "400 Time: 5.409999847412109, State: [1. 2. 3. 4. 5. 6.]\n",
      "500 Time: 6.409999847412109, State: [1. 2. 3. 4. 5. 6.]\n",
      "600 Time: 7.409999847412109, State: [1. 2. 3. 4. 5. 6.]\n",
      "700 Time: 8.40999984741211, State: [1. 2. 3. 4. 5. 6.]\n",
      "800 Time: 9.40999984741211, State: [1. 2. 3. 4. 5. 6.]\n",
      "900 Time: 10.40999984741211, State: [1. 2. 3. 4. 5. 6.]\n",
      "1000 Time: 11.40999984741211, State: [1. 2. 3. 4. 5. 6.]\n",
      "1100 Time: 13.789999961853027, State: [1. 2. 3. 4. 5. 6.]\n",
      "1200 Time: 14.789999961853027, State: [1. 2. 3. 4. 5. 6.]\n",
      "1300 Time: 15.789999961853027, State: [1. 2. 3. 4. 5. 6.]\n",
      "1400 Time: 16.790000915527344, State: [1. 2. 3. 4. 5. 6.]\n",
      "1500 Time: 17.790000915527344, State: [1. 2. 3. 4. 5. 6.]\n",
      "1600 Time: 18.790000915527344, State: [1. 2. 3. 4. 5. 6.]\n",
      "1700 Time: 19.790000915527344, State: [1. 2. 3. 4. 5. 6.]\n",
      "1800 Time: 20.790000915527344, State: [1. 2. 3. 4. 5. 6.]\n",
      "1900 Time: 21.790000915527344, State: [1. 2. 3. 4. 5. 6.]\n",
      "2000 Time: 22.790000915527344, State: [1. 2. 3. 4. 5. 6.]\n",
      "2100 Time: 25.170000076293945, State: [1. 2. 3. 4. 5. 6.]\n",
      "2200 Time: 26.170000076293945, State: [1. 2. 3. 4. 5. 6.]\n",
      "2300 Time: 27.170000076293945, State: [1. 2. 3. 4. 5. 6.]\n",
      "2400 Time: 28.170000076293945, State: [1. 2. 3. 4. 5. 6.]\n",
      "2500 Time: 29.170000076293945, State: [1. 2. 3. 4. 5. 6.]\n",
      "2600 Time: 30.170000076293945, State: [1. 2. 3. 4. 5. 6.]\n",
      "2700 Time: 31.170000076293945, State: [1. 2. 3. 4. 5. 6.]\n",
      "2800 Time: 32.16999816894531, State: [1. 2. 3. 4. 5. 6.]\n",
      "2900 Time: 33.16999816894531, State: [1. 2. 3. 4. 5. 6.]\n",
      "3000 Time: 34.16999816894531, State: [1. 2. 3. 4. 5. 6.]\n",
      "3100 Time: 36.54999923706055, State: [1. 2. 3. 4. 5. 6.]\n",
      "3200 Time: 37.54999923706055, State: [1. 2. 3. 4. 5. 6.]\n",
      "3300 Time: 38.54999923706055, State: [1. 2. 3. 4. 5. 6.]\n",
      "3400 Time: 39.54999923706055, State: [1. 2. 3. 4. 5. 6.]\n",
      "3500 Time: 40.54999923706055, State: [1. 2. 3. 4. 5. 6.]\n",
      "3600 Time: 41.54999923706055, State: [1. 2. 3. 4. 5. 6.]\n",
      "3700 Time: 42.54999923706055, State: [1. 2. 3. 4. 5. 6.]\n",
      "3800 Time: 43.54999923706055, State: [1. 2. 3. 4. 5. 6.]\n",
      "3900 Time: 44.54999923706055, State: [1. 2. 3. 4. 5. 6.]\n",
      "4000 Time: 45.54999923706055, State: [1. 2. 3. 4. 5. 6.]\n",
      "4100 Time: 47.93000030517578, State: [1. 2. 3. 4. 5. 6.]\n",
      "4200 Time: 48.93000030517578, State: [1. 2. 3. 4. 5. 6.]\n",
      "4300 Time: 49.93000030517578, State: [1. 2. 3. 4. 5. 6.]\n",
      "4400 Time: 50.93000030517578, State: [1. 2. 3. 4. 5. 6.]\n"
     ]
    },
    {
     "ename": "KeyboardInterrupt",
     "evalue": "",
     "output_type": "error",
     "traceback": [
      "\u001b[1;31m---------------------------------------------------------------------------\u001b[0m",
      "\u001b[1;31mKeyboardInterrupt\u001b[0m                         Traceback (most recent call last)",
      "Cell \u001b[1;32mIn[2], line 18\u001b[0m\n\u001b[0;32m     15\u001b[0m ser\u001b[39m.\u001b[39mread_until(\u001b[39mb\u001b[39m\u001b[39m\"\u001b[39m\u001b[39mstart\u001b[39m\u001b[39m\"\u001b[39m)\n\u001b[0;32m     17\u001b[0m \u001b[39mwhile\u001b[39;00m ser\u001b[39m.\u001b[39mis_open:\n\u001b[1;32m---> 18\u001b[0m     \u001b[39mif\u001b[39;00m ser\u001b[39m.\u001b[39;49min_waiting \u001b[39m==\u001b[39m \u001b[39m0\u001b[39m:\n\u001b[0;32m     19\u001b[0m         \u001b[39mcontinue\u001b[39;00m\n\u001b[0;32m     21\u001b[0m     ser\u001b[39m.\u001b[39mread_until(\u001b[39mb\u001b[39m\u001b[39m\"\u001b[39m\u001b[39mmsg\u001b[39m\u001b[39m\"\u001b[39m)\n",
      "File \u001b[1;32mc:\\Users\\sacka\\AppData\\Local\\Programs\\Python\\Python311\\Lib\\site-packages\\serial\\serialwin32.py:258\u001b[0m, in \u001b[0;36mSerial.in_waiting\u001b[1;34m(self)\u001b[0m\n\u001b[0;32m    256\u001b[0m flags \u001b[39m=\u001b[39m win32\u001b[39m.\u001b[39mDWORD()\n\u001b[0;32m    257\u001b[0m comstat \u001b[39m=\u001b[39m win32\u001b[39m.\u001b[39mCOMSTAT()\n\u001b[1;32m--> 258\u001b[0m \u001b[39mif\u001b[39;00m \u001b[39mnot\u001b[39;00m win32\u001b[39m.\u001b[39;49mClearCommError(\u001b[39mself\u001b[39;49m\u001b[39m.\u001b[39;49m_port_handle, ctypes\u001b[39m.\u001b[39;49mbyref(flags), ctypes\u001b[39m.\u001b[39;49mbyref(comstat)):\n\u001b[0;32m    259\u001b[0m     \u001b[39mraise\u001b[39;00m SerialException(\u001b[39m\"\u001b[39m\u001b[39mClearCommError failed (\u001b[39m\u001b[39m{!r}\u001b[39;00m\u001b[39m)\u001b[39m\u001b[39m\"\u001b[39m\u001b[39m.\u001b[39mformat(ctypes\u001b[39m.\u001b[39mWinError()))\n\u001b[0;32m    260\u001b[0m \u001b[39mreturn\u001b[39;00m comstat\u001b[39m.\u001b[39mcbInQue\n",
      "\u001b[1;31mKeyboardInterrupt\u001b[0m: "
     ]
    }
   ],
   "source": [
    "port = \"COM3\"\n",
    "baudrate = 500000\n",
    "timeout = 10\n",
    "\n",
    "with Serial(port, baudrate, timeout=timeout) as ser:\n",
    "    message = np.zeros(7, dtype=np.float32)\n",
    "    state = np.zeros(6, dtype=np.float32)\n",
    "    control = np.zeros(15600, dtype=np.float32)\n",
    "    control[-1] = 3.14\n",
    "    counter = 0\n",
    "    sleep(1)\n",
    "    ser.reset_input_buffer()\n",
    "    ser.reset_output_buffer()\n",
    "    ser.flush()\n",
    "    ser.read_until(b\"start\")\n",
    "\n",
    "    while ser.is_open:\n",
    "        if ser.in_waiting == 0:\n",
    "            continue\n",
    "        \n",
    "        ser.read_until(b\"msg\")\n",
    "        message = np.frombuffer(ser.read(message.nbytes), dtype=np.float32)\n",
    "        time = message[0]\n",
    "        state = message[1:7]\n",
    "\n",
    "        if counter % 100 == 0:\n",
    "            print(f\"{counter} Time: {time}, State: {state}\")\n",
    "\n",
    "        if counter % 1000 == 0:\n",
    "            def write_control():\n",
    "                ser.write(b\"t\")\n",
    "                ser.write(control.tobytes())\n",
    "            Thread(target=write_control).start()\n",
    "        counter += 1    "
   ]
  }
 ],
 "metadata": {
  "kernelspec": {
   "display_name": "Python 3",
   "language": "python",
   "name": "python3"
  },
  "language_info": {
   "codemirror_mode": {
    "name": "ipython",
    "version": 3
   },
   "file_extension": ".py",
   "mimetype": "text/x-python",
   "name": "python",
   "nbconvert_exporter": "python",
   "pygments_lexer": "ipython3",
   "version": "3.11.3"
  },
  "orig_nbformat": 4
 },
 "nbformat": 4,
 "nbformat_minor": 2
}
