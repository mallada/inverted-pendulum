{
 "cells": [
  {
   "cell_type": "code",
   "execution_count": 2,
   "metadata": {},
   "outputs": [],
   "source": [
    "from gekko import GEKKO\n",
    "import numpy as np\n",
    "import matplotlib.pyplot as plt"
   ]
  },
  {
   "cell_type": "code",
   "execution_count": 3,
   "metadata": {},
   "outputs": [
    {
     "name": "stdout",
     "output_type": "stream",
     "text": [
      " ----------------------------------------------------------------\n",
      " APMonitor, Version 1.0.0\n",
      " APMonitor Optimization Suite\n",
      " ----------------------------------------------------------------\n",
      " \n",
      " \n",
      " --------- APM Model Size ------------\n",
      " Each time step contains\n",
      "   Objects      :  0\n",
      "   Constants    :  0\n",
      "   Variables    :  1\n",
      "   Intermediates:  0\n",
      "   Connections  :  0\n",
      "   Equations    :  1\n",
      "   Residuals    :  1\n",
      " \n",
      " Number of state variables:    1\n",
      " Number of total equations: -  1\n",
      " Number of slack variables: -  0\n",
      " ---------------------------------------\n",
      " Degrees of freedom       :    0\n",
      " \n",
      " ----------------------------------------------\n",
      " Steady State Optimization with APOPT Solver\n",
      " ----------------------------------------------\n",
      " \n",
      " Iter    Objective  Convergence\n",
      "    0  5.62500E-21  3.75000E-01\n",
      "    1  5.06250E-22  1.40625E-01\n",
      "    2  6.09849E-24  1.26562E-02\n",
      "    3  9.29223E-28  1.52462E-04\n",
      "    4  9.29223E-28  1.52462E-04\n",
      " Successful solution\n",
      " \n",
      " ---------------------------------------------------\n",
      " Solver         :  APOPT (v1.0)\n",
      " Solution time  :  0.014599999999999998 sec\n",
      " Objective      :  0.\n",
      " Successful solution\n",
      " ---------------------------------------------------\n",
      " \n",
      "\n",
      "[1.0000000465]\n"
     ]
    }
   ],
   "source": [
    "# 1: Install Python GEKKO and Change Options\n",
    "# https://www.youtube.com/watch?v=NJaJPgZZFZ0&list=PLLBUgWXdTBDjxcpH9hRuq-bsm_ti2UvoB&index=1\n",
    "\n",
    "m = GEKKO(remote=False)\n",
    "y = m.Var(value = 2)\n",
    "m.Equation(y**2==1)\n",
    "m.options.SOLVER=1 # APOPT\n",
    "m.solve()\n",
    "print(y.value)"
   ]
  },
  {
   "cell_type": "code",
   "execution_count": 4,
   "metadata": {},
   "outputs": [
    {
     "name": "stdout",
     "output_type": "stream",
     "text": [
      "[0.5] [-0.25]\n",
      "[ 0.5  -0.25]\n"
     ]
    }
   ],
   "source": [
    "# 2: Solving Linear Equations in Python\n",
    "# https://www.youtube.com/watch?v=K8e7i5CqVTc&list=PLLBUgWXdTBDjxcpH9hRuq-bsm_ti2UvoB&index=2\n",
    "\n",
    "m = GEKKO(remote=False)\n",
    "x = m.Var()\n",
    "y = m.Var()\n",
    "m.Equation(3*x+2*y==1)\n",
    "m.Equation(x+2*y==0)\n",
    "m.solve(disp=False)\n",
    "print(x.VALUE, y.VALUE)\n",
    "\n",
    "A = np.array([[3,2],[1,2]])\n",
    "b = np.array([1,0])\n",
    "z = np.linalg.solve(A,b)\n",
    "print(z)"
   ]
  },
  {
   "cell_type": "code",
   "execution_count": 5,
   "metadata": {},
   "outputs": [
    {
     "name": "stdout",
     "output_type": "stream",
     "text": [
      "[0.49999999531] [-0.24999999297] [-0.49999999531]\n"
     ]
    }
   ],
   "source": [
    "m = GEKKO(remote=False)\n",
    "x = m.Var()\n",
    "y = m.Var()\n",
    "z = m.Var()\n",
    "m.Obj(x**2)\n",
    "m.Equation(3*x+2*y==1)\n",
    "m.Equation([x+2*y<0,x+z==0])\n",
    "m.solve(disp=False)\n",
    "print(x.VALUE, y.VALUE, z.VALUE)"
   ]
  },
  {
   "cell_type": "code",
   "execution_count": 15,
   "metadata": {},
   "outputs": [
    {
     "name": "stdout",
     "output_type": "stream",
     "text": [
      "[0.89442719547] [-0.44721359773]\n"
     ]
    }
   ],
   "source": [
    "# 3: Solve Nonlinear Equations\n",
    "# https://www.youtube.com/watch?v=CzWdejCDOAg&list=PLLBUgWXdTBDjxcpH9hRuq-bsm_ti2UvoB&index=3\n",
    "\n",
    "m = GEKKO(remote=False)\n",
    "x = m.Var(value=-1)\n",
    "y = m.Var(value=1)\n",
    "m.Obj(-x)\n",
    "m.Equation(x+2*y==0)\n",
    "m.Equation(x**2+y**2<1)\n",
    "m.solve(disp=False)\n",
    "print(x.VALUE, y.VALUE)"
   ]
  },
  {
   "cell_type": "code",
   "execution_count": 28,
   "metadata": {},
   "outputs": [
    {
     "data": {
      "image/png": "[encoded data removed]",
      "text/plain": [
       "<Figure size 640x480 with 1 Axes>"
      ]
     },
     "metadata": {},
     "output_type": "display_data"
    }
   ],
   "source": [
    "# 4: Cubic Spline in Python GEKKO\n",
    "# https://www.youtube.com/watch?v=lZEI36_Bsv4&list=PLLBUgWXdTBDjxcpH9hRuq-bsm_ti2UvoB&index=4\n",
    "\n",
    "xm = np.array([0,1,2,3,4,5])\n",
    "ym = np.array([0.1,0.2,0.3,0.5,1.0,0.9])\n",
    "\n",
    "m = GEKKO(remote=False)\n",
    "x = m.Param(value=np.linspace(-1,6))\n",
    "y = m.Var()\n",
    "m.cspline(x,y,xm,ym)\n",
    "m.options.IMODE = 2\n",
    "m.solve(disp=False)\n",
    "\n",
    "p = GEKKO(remote=False)\n",
    "px = p.Var(value=1,lb=0,ub=5)\n",
    "py = p.Var()\n",
    "p.Obj(-py)\n",
    "p.cspline(px,py,xm,ym)\n",
    "p.solve(disp=False)\n",
    "\n",
    "plt.plot(xm,ym,'bo',label='Data')\n",
    "plt.plot(x.VALUE,y.VALUE,'r--',label=\"cubic spline\")\n",
    "plt.plot(px,py,\"ko\",label=\"maximum\")\n",
    "plt.legend()\n",
    "plt.show()"
   ]
  },
  {
   "cell_type": "code",
   "execution_count": null,
   "metadata": {},
   "outputs": [],
   "source": [
    "# 5: Linear and Polynomial Regression\n",
    "# https://www.youtube.com/watch?v=P7lHkcKrn1k&list=PLLBUgWXdTBDjxcpH9hRuq-bsm_ti2UvoB&index=5\n",
    "\n"
   ]
  }
 ],
 "metadata": {
  "kernelspec": {
   "display_name": "Python 3",
   "language": "python",
   "name": "python3"
  },
  "language_info": {
   "codemirror_mode": {
    "name": "ipython",
    "version": 3
   },
   "file_extension": ".py",
   "mimetype": "text/x-python",
   "name": "python",
   "nbconvert_exporter": "python",
   "pygments_lexer": "ipython3",
   "version": "3.11.3"
  },
  "orig_nbformat": 4
 },
 "nbformat": 4,
 "nbformat_minor": 2
}
