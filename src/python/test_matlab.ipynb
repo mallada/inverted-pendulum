{
 "cells": [
  {
   "cell_type": "code",
   "execution_count": 4,
   "metadata": {},
   "outputs": [
    {
     "data": {
      "text/plain": [
       "<matlab.engine.matlabengine.MatlabFunc at 0x160a511a290>"
      ]
     },
     "execution_count": 4,
     "metadata": {},
     "output_type": "execute_result"
    }
   ],
   "source": [
    "import matlab.engine\n",
    "eng = matlab.engine.start_matlab()"
   ]
  },
  {
   "cell_type": "code",
   "execution_count": 6,
   "metadata": {},
   "outputs": [],
   "source": [
    "eng.cartpolesystem(nargout=0)"
   ]
  },
  {
   "cell_type": "code",
   "execution_count": 7,
   "metadata": {},
   "outputs": [
    {
     "ename": "RuntimeError",
     "evalue": "Error in Function::Function for 'nlp' [MXFunction] at .../casadi/core/function.cpp:249:\n.../casadi/core/function_internal.cpp:145: Error calling MXFunction::init for 'nlp':\n.../casadi/core/mx_function.cpp:406: nlp::init: Initialization failed since variables [y] are free. These symbols occur in the output expressions but you forgot to declare these as inputs. Set option 'allow_free' to allow free variables.",
     "output_type": "error",
     "traceback": [
      "\u001b[1;31m---------------------------------------------------------------------------\u001b[0m",
      "\u001b[1;31mRuntimeError\u001b[0m                              Traceback (most recent call last)",
      "Cell \u001b[1;32mIn[7], line 17\u001b[0m\n\u001b[0;32m     15\u001b[0m \u001b[39m# Step 4: Create a function\u001b[39;00m\n\u001b[0;32m     16\u001b[0m variables \u001b[39m=\u001b[39m [x]  \u001b[39m# List of variables in the equation, here we only have 'x'\u001b[39;00m\n\u001b[1;32m---> 17\u001b[0m nlp \u001b[39m=\u001b[39m ca\u001b[39m.\u001b[39;49mFunction(\u001b[39m'\u001b[39;49m\u001b[39mnlp\u001b[39;49m\u001b[39m'\u001b[39;49m, variables, [equality_expression])\n\u001b[0;32m     19\u001b[0m \u001b[39m# Now you can use the function to solve for 'x' given a specific value of 'y'.\u001b[39;00m\n\u001b[0;32m     20\u001b[0m \u001b[39m# For example, to find 'x' when 'y' is 2:\u001b[39;00m\n\u001b[0;32m     21\u001b[0m y_value \u001b[39m=\u001b[39m \u001b[39m2\u001b[39m\n",
      "File \u001b[1;32mc:\\Users\\sacka\\AppData\\Local\\Programs\\Python\\Python310\\lib\\site-packages\\casadi\\casadi.py:23583\u001b[0m, in \u001b[0;36mFunction.__init__\u001b[1;34m(self, *args)\u001b[0m\n\u001b[0;32m  23361\u001b[0m \u001b[39mdef\u001b[39;00m \u001b[39m__init__\u001b[39m(\u001b[39mself\u001b[39m, \u001b[39m*\u001b[39margs):\n\u001b[0;32m  23362\u001b[0m \u001b[39m    \u001b[39m\u001b[39m\"\"\"\u001b[39;00m\n\u001b[0;32m  23363\u001b[0m \n\u001b[0;32m  23364\u001b[0m \n\u001b[1;32m   (...)\u001b[0m\n\u001b[0;32m  23581\u001b[0m \n\u001b[0;32m  23582\u001b[0m \u001b[39m    \"\"\"\u001b[39;00m\n\u001b[1;32m> 23583\u001b[0m     this \u001b[39m=\u001b[39m _casadi\u001b[39m.\u001b[39;49mnew_Function(\u001b[39m*\u001b[39;49margs)\n\u001b[0;32m  23584\u001b[0m     \u001b[39mtry\u001b[39;00m:\n\u001b[0;32m  23585\u001b[0m         \u001b[39mself\u001b[39m\u001b[39m.\u001b[39mthis\u001b[39m.\u001b[39mappend(this)\n",
      "\u001b[1;31mRuntimeError\u001b[0m: Error in Function::Function for 'nlp' [MXFunction] at .../casadi/core/function.cpp:249:\n.../casadi/core/function_internal.cpp:145: Error calling MXFunction::init for 'nlp':\n.../casadi/core/mx_function.cpp:406: nlp::init: Initialization failed since variables [y] are free. These symbols occur in the output expressions but you forgot to declare these as inputs. Set option 'allow_free' to allow free variables."
     ]
    }
   ],
   "source": [
    "import casadi as ca\n",
    "\n",
    "# Step 1: Define the equation\n",
    "x = ca.MX.sym('x')  # Define symbolic variable 'x'\n",
    "y = ca.MX.sym('y')  # Define symbolic variable 'y'\n",
    "equation = x**2 + 2*x*y - y**2  # Your equation goes here\n",
    "\n",
    "# Step 2: Reorganize the equation\n",
    "# Let's say you want to isolate variable 'y', so move all terms with 'y' to the left side:\n",
    "manipulated_equation = equation - y**2 + 2*y*x\n",
    "\n",
    "# Step 3: Create an equality expression\n",
    "equality_expression = ca.eq(manipulated_equation, 0)\n",
    "\n",
    "# Step 4: Create a function\n",
    "variables = [x]  # List of variables in the equation, here we only have 'x'\n",
    "nlp = ca.Function('nlp', variables, [equality_expression])\n",
    "\n",
    "# Now you can use the function to solve for 'x' given a specific value of 'y'.\n",
    "# For example, to find 'x' when 'y' is 2:\n",
    "y_value = 2\n",
    "solution = nlp(y_value)\n",
    "\n",
    "print(\"For y =\", y_value, \", x =\", solution)"
   ]
  }
 ],
 "metadata": {
  "kernelspec": {
   "display_name": "Python 3",
   "language": "python",
   "name": "python3"
  },
  "language_info": {
   "codemirror_mode": {
    "name": "ipython",
    "version": 3
   },
   "file_extension": ".py",
   "mimetype": "text/x-python",
   "name": "python",
   "nbconvert_exporter": "python",
   "pygments_lexer": "ipython3",
   "version": "3.10.11"
  },
  "orig_nbformat": 4
 },
 "nbformat": 4,
 "nbformat_minor": 2
}
