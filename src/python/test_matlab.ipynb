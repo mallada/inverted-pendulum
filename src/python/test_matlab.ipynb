{
 "cells": [
  {
   "cell_type": "code",
   "execution_count": 4,
   "metadata": {},
   "outputs": [
    {
     "data": {
      "text/plain": [
       "<matlab.engine.matlabengine.MatlabFunc at 0x160a511a290>"
      ]
     },
     "execution_count": 4,
     "metadata": {},
     "output_type": "execute_result"
    }
   ],
   "source": [
    "import matlab.engine\n",
    "eng = matlab.engine.start_matlab()"
   ]
  },
  {
   "cell_type": "code",
   "execution_count": 6,
   "metadata": {},
   "outputs": [],
   "source": [
    "eng.cartpolesystem(nargout=0)"
   ]
  },
  {
   "cell_type": "code",
   "execution_count": null,
   "metadata": {},
   "outputs": [],
   "source": [
    "import casadi as ca\n",
    "\n",
    "# Step 1: Define the equation\n",
    "x = ca.MX.sym('x')  # Define symbolic variable 'x'\n",
    "y = ca.MX.sym('y')  # Define symbolic variable 'y'\n",
    "equation = x**2 + 2*x*y - y**2  # Your equation goes here\n",
    "\n",
    "# Step 2: Reorganize the equation\n",
    "# Let's say you want to isolate variable 'y', so move all terms with 'y' to the left side:\n",
    "manipulated_equation = equation - y**2 + 2*y*x\n",
    "\n",
    "# Step 3: Create an equality expression\n",
    "equality_expression = ca.eq(manipulated_equation, 0)\n",
    "\n",
    "# Step 4: Create a function\n",
    "variables = [x]  # List of variables in the equation, here we only have 'x'\n",
    "nlp = ca.Function('nlp', variables, [equality_expression])\n",
    "\n",
    "# Now you can use the function to solve for 'x' given a specific value of 'y'.\n",
    "# For example, to find 'x' when 'y' is 2:\n",
    "y_value = 2\n",
    "solution = nlp(y_value)\n",
    "\n",
    "print(\"For y =\", y_value, \", x =\", solution)"
   ]
  }
 ],
 "metadata": {
  "kernelspec": {
   "display_name": "Python 3",
   "language": "python",
   "name": "python3"
  },
  "language_info": {
   "codemirror_mode": {
    "name": "ipython",
    "version": 3
   },
   "file_extension": ".py",
   "mimetype": "text/x-python",
   "name": "python",
   "nbconvert_exporter": "python",
   "pygments_lexer": "ipython3",
   "version": "3.10.11"
  },
  "orig_nbformat": 4
 },
 "nbformat": 4,
 "nbformat_minor": 2
}
