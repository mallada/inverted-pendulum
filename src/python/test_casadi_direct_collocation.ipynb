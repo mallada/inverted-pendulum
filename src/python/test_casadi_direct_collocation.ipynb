{
 "cells": [
  {
   "cell_type": "code",
   "execution_count": 25,
   "metadata": {},
   "outputs": [],
   "source": [
    "#\n",
    "#     MIT No Attribution\n",
    "#\n",
    "#     Copyright (C) 2010-2023 Joel Andersson, Joris Gillis, Moritz Diehl, KU Leuven.\n",
    "#\n",
    "#     Permission is hereby granted, free of charge, to any person obtaining a copy of this\n",
    "#     software and associated documentation files (the \"Software\"), to deal in the Software\n",
    "#     without restriction, including without limitation the rights to use, copy, modify,\n",
    "#     merge, publish, distribute, sublicense, and/or sell copies of the Software, and to\n",
    "#     permit persons to whom the Software is furnished to do so.\n",
    "#\n",
    "#     THE SOFTWARE IS PROVIDED \"AS IS\", WITHOUT WARRANTY OF ANY KIND, EXPRESS OR IMPLIED,\n",
    "#     INCLUDING BUT NOT LIMITED TO THE WARRANTIES OF MERCHANTABILITY, FITNESS FOR A\n",
    "#     PARTICULAR PURPOSE AND NONINFRINGEMENT. IN NO EVENT SHALL THE AUTHORS OR COPYRIGHT\n",
    "#     HOLDERS BE LIABLE FOR ANY CLAIM, DAMAGES OR OTHER LIABILITY, WHETHER IN AN ACTION\n",
    "#     OF CONTRACT, TORT OR OTHERWISE, ARISING FROM, OUT OF OR IN CONNECTION WITH THE\n",
    "#     SOFTWARE OR THE USE OR OTHER DEALINGS IN THE SOFTWARE.\n",
    "#\n",
    "import casadi as ca\n",
    "import numpy as np\n",
    "import matplotlib.pyplot as plt\n"
   ]
  },
  {
   "cell_type": "code",
   "execution_count": 26,
   "metadata": {},
   "outputs": [
    {
     "data": {
      "text/plain": [
       "array([0.        , 0.11270167, 0.5       , 0.88729833])"
      ]
     },
     "execution_count": 26,
     "metadata": {},
     "output_type": "execute_result"
    }
   ],
   "source": [
    "# Degree of interpolating polynomial\n",
    "d = 3\n",
    "\n",
    "# Get collocation points\n",
    "tau_root = np.append(0, ca.collocation_points(d, 'legendre'))\n",
    "tau_root"
   ]
  },
  {
   "cell_type": "code",
   "execution_count": 27,
   "metadata": {},
   "outputs": [],
   "source": [
    "# Coefficients of the collocation equation\n",
    "C = np.zeros((d+1,d+1))\n",
    "\n",
    "# Coefficients of the continuity equation\n",
    "D = np.zeros(d+1)\n",
    "\n",
    "# Coefficients of the quadrature function\n",
    "B = np.zeros(d+1)"
   ]
  },
  {
   "cell_type": "code",
   "execution_count": 28,
   "metadata": {},
   "outputs": [],
   "source": [
    "# Construct polynomial basis\n",
    "for j in range(d+1):\n",
    "    # Construct Lagrange polynomials to get the polynomial basis at the collocation point\n",
    "    p = np.poly1d([1])\n",
    "    for r in range(d+1):\n",
    "        if r != j:\n",
    "            p *= np.poly1d([1, -tau_root[r]]) / (tau_root[j]-tau_root[r])\n",
    "\n",
    "    # Evaluate the polynomial at the final time to get the coefficients of the continuity equation\n",
    "    D[j] = p(1.0)\n",
    "\n",
    "    # Evaluate the time derivative of the polynomial at all collocation points to get the coefficients of the continuity equation\n",
    "    pder = np.polyder(p)\n",
    "    for r in range(d+1):\n",
    "        C[j,r] = pder(tau_root[r])\n",
    "\n",
    "    # Evaluate the integral of the polynomial to get the coefficients of the quadrature function\n",
    "    pint = np.polyint(p)\n",
    "    B[j] = pint(1.0)"
   ]
  },
  {
   "cell_type": "code",
   "execution_count": 29,
   "metadata": {},
   "outputs": [],
   "source": [
    "# Time horizon\n",
    "T = 10.\n",
    "\n",
    "# Declare model variables\n",
    "x1 = ca.SX.sym('x1')\n",
    "x2 = ca.SX.sym('x2')\n",
    "x = ca.vertcat(x1, x2)\n",
    "u = ca.SX.sym('u')"
   ]
  },
  {
   "cell_type": "code",
   "execution_count": 30,
   "metadata": {},
   "outputs": [
    {
     "name": "stdout",
     "output_type": "stream",
     "text": [
      "f: f:(x[2],u)->(xdot[2],L) SXFunction\n"
     ]
    }
   ],
   "source": [
    "# Model equations\n",
    "xdot = ca.vertcat((1-x2**2)*x1 - x2 + u, x1)\n",
    "\n",
    "# Objective term\n",
    "L = x1**2 + x2**2 + u**2\n",
    "\n",
    "# Continuous time dynamics\n",
    "f = ca.Function('f', [x, u], [xdot, L], ['x', 'u'], ['xdot', 'L'])\n",
    "print(\"f:\", f)"
   ]
  },
  {
   "cell_type": "code",
   "execution_count": 31,
   "metadata": {},
   "outputs": [],
   "source": [
    "# Control discretization\n",
    "N = 20 # number of control intervals\n",
    "h = T/N\n",
    "\n",
    "# Start with an empty NLP\n",
    "w=[]\n",
    "w0 = []\n",
    "lbw = []\n",
    "ubw = []\n",
    "J = 0\n",
    "g=[]\n",
    "lbg = []\n",
    "ubg = []\n",
    "\n",
    "# For plotting x and u given w\n",
    "x_plot = []\n",
    "u_plot = []\n"
   ]
  },
  {
   "cell_type": "code",
   "execution_count": 32,
   "metadata": {},
   "outputs": [],
   "source": [
    "# \"Lift\" initial conditions\n",
    "Xk = ca.MX.sym('X0', 2)\n",
    "w.append(Xk)\n",
    "lbw.append([0, 1])\n",
    "ubw.append([0, 1])\n",
    "w0.append([0, 1])\n",
    "x_plot.append(Xk)"
   ]
  },
  {
   "cell_type": "code",
   "execution_count": 33,
   "metadata": {},
   "outputs": [],
   "source": [
    "# Formulate the NLP\n",
    "for k in range(N):\n",
    "    # New NLP variable for the control\n",
    "    Uk = ca.MX.sym('U_' + str(k))\n",
    "    w.append(Uk)\n",
    "    lbw.append([-1])\n",
    "    ubw.append([1])\n",
    "    w0.append([0])\n",
    "    u_plot.append(Uk)\n",
    "\n",
    "    # State at collocation points\n",
    "    Xc = []\n",
    "    for j in range(d):\n",
    "        Xkj = ca.MX.sym('X_'+str(k)+'_'+str(j), 2)\n",
    "        Xc.append(Xkj)\n",
    "        w.append(Xkj)\n",
    "        lbw.append([-0.25, -np.inf])\n",
    "        ubw.append([np.inf,  np.inf])\n",
    "        w0.append([0, 0])\n",
    "\n",
    "    # Loop over collocation points\n",
    "    Xk_end = D[0]*Xk\n",
    "    for j in range(1,d+1):\n",
    "       # Expression for the state derivative at the collocation point\n",
    "       xp = C[0,j]*Xk\n",
    "       for r in range(d): xp = xp + C[r+1,j]*Xc[r]\n",
    "\n",
    "       # Append collocation equations\n",
    "       fj, qj = f(Xc[j-1],Uk)\n",
    "       g.append(h*fj - xp)\n",
    "       lbg.append([0, 0])\n",
    "       ubg.append([0, 0])\n",
    "\n",
    "       # Add contribution to the end state\n",
    "       Xk_end = Xk_end + D[j]*Xc[j-1];\n",
    "\n",
    "       # Add contribution to quadrature function\n",
    "       J = J + B[j]*qj*h\n",
    "\n",
    "    # New NLP variable for state at end of interval\n",
    "    Xk = ca.MX.sym('X_' + str(k+1), 2)\n",
    "    w.append(Xk)\n",
    "    lbw.append([-0.25, -np.inf])\n",
    "    ubw.append([np.inf,  np.inf])\n",
    "    w0.append([0, 0])\n",
    "    x_plot.append(Xk)\n",
    "\n",
    "    # Add equality constraint\n",
    "    g.append(Xk_end-Xk)\n",
    "    lbg.append([0, 0])\n",
    "    ubg.append([0, 0])"
   ]
  },
  {
   "cell_type": "code",
   "execution_count": 34,
   "metadata": {},
   "outputs": [
    {
     "name": "stdout",
     "output_type": "stream",
     "text": [
      "This is Ipopt version 3.14.11, running with linear solver MUMPS 5.4.1.\n",
      "\n",
      "Number of nonzeros in equality constraint Jacobian...:      852\n",
      "Number of nonzeros in inequality constraint Jacobian.:        0\n",
      "Number of nonzeros in Lagrangian Hessian.............:      200\n",
      "\n",
      "Total number of variables............................:      180\n",
      "                     variables with only lower bounds:       80\n",
      "                variables with lower and upper bounds:       20\n",
      "                     variables with only upper bounds:        0\n",
      "Total number of equality constraints.................:      160\n",
      "Total number of inequality constraints...............:        0\n",
      "        inequality constraints with only lower bounds:        0\n",
      "   inequality constraints with lower and upper bounds:        0\n",
      "        inequality constraints with only upper bounds:        0\n",
      "\n",
      "iter    objective    inf_pr   inf_du lg(mu)  ||d||  lg(rg) alpha_du alpha_pr  ls\n",
      "   0  0.0000000e+00 6.00e+00 8.95e-01  -1.0 0.00e+00    -  0.00e+00 0.00e+00   0\n",
      "   1  2.2045109e+00 1.66e+00 5.86e-01  -1.0 1.12e+00    -  4.91e-01 7.23e-01h  1\n",
      "   2  5.2476750e+00 1.41e-02 1.68e-01  -1.0 3.41e-01    -  9.46e-01 1.00e+00h  1\n",
      "   3  4.3121025e+00 1.02e-02 2.99e-01  -2.5 2.70e-01    -  8.23e-01 1.00e+00f  1\n",
      "   4  3.9443525e+00 1.67e-03 2.64e-03  -2.5 1.37e-01    -  1.00e+00 1.00e+00f  1\n",
      "   5  3.7980271e+00 2.57e-04 2.93e-02  -3.8 6.00e-02    -  8.11e-01 9.36e-01f  1\n",
      "   6  3.7854840e+00 1.24e-04 1.46e+00  -3.8 2.12e-02    -  1.00e+00 5.51e-01h  1\n",
      "   7  3.7793429e+00 3.16e-05 2.99e-01  -3.8 1.33e-02    -  9.27e-01 7.95e-01f  1\n",
      "   8  3.7791201e+00 1.26e-07 3.33e-05  -3.8 8.69e-03    -  1.00e+00 1.00e+00f  1\n",
      "   9  3.7776818e+00 2.99e-07 1.88e-03  -5.7 5.70e-03    -  8.94e-01 9.01e-01f  1\n",
      "iter    objective    inf_pr   inf_du lg(mu)  ||d||  lg(rg) alpha_du alpha_pr  ls\n",
      "  10  3.7774784e+00 9.51e-08 3.16e-02  -5.7 3.65e-03    -  1.00e+00 7.89e-01f  1\n",
      "  11  3.7774785e+00 1.07e-10 4.11e-02  -5.7 1.06e-04    -  8.11e-01 1.00e+00f  1\n",
      "  12  3.7774667e+00 8.92e-09 1.19e-06  -5.7 9.96e-04    -  1.00e+00 1.00e+00h  1\n",
      "  13  3.7774604e+00 4.02e-09 1.73e-02  -8.6 2.00e-04    -  9.04e-01 5.60e-01h  1\n",
      "  14  3.7774570e+00 7.96e-11 2.00e-02  -8.6 6.85e-05    -  8.12e-01 9.93e-01f  1\n",
      "  15  3.7774567e+00 3.33e-11 3.27e-04  -8.6 6.01e-05    -  9.75e-01 1.00e+00f  1\n",
      "  16  3.7774567e+00 4.19e-13 1.51e-11  -8.6 6.79e-06    -  1.00e+00 1.00e+00h  1\n",
      "\n",
      "Number of Iterations....: 16\n",
      "\n",
      "                                   (scaled)                 (unscaled)\n",
      "Objective...............:   3.7774566843106916e+00    3.7774566843106916e+00\n",
      "Dual infeasibility......:   1.5140499964871879e-11    1.5140499964871879e-11\n",
      "Constraint violation....:   4.1894265834230282e-13    4.1894265834230282e-13\n",
      "Variable bound violation:   9.4977294917697463e-09    9.4977294917697463e-09\n",
      "Complementarity.........:   2.6873262179508815e-09    2.6873262179508815e-09\n",
      "Overall NLP error.......:   2.6873262179508815e-09    2.6873262179508815e-09\n",
      "\n",
      "\n",
      "Number of objective function evaluations             = 17\n",
      "Number of objective gradient evaluations             = 17\n",
      "Number of equality constraint evaluations            = 17\n",
      "Number of inequality constraint evaluations          = 0\n",
      "Number of equality constraint Jacobian evaluations   = 17\n",
      "Number of inequality constraint Jacobian evaluations = 0\n",
      "Number of Lagrangian Hessian evaluations             = 16\n",
      "Total seconds in IPOPT                               = 0.033\n",
      "\n",
      "EXIT: Optimal Solution Found.\n",
      "      solver  :   t_proc      (avg)   t_wall      (avg)    n_eval\n",
      "       nlp_f  |        0 (       0) 561.00us ( 33.00us)        17\n",
      "       nlp_g  |   1.00ms ( 58.82us)   1.78ms (104.53us)        17\n",
      "  nlp_grad_f  |   1.00ms ( 52.63us)   1.50ms ( 78.95us)        19\n",
      "  nlp_hess_l  |   1.00ms ( 62.50us)   3.12ms (195.25us)        16\n",
      "   nlp_jac_g  |  12.00ms (666.67us)   6.30ms (349.89us)        18\n",
      "       total  |  33.00ms ( 33.00ms)  33.51ms ( 33.51ms)         1\n"
     ]
    },
    {
     "data": {
      "image/png": "[encoded data removed]",
      "text/plain": [
       "<Figure size 640x480 with 1 Axes>"
      ]
     },
     "metadata": {},
     "output_type": "display_data"
    }
   ],
   "source": [
    "# Concatenate vectors\n",
    "w = ca.vertcat(*w)\n",
    "g = ca.vertcat(*g)\n",
    "x_plot = ca.horzcat(*x_plot)\n",
    "u_plot = ca.horzcat(*u_plot)\n",
    "w0 = np.concatenate(w0)\n",
    "lbw = np.concatenate(lbw)\n",
    "ubw = np.concatenate(ubw)\n",
    "lbg = np.concatenate(lbg)\n",
    "ubg = np.concatenate(ubg)\n",
    "\n",
    "# Create an NLP solver\n",
    "prob = {'f': J, 'x': w, 'g': g}\n",
    "solver = ca.nlpsol('solver', 'ipopt', prob)\n",
    "\n",
    "# Function to get x and u trajectories from w\n",
    "trajectories = ca.Function('trajectories', [w], [x_plot, u_plot], ['w'], ['x', 'u'])\n",
    "\n",
    "# Solve the NLP\n",
    "sol = solver(x0=w0, lbx=lbw, ubx=ubw, lbg=lbg, ubg=ubg)\n",
    "x_opt, u_opt = trajectories(sol['x'])\n",
    "x_opt = x_opt.full() # to numpy array\n",
    "u_opt = u_opt.full() # to numpy array\n",
    "\n",
    "# Plot the result\n",
    "tgrid = np.linspace(0, T, N+1)\n",
    "plt.figure(1)\n",
    "plt.clf()\n",
    "plt.plot(tgrid, x_opt[0], '--')\n",
    "plt.plot(tgrid, x_opt[1], '-')\n",
    "plt.step(tgrid, np.append(np.nan, u_opt[0]), '-.')\n",
    "plt.xlabel('t')\n",
    "plt.legend(['x1','x2','u'])\n",
    "plt.grid()\n",
    "plt.show()"
   ]
  }
 ],
 "metadata": {
  "kernelspec": {
   "display_name": "Python 3",
   "language": "python",
   "name": "python3"
  },
  "language_info": {
   "codemirror_mode": {
    "name": "ipython",
    "version": 3
   },
   "file_extension": ".py",
   "mimetype": "text/x-python",
   "name": "python",
   "nbconvert_exporter": "python",
   "pygments_lexer": "ipython3",
   "version": "3.11.3"
  },
  "orig_nbformat": 4
 },
 "nbformat": 4,
 "nbformat_minor": 2
}
