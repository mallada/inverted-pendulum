{
 "cells": [
  {
   "cell_type": "code",
   "execution_count": 3,
   "metadata": {},
   "outputs": [],
   "source": [
    "import sympy as sp\n",
    "from time import perf_counter"
   ]
  },
  {
   "cell_type": "code",
   "execution_count": 21,
   "metadata": {},
   "outputs": [
    {
     "name": "stdout",
     "output_type": "stream",
     "text": [
      "A matrix:\n",
      "[-2  1]\n",
      "B matrix:\n",
      "[1]\n",
      "C matrix:\n",
      "[-1  -2]\n",
      "D matrix:\n",
      "[0]\n",
      "0.0013186000287532806\n"
     ]
    }
   ],
   "source": [
    "# Define symbols for variables\n",
    "x, y, u = sp.symbols('x y u')\n",
    "\n",
    "# Define the system equations\n",
    "eq1 = sp.Eq(x.diff(), -2*x + y + u)\n",
    "eq2 = sp.Eq(y.diff(), -x - 2*y)\n",
    "\n",
    "start_time = perf_counter()\n",
    "# Define the linearization point\n",
    "x0 = 1\n",
    "y0 = 2\n",
    "u0 = 0\n",
    "\n",
    "# Linearize the equations\n",
    "A = sp.Matrix([[eq1.rhs.diff(var) for var in (x, y)]])\n",
    "B = sp.Matrix([[eq1.rhs.diff(u)]])\n",
    "C = sp.Matrix([[eq2.rhs.diff(var) for var in (x, y)]])\n",
    "D = sp.Matrix([[eq2.rhs.diff(u)]])\n",
    "\n",
    "# Evaluate the linearization at the operating point\n",
    "A = A.subs([(x, x0), (y, y0), (u, u0)])\n",
    "B = B.subs([(x, x0), (y, y0), (u, u0)])\n",
    "C = C.subs([(x, x0), (y, y0), (u, u0)])\n",
    "D = D.subs([(x, x0), (y, y0), (u, u0)])\n",
    "stop_time = perf_counter()\n",
    "# Print the linearized system\n",
    "print(\"A matrix:\")\n",
    "sp.pprint(A)\n",
    "print(\"B matrix:\")\n",
    "sp.pprint(B)\n",
    "print(\"C matrix:\")\n",
    "sp.pprint(C)\n",
    "print(\"D matrix:\")\n",
    "sp.pprint(D)\n",
    "print((stop_time-start_time))"
   ]
  }
 ],
 "metadata": {
  "kernelspec": {
   "display_name": "Python 3",
   "language": "python",
   "name": "python3"
  },
  "language_info": {
   "codemirror_mode": {
    "name": "ipython",
    "version": 3
   },
   "file_extension": ".py",
   "mimetype": "text/x-python",
   "name": "python",
   "nbconvert_exporter": "python",
   "pygments_lexer": "ipython3",
   "version": "3.11.3"
  },
  "orig_nbformat": 4
 },
 "nbformat": 4,
 "nbformat_minor": 2
}
