{
 "cells": [
  {
   "cell_type": "code",
   "execution_count": 25,
   "metadata": {},
   "outputs": [],
   "source": [
    "import casadi as ca\n",
    "import numpy as np"
   ]
  },
  {
   "cell_type": "code",
   "execution_count": 26,
   "metadata": {},
   "outputs": [],
   "source": [
    "num_poles = 3\n",
    "\n",
    "pole_as = [0.05, 0.1, 0.15]\n",
    "pole_ls = [0.1, 0.2, 0.3]\n",
    "pole_ms = [0.1, 0.15, 0.2]\n",
    "pole_ds = [0.01, 0.01, 0.01]\n",
    "pole_Js = [0.13, 0.12, 0.11]\n",
    "\n",
    "m_c = 0.5\n",
    "g = 9.81"
   ]
  },
  {
   "cell_type": "code",
   "execution_count": 27,
   "metadata": {},
   "outputs": [
    {
     "name": "stdout",
     "output_type": "stream",
     "text": [
      "A: (opti10_x_1+opti10_x_4)\n",
      "B: (opti10_x_2+opti10_x_7)\n",
      "dA: (opti10_x_2+opti10_x_7)\n"
     ]
    }
   ],
   "source": [
    "opti = ca.Opti()\n",
    "\n",
    "s = opti.variable()\n",
    "d_s = opti.variable()\n",
    "dd_s = opti.variable()\n",
    "thetas = [opti.variable() for i in range(num_poles)]\n",
    "d_thetas = [opti.variable() for i in range(num_poles)]\n",
    "dd_thetas = [opti.variable() for i in range(num_poles)]\n",
    "u = dd_s\n",
    "\n",
    "derivate_by_time_dict = {s: d_s, d_s: dd_s}\n",
    "for i in range(num_poles):\n",
    "    derivate_by_time_dict[thetas[i]] = d_thetas[i]\n",
    "    derivate_by_time_dict[d_thetas[i]] = dd_thetas[i]\n",
    "\n",
    "def derivate_by_time(expr):\n",
    "    for var, der in list(derivate_by_time_dict.items())[::-1]:\n",
    "        expr = ca.substitute(expr, var, der)\n",
    "    return expr\n",
    "\n",
    "A = s + thetas[0]\n",
    "B = d_s + d_thetas[0]\n",
    "print(\"A:\", A)\n",
    "print(\"B:\", B)\n",
    "print(\"dA:\", derivate_by_time(A))"
   ]
  },
  {
   "cell_type": "code",
   "execution_count": 28,
   "metadata": {},
   "outputs": [],
   "source": [
    "pole_pcs = []\n",
    "for i, (theta, a) in enumerate(zip(thetas, pole_as)):\n",
    "    prev_1 = 0\n",
    "    prev_2 = 0\n",
    "    for prev_l, prev_theta in list(zip(pole_ls, thetas))[:i]:\n",
    "        prev_1 += -prev_l*ca.sin(prev_theta)\n",
    "        prev_2 += prev_l*ca.cos(prev_theta)\n",
    "    pole_pcs.append([s-a*ca.sin(theta)+prev_1, a*ca.cos(theta)+prev_2])"
   ]
  },
  {
   "cell_type": "code",
   "execution_count": 29,
   "metadata": {},
   "outputs": [],
   "source": [
    "def square_sum(x: tuple):\n",
    "    result = 0\n",
    "    for x_i in x:\n",
    "        result += x_i**2\n",
    "    return result\n",
    "\n",
    "T_c = 1/2*m_c*d_s**2\n",
    "T_p = 1/2*sum(m*square_sum(pc) for m, pc in zip(pole_ms, pole_pcs))+1/2*sum(J*d_theta**2 for J, d_theta in zip(pole_Js, d_thetas))\n",
    "T = T_c + T_p\n",
    "V = 0\n",
    "for m, pc in zip(pole_ms, pole_pcs):\n",
    "    V += g*m*pc[0]\n",
    "R = 0\n",
    "prev_w = 0\n",
    "for d, d_theta in zip(pole_ds, d_thetas):\n",
    "    R += 1/2*d*(d_theta-prev_w)**2\n",
    "    prev_w = d_theta"
   ]
  },
  {
   "cell_type": "code",
   "execution_count": 30,
   "metadata": {},
   "outputs": [
    {
     "data": {
      "text/plain": [
       "[MX((((0.25*(2.*opti10_x_3))-(-4.4145+(0.5*(((0.1*(2.*(opti10_x_1-(0.05*sin(opti10_x_4)))))+(0.15*(2.*((opti10_x_1-(0.1*sin(opti10_x_5)))+(-0.1*sin(opti10_x_4))))))+(0.2*(2.*((opti10_x_1-(0.15*sin(opti10_x_6)))+((-0.1*sin(opti10_x_4))+(-0.2*sin(opti10_x_5))))))))))-opti10_x_3)),\n",
       " MX(@1=0.05, @2=0.05, @3=(@2*cos(opti10_x_4)), @4=-0.1, @5=(@4*cos(opti10_x_4)), @6=0.1, @7=-0.1, @8=(@7*cos(opti10_x_4)), @9=0.1, ((0.5*(0.13*(2.*opti10_x_10)))-(((0.5*(((0.1*((-((2.*(@1*cos(opti10_x_4)))*(@1*sin(opti10_x_4))))-((2.*(opti10_x_1-(@2*sin(opti10_x_4))))*@3)))+(0.15*(((2.*((opti10_x_1-(0.1*sin(opti10_x_5)))+(@4*sin(opti10_x_4))))*@5)-((2.*((0.1*cos(opti10_x_5))+(@6*cos(opti10_x_4))))*(@6*sin(opti10_x_4))))))+(0.2*(((2.*((opti10_x_1-(0.15*sin(opti10_x_6)))+((@7*sin(opti10_x_4))+(-0.2*sin(opti10_x_5)))))*@8)-((2.*((0.15*cos(opti10_x_6))+((@9*cos(opti10_x_4))+(0.2*cos(opti10_x_5)))))*(@9*sin(opti10_x_4)))))))-(((1.4715*@5)-(0.981*@3))+(1.962*@8)))+((0.005*(2.*opti10_x_7))-(0.005*(2.*(opti10_x_8-opti10_x_7))))))),\n",
       " MX(@1=0.1, @2=0.1, @3=(@2*cos(opti10_x_5)), @4=-0.2, @5=(@4*cos(opti10_x_5)), @6=0.2, ((0.5*(0.12*(2.*opti10_x_11)))-(((0.5*((0.15*((-((2.*((@1*cos(opti10_x_5))+(0.1*cos(opti10_x_4))))*(@1*sin(opti10_x_5))))-((2.*((opti10_x_1-(@2*sin(opti10_x_5)))+(-0.1*sin(opti10_x_4))))*@3)))+(0.2*(((2.*((opti10_x_1-(0.15*sin(opti10_x_6)))+((-0.1*sin(opti10_x_4))+(@4*sin(opti10_x_5)))))*@5)-((2.*((0.15*cos(opti10_x_6))+((0.1*cos(opti10_x_4))+(@6*cos(opti10_x_5)))))*(@6*sin(opti10_x_5)))))))-((1.962*@5)-(1.4715*@3)))+((0.005*(2.*(opti10_x_8-opti10_x_7)))-(0.005*(2.*(opti10_x_9-opti10_x_8))))))),\n",
       " MX(@1=0.15, @2=0.15, @3=(@2*cos(opti10_x_6)), ((0.5*(0.11*(2.*opti10_x_12)))-(((0.5*(0.2*((-((2.*((@1*cos(opti10_x_6))+((0.1*cos(opti10_x_4))+(0.2*cos(opti10_x_5)))))*(@1*sin(opti10_x_6))))-((2.*((opti10_x_1-(@2*sin(opti10_x_6)))+((-0.1*sin(opti10_x_4))+(-0.2*sin(opti10_x_5)))))*@3))))+(1.962*@3))+(0.005*(2.*(opti10_x_9-opti10_x_8))))))]"
      ]
     },
     "execution_count": 30,
     "metadata": {},
     "output_type": "execute_result"
    }
   ],
   "source": [
    "L = T-V\n",
    "eqs = []\n",
    "lh = derivate_by_time(ca.jacobian(L, d_s))\n",
    "lh -= ca.jacobian(L, s) + ca.jacobian(R, d_s)\n",
    "rh = u\n",
    "eqs.append(lh-rh)\n",
    "for theta, d_theta in zip(thetas, d_thetas):\n",
    "    lh = derivate_by_time(ca.jacobian(L, d_theta))\n",
    "    lh -= ca.jacobian(L, theta) + ca.jacobian(R, d_theta)\n",
    "    rh = 0\n",
    "    eqs.append(lh-rh)\n",
    "eqs"
   ]
  },
  {
   "cell_type": "code",
   "execution_count": 31,
   "metadata": {},
   "outputs": [],
   "source": [
    "state = np.array([0,0]+[0,0]*num_poles)\n",
    "control = np.array([0])\n",
    "opti.subject_to(s == state[0])\n",
    "opti.subject_to(d_s == state[1])\n",
    "for i in range(num_poles):\n",
    "    opti.subject_to(thetas[i] == state[2*i+2])\n",
    "    opti.subject_to(d_thetas[i] == state[2*i+3])\n",
    "opti.subject_to(u == control[0])\n",
    "\n",
    "for eq in eqs:\n",
    "    opti.subject_to(eq == 0)\n",
    "\n",
    "opti.minimize(T+V+R)"
   ]
  }
 ],
 "metadata": {
  "kernelspec": {
   "display_name": "Python 3",
   "language": "python",
   "name": "python3"
  },
  "language_info": {
   "codemirror_mode": {
    "name": "ipython",
    "version": 3
   },
   "file_extension": ".py",
   "mimetype": "text/x-python",
   "name": "python",
   "nbconvert_exporter": "python",
   "pygments_lexer": "ipython3",
   "version": "3.11.3"
  },
  "orig_nbformat": 4
 },
 "nbformat": 4,
 "nbformat_minor": 2
}
