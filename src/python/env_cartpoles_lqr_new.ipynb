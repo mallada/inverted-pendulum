{
 "cells": [
  {
   "cell_type": "code",
   "execution_count": 1,
   "metadata": {},
   "outputs": [
    {
     "ename": "ModuleNotFoundError",
     "evalue": "No module named 'lib.cartpolesystem_new'",
     "output_type": "error",
     "traceback": [
      "\u001b[1;31m---------------------------------------------------------------------------\u001b[0m",
      "\u001b[1;31mModuleNotFoundError\u001b[0m                       Traceback (most recent call last)",
      "Cell \u001b[1;32mIn[1], line 4\u001b[0m\n\u001b[0;32m      2\u001b[0m \u001b[39mfrom\u001b[39;00m \u001b[39mnumpy\u001b[39;00m \u001b[39mimport\u001b[39;00m radians, pi\n\u001b[0;32m      3\u001b[0m \u001b[39mfrom\u001b[39;00m \u001b[39mlib\u001b[39;00m\u001b[39m.\u001b[39;00m\u001b[39mcartpolesystem\u001b[39;00m \u001b[39mimport\u001b[39;00m CartPoleSystem, Cart, Pole, DCMotor\n\u001b[1;32m----> 4\u001b[0m \u001b[39mfrom\u001b[39;00m \u001b[39mlib\u001b[39;00m\u001b[39m.\u001b[39;00m\u001b[39mcartpoleenv\u001b[39;00m \u001b[39mimport\u001b[39;00m CartPoleEnv\n\u001b[0;32m      5\u001b[0m \u001b[39mfrom\u001b[39;00m \u001b[39mlib\u001b[39;00m\u001b[39m.\u001b[39;00m\u001b[39mcolors\u001b[39;00m \u001b[39mimport\u001b[39;00m Colors\n\u001b[0;32m      6\u001b[0m \u001b[39mfrom\u001b[39;00m \u001b[39mlib\u001b[39;00m\u001b[39m.\u001b[39;00m\u001b[39mcontrollers\u001b[39;00m \u001b[39mimport\u001b[39;00m LQR\n",
      "File \u001b[1;32mc:\\Users\\sacka\\Documents\\programming\\projects\\inverted-pendulum\\src\\python\\lib\\cartpoleenv.py:10\u001b[0m\n\u001b[0;32m      8\u001b[0m \u001b[39mimport\u001b[39;00m \u001b[39mpygame\u001b[39;00m\n\u001b[0;32m      9\u001b[0m \u001b[39mfrom\u001b[39;00m \u001b[39mtime\u001b[39;00m \u001b[39mimport\u001b[39;00m perf_counter\n\u001b[1;32m---> 10\u001b[0m \u001b[39mfrom\u001b[39;00m \u001b[39mlib\u001b[39;00m\u001b[39m.\u001b[39;00m\u001b[39mcartpolesystem_new\u001b[39;00m \u001b[39mimport\u001b[39;00m CartPoleSystem\n\u001b[0;32m     12\u001b[0m \u001b[39mclass\u001b[39;00m \u001b[39mCartPoleEnv\u001b[39;00m(Env):\n\u001b[0;32m     13\u001b[0m   \u001b[39mdef\u001b[39;00m \u001b[39m__init__\u001b[39m(\n\u001b[0;32m     14\u001b[0m     \u001b[39mself\u001b[39m, \n\u001b[0;32m     15\u001b[0m     system: CartPoleSystem, \n\u001b[1;32m   (...)\u001b[0m\n\u001b[0;32m     18\u001b[0m     integration_method: Callable[[\u001b[39mfloat\u001b[39m, Callable[[np\u001b[39m.\u001b[39mndarray, np\u001b[39m.\u001b[39mndarray], np\u001b[39m.\u001b[39mndarray], np\u001b[39m.\u001b[39mndarray, np\u001b[39m.\u001b[39mndarray], \u001b[39mtuple\u001b[39m[np\u001b[39m.\u001b[39mndarray, np\u001b[39m.\u001b[39mndarray]]\n\u001b[0;32m     19\u001b[0m   ):\n",
      "\u001b[1;31mModuleNotFoundError\u001b[0m: No module named 'lib.cartpolesystem_new'"
     ]
    }
   ],
   "source": [
    "import numpy as np\n",
    "from numpy import radians, pi\n",
    "from lib.cartpolesystem import CartPoleSystem, Cart, Pole, DCMotor\n",
    "from lib.cartpoleenv import CartPoleEnv\n",
    "from lib.colors import Colors\n",
    "from lib.controllers import LQR\n",
    "import time\n",
    "from time import perf_counter\n",
    "from matplotlib import pyplot as plt\n",
    "from scipy.io import savemat\n",
    "from lib.numerical import fe_step, rk4_step"
   ]
  },
  {
   "cell_type": "code",
   "execution_count": null,
   "metadata": {},
   "outputs": [
    {
     "data": {
      "text/plain": [
       "(6,)"
      ]
     },
     "execution_count": 19,
     "metadata": {},
     "output_type": "execute_result"
    }
   ],
   "source": [
    "dt = 0.01\n",
    "g = 9.81\n",
    "\n",
    "cart = Cart(1, 0.01, (-0.8, 0.8), 0.2)\n",
    "motor = DCMotor(0.2, 0.2, 0.2, 0.05, 8.7e-5, 8.7e-5, (-24, 24), 0.2, (-100, 100), 0.2)\n",
    "poles = [Pole(1, 0.2, 0.1), Pole(1, 0.3, 0.1)]\n",
    "n = len(poles)\n",
    "\n",
    "system = CartPoleSystem(cart, motor, poles, g)\n",
    "\n",
    "max_time = 10\n",
    "N = int(max_time/dt)\n",
    "\n",
    "env = CartPoleEnv(system, dt, N, rk4_step)\n",
    "env.observation_space.shape"
   ]
  },
  {
   "cell_type": "code",
   "execution_count": null,
   "metadata": {},
   "outputs": [],
   "source": [
    "linearization_x0 = np.array([0, 0] + [radians(0), 0]*n)\n",
    "linearization_u0 = np.array([0])\n",
    "\n",
    "A0, B0 = system.linearize(linearization_x0, linearization_u0)\n",
    "\n",
    "C = np.eye(2+2*n)\n",
    "D = np.zeros((2+2*n, 1))\n",
    "\n",
    "ct_dt = dt\n",
    "\n",
    "lqr = LQR(ct_dt)\n",
    "\n",
    "Q = np.diag([50, 1] + [100, 10]*n)\n",
    "R = np.diag([100])\n",
    "\n",
    "A_d0, B_d0 = lqr.discretize(A0, B0, C, D)\n",
    "_, K_d0 = lqr.calculate_K_d(A_d0, B_d0, Q, R)"
   ]
  },
  {
   "cell_type": "code",
   "execution_count": null,
   "metadata": {},
   "outputs": [
    {
     "name": "stdout",
     "output_type": "stream",
     "text": [
      "A\n",
      "[[ 0.000  1.000  0.000  0.000  0.000  0.000]\n",
      " [ 0.000 -36.757 -1.931  0.197 -1.931  0.131]\n",
      " [ 0.000  0.000  0.000  1.000  0.000  0.000]\n",
      " [ 0.000  157.531  50.317 -5.129  8.274 -0.562]\n",
      " [ 0.000  0.000  0.000  0.000  0.000  1.000]\n",
      " [ 0.000  105.021  5.516 -0.562  33.545 -2.280]]\n",
      "B\n",
      "[[ 0.000]\n",
      " [ 9.184]\n",
      " [ 0.000]\n",
      " [-39.361]\n",
      " [ 0.000]\n",
      " [-26.241]]\n"
     ]
    }
   ],
   "source": [
    "np.set_printoptions(formatter={'float': '{: 0.3f}'.format})\n",
    "print(\"A\")\n",
    "print(A0)\n",
    "print(\"B\")\n",
    "print(B0)"
   ]
  },
  {
   "cell_type": "code",
   "execution_count": null,
   "metadata": {},
   "outputs": [
    {
     "name": "stdout",
     "output_type": "stream",
     "text": [
      "The system is controllable.\n"
     ]
    }
   ],
   "source": [
    "def is_controllable(A, B):\n",
    "    n = A.shape[0]  # Number of states\n",
    "    controllability_matrix = np.column_stack([np.linalg.matrix_power(A, i) @ B for i in range(n)])\n",
    "    rank = np.linalg.matrix_rank(controllability_matrix)\n",
    "    return rank == n\n",
    "\n",
    "if is_controllable(A0, B0):\n",
    "    print(\"The system is controllable.\")\n",
    "else:\n",
    "    print(\"The system is not controllable.\")"
   ]
  },
  {
   "cell_type": "code",
   "execution_count": null,
   "metadata": {},
   "outputs": [
    {
     "name": "stdout",
     "output_type": "stream",
     "text": [
      "0.0007964000105857849\n"
     ]
    }
   ],
   "source": [
    "x0 = np.array([-0.4, 0, radians(-1), 0, radians(-1), 0])\n",
    "\n",
    "state, _ = env.reset(x0)\n",
    "\n",
    "r = np.array([0.1, 0] + [radians(0), 0]*n)\n",
    "\n",
    "last_update = perf_counter()\n",
    "\n",
    "time1 = time2 = 0\n",
    "\n",
    "for i in range(N-1):\n",
    "    while perf_counter() < last_update + dt:\n",
    "        pass\n",
    "    last_update = perf_counter()\n",
    "    error = system.calculate_error(state, r)\n",
    "\n",
    "    control = lqr.feedback(K_d0, error)\n",
    "    time1 = time.perf_counter()\n",
    "    state, reward, done, msg, _ = env.step(control)\n",
    "    time2 = time.perf_counter()\n",
    "    env.render()\n",
    "env.close()\n",
    "print(time2-time1)"
   ]
  }
 ],
 "metadata": {
  "kernelspec": {
   "display_name": "Python 3",
   "language": "python",
   "name": "python3"
  },
  "language_info": {
   "codemirror_mode": {
    "name": "ipython",
    "version": 3
   },
   "file_extension": ".py",
   "mimetype": "text/x-python",
   "name": "python",
   "nbconvert_exporter": "python",
   "pygments_lexer": "ipython3",
   "version": "3.11.3"
  },
  "orig_nbformat": 4,
  "vscode": {
   "interpreter": {
    "hash": "c47ec04b89712c100c23235f37aeb6c5bf9d4067c9ef07c39aad2ce02bf1608c"
   }
  }
 },
 "nbformat": 4,
 "nbformat_minor": 2
}
