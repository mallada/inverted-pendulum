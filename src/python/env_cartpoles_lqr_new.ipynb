{
 "cells": [
  {
   "cell_type": "code",
   "execution_count": 24,
   "metadata": {},
   "outputs": [],
   "source": [
    "import numpy as np\n",
    "from numpy import radians, pi\n",
    "from lib.cartpolesystem_new import CartPoleSystem, Cart, Pole, DCMotor\n",
    "from lib.cartpoleenv_new import CartPoleEnv\n",
    "from lib.colors import Colors\n",
    "from lib.controllers_new import LQR\n",
    "import time\n",
    "from time import perf_counter\n",
    "from matplotlib import pyplot as plt\n",
    "from scipy.io import savemat\n",
    "from lib.numerical import fe_step, rk4_step"
   ]
  },
  {
   "cell_type": "code",
   "execution_count": 25,
   "metadata": {},
   "outputs": [
    {
     "data": {
      "text/plain": [
       "(6,)"
      ]
     },
     "execution_count": 25,
     "metadata": {},
     "output_type": "execute_result"
    }
   ],
   "source": [
    "dt = 0.01\n",
    "g = 9.81\n",
    "\n",
    "cart = Cart(0.5, 0.005, (-0.8, 0.8))\n",
    "motor = DCMotor(0.02, 0.02, 0.2, 0.05, 8.7e-5, 8.7e-5, (-24, 24), (-100, 100))\n",
    "poles = [Pole(1, 0.2, 0.1), Pole(0.5, 0.2, 0.1)]\n",
    "n = len(poles)\n",
    "\n",
    "system = CartPoleSystem(cart, motor, poles, g)\n",
    "\n",
    "max_time = 10\n",
    "N = int(max_time/dt)\n",
    "\n",
    "env = CartPoleEnv(system, dt, N, rk4_step)\n",
    "env.observation_space.shape"
   ]
  },
  {
   "cell_type": "code",
   "execution_count": 26,
   "metadata": {},
   "outputs": [],
   "source": [
    "linearization_x0 = np.array([0, 0, radians(0), 0, radians(0), 0])\n",
    "linearization_u0 = np.array([0])\n",
    "\n",
    "A0, B0 = system.linearize(linearization_x0, linearization_u0)\n",
    "\n",
    "C = np.eye(2+2*n)\n",
    "D = np.zeros((2+2*n, 1))\n",
    "\n",
    "ct_dt = dt\n",
    "\n",
    "lqr = LQR(ct_dt)\n",
    "\n",
    "Q = np.eye(2+2*n)\n",
    "R = np.diag([0.01])\n",
    "\n",
    "A_d0, B_d0 = lqr.discretize(A0, B0, C, D)\n",
    "K_d0 = lqr.calculate_K_lqr_d(A_d0, B_d0, Q, R)"
   ]
  },
  {
   "cell_type": "code",
   "execution_count": 27,
   "metadata": {},
   "outputs": [
    {
     "name": "stdout",
     "output_type": "stream",
     "text": [
      "A\n",
      "[[ 0.000  1.000  0.000  0.000  0.000  0.000]\n",
      " [ 0.000 -0.603 -3.020  0.308 -1.510  0.308]\n",
      " [ 0.000  0.000  0.000  1.000  0.000  0.000]\n",
      " [ 0.000  2.586  54.988 -5.605  6.472 -1.320]\n",
      " [ 0.000  0.000  0.000  0.000  0.000  1.000]\n",
      " [ 0.000  2.586  12.945 -1.320  48.515 -9.891]]\n",
      "B\n",
      "[[ 0.000]\n",
      " [ 1.437]\n",
      " [ 0.000]\n",
      " [-6.158]\n",
      " [ 0.000]\n",
      " [-6.158]]\n"
     ]
    }
   ],
   "source": [
    "np.set_printoptions(formatter={'float': '{: 0.3f}'.format})\n",
    "print(\"A\")\n",
    "print(A0)\n",
    "print(\"B\")\n",
    "print(B0)"
   ]
  },
  {
   "cell_type": "code",
   "execution_count": 28,
   "metadata": {},
   "outputs": [
    {
     "name": "stdout",
     "output_type": "stream",
     "text": [
      "The system is controllable.\n"
     ]
    }
   ],
   "source": [
    "def is_controllable(A, B):\n",
    "    n = A.shape[0]  # Number of states\n",
    "    controllability_matrix = np.column_stack([np.linalg.matrix_power(A, i) @ B for i in range(n)])\n",
    "    rank = np.linalg.matrix_rank(controllability_matrix)\n",
    "    return rank == n\n",
    "\n",
    "if is_controllable(A0, B0):\n",
    "    print(\"The system is controllable.\")\n",
    "else:\n",
    "    print(\"The system is not controllable.\")"
   ]
  },
  {
   "cell_type": "code",
   "execution_count": 29,
   "metadata": {},
   "outputs": [
    {
     "ename": "AttributeError",
     "evalue": "'NoneType' object has no attribute 'fill'",
     "output_type": "error",
     "traceback": [
      "\u001b[1;31m---------------------------------------------------------------------------\u001b[0m",
      "\u001b[1;31mAttributeError\u001b[0m                            Traceback (most recent call last)",
      "Cell \u001b[1;32mIn[29], line 20\u001b[0m\n\u001b[0;32m     18\u001b[0m     state, reward, done, msg, _ \u001b[39m=\u001b[39m env\u001b[39m.\u001b[39mstep(control)\n\u001b[0;32m     19\u001b[0m     time2 \u001b[39m=\u001b[39m time\u001b[39m.\u001b[39mperf_counter()\n\u001b[1;32m---> 20\u001b[0m     env\u001b[39m.\u001b[39;49mrender()\n\u001b[0;32m     21\u001b[0m env\u001b[39m.\u001b[39mclose()\n\u001b[0;32m     22\u001b[0m \u001b[39mprint\u001b[39m(time2\u001b[39m-\u001b[39mtime1)\n",
      "File \u001b[1;32mc:\\Users\\sacka\\Documents\\programming\\projects\\inverted-pendulum\\src\\python\\lib\\cartpoleenv_new.py:142\u001b[0m, in \u001b[0;36mCartPoleEnv.render\u001b[1;34m(self, optional_text)\u001b[0m\n\u001b[0;32m    139\u001b[0m   \u001b[39mif\u001b[39;00m event\u001b[39m.\u001b[39mtype \u001b[39m==\u001b[39m pygame\u001b[39m.\u001b[39mQUIT: \n\u001b[0;32m    140\u001b[0m     \u001b[39mself\u001b[39m\u001b[39m.\u001b[39mclose()\n\u001b[1;32m--> 142\u001b[0m \u001b[39mself\u001b[39;49m\u001b[39m.\u001b[39;49mscreen\u001b[39m.\u001b[39;49mfill(Colors\u001b[39m.\u001b[39mgray)\n\u001b[0;32m    144\u001b[0m state \u001b[39m=\u001b[39m \u001b[39mself\u001b[39m\u001b[39m.\u001b[39mget_state()\n\u001b[0;32m    145\u001b[0m x \u001b[39m=\u001b[39m state[\u001b[39m0\u001b[39m]\n",
      "\u001b[1;31mAttributeError\u001b[0m: 'NoneType' object has no attribute 'fill'"
     ]
    }
   ],
   "source": [
    "x0 = np.array([-0.1, 0, radians(-1), 0, radians(1), 0])\n",
    "\n",
    "state, _ = env.reset(x0)\n",
    "\n",
    "r = np.array([0.1, 0] + [radians(0), 0] + [radians(0), 0])\n",
    "\n",
    "last_update = perf_counter()\n",
    "\n",
    "for i in range(N-1):\n",
    "    \n",
    "    while perf_counter() < last_update + dt:\n",
    "        pass\n",
    "    last_update = perf_counter()\n",
    "    error = system.calculate_error(state, r)\n",
    "\n",
    "    control = lqr.feedback(K_d0, error)\n",
    "    time1 = time.perf_counter()\n",
    "    state, reward, done, msg, _ = env.step(control)\n",
    "    time2 = time.perf_counter()\n",
    "    env.render()\n",
    "env.close()\n",
    "print(time2-time1)"
   ]
  }
 ],
 "metadata": {
  "kernelspec": {
   "display_name": "Python 3",
   "language": "python",
   "name": "python3"
  },
  "language_info": {
   "codemirror_mode": {
    "name": "ipython",
    "version": 3
   },
   "file_extension": ".py",
   "mimetype": "text/x-python",
   "name": "python",
   "nbconvert_exporter": "python",
   "pygments_lexer": "ipython3",
   "version": "3.11.3"
  },
  "orig_nbformat": 4,
  "vscode": {
   "interpreter": {
    "hash": "c47ec04b89712c100c23235f37aeb6c5bf9d4067c9ef07c39aad2ce02bf1608c"
   }
  }
 },
 "nbformat": 4,
 "nbformat_minor": 2
}
