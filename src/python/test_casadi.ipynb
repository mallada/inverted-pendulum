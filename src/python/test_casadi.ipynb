{
 "cells": [
  {
   "cell_type": "code",
   "execution_count": 236,
   "metadata": {},
   "outputs": [
    {
     "name": "stdout",
     "output_type": "stream",
     "text": [
      "x: x\n"
     ]
    }
   ],
   "source": [
    "from casadi import * #type: ignore\n",
    "\n",
    "x = MX.sym(\"x\") #type: ignore\n",
    "print(\"x:\", x)"
   ]
  },
  {
   "cell_type": "code",
   "execution_count": 237,
   "metadata": {},
   "outputs": [
    {
     "name": "stdout",
     "output_type": "stream",
     "text": [
      "y_ [y_0, y_1, y_2, y_3, y_4]\n",
      "Z: \n",
      "[[Z_0, Z_4], \n",
      " [Z_1, Z_5], \n",
      " [Z_2, Z_6], \n",
      " [Z_3, Z_7]]\n"
     ]
    }
   ],
   "source": [
    "y = SX.sym(\"y\", 5) #type: ignore\n",
    "Z = SX.sym(\"Z\", 4, 2) #type: ignore\n",
    "print(\"y_\", y)\n",
    "print(\"Z:\", Z)"
   ]
  },
  {
   "cell_type": "code",
   "execution_count": 238,
   "metadata": {},
   "outputs": [
    {
     "name": "stdout",
     "output_type": "stream",
     "text": [
      "f: sqrt((10+sq(x)))\n"
     ]
    }
   ],
   "source": [
    "f = x**2 + 10\n",
    "f = sqrt(f)\n",
    "print(\"f:\", f)"
   ]
  },
  {
   "cell_type": "code",
   "execution_count": 239,
   "metadata": {},
   "outputs": [
    {
     "name": "stdout",
     "output_type": "stream",
     "text": [
      "B1: @1=0, \n",
      "[[@1, @1, @1, @1, @1], \n",
      " [@1, @1, @1, @1, @1], \n",
      " [@1, @1, @1, @1, @1], \n",
      " [@1, @1, @1, @1, @1]]\n",
      "B2: \n",
      "[[00, 00, 00, 00, 00], \n",
      " [00, 00, 00, 00, 00], \n",
      " [00, 00, 00, 00, 00], \n",
      " [00, 00, 00, 00, 00]]\n",
      "B4: @1=1, \n",
      "[[@1, 00, 00, 00], \n",
      " [00, @1, 00, 00], \n",
      " [00, 00, @1, 00], \n",
      " [00, 00, 00, @1]]\n"
     ]
    }
   ],
   "source": [
    "B1 = SX.zeros(4,5) #type: ignore\n",
    "B2 = SX(4,5) #type: ignore\n",
    "B4 = SX.eye(4) #type: ignore\n",
    "print(\"B1:\", B1)\n",
    "print(\"B2:\", B2)\n",
    "print(\"B4:\", B4)"
   ]
  },
  {
   "cell_type": "code",
   "execution_count": 240,
   "metadata": {},
   "outputs": [
    {
     "name": "stdout",
     "output_type": "stream",
     "text": [
      "C_dense:\n",
      "[[0. 5. 0.]\n",
      " [0. 4. 0.]]\n",
      "C_dense np:\n",
      "[[0. 5. 0.]\n",
      " [0. 4. 0.]]\n",
      "C_sparse:\n",
      "  (0, 1)\t5.0\n",
      "  (1, 1)\t4.0\n",
      "C_sparse csc:\n",
      "  (0, 1)\t5.0\n",
      "  (1, 1)\t4.0\n"
     ]
    }
   ],
   "source": [
    "import numpy as np\n",
    "from scipy.sparse import csc_matrix #type: ignore\n",
    "\n",
    "C = DM(2,3)\n",
    "C[1,1] = 4\n",
    "C[0,1] = 5\n",
    "C_dense = C.full()\n",
    "C_dense_np = np.array(C)\n",
    "print(\"C_dense:\")\n",
    "print(C_dense)\n",
    "print(\"C_dense np:\")\n",
    "print(C_dense_np)\n",
    "\n",
    "C_sparse = C.sparse()\n",
    "C_sparse_csc = csc_matrix(C)\n",
    "print(\"C_sparse:\")\n",
    "print(C_sparse)\n",
    "print(\"C_sparse csc:\")\n",
    "print(C_sparse_csc)"
   ]
  },
  {
   "cell_type": "code",
   "execution_count": 241,
   "metadata": {},
   "outputs": [
    {
     "name": "stdout",
     "output_type": "stream",
     "text": [
      "f: @1=3, \n",
      "[[((@1*x_0)+y), ((@1*x_2)+y)], \n",
      " [((@1*x_1)+y), ((@1*x_3)+y)]]\n",
      "f.shape: (2, 2)\n"
     ]
    }
   ],
   "source": [
    "x = SX.sym(\"x\",2,2) #type: ignore\n",
    "y = SX.sym(\"y\") #type: ignore\n",
    "f = 3*x + y\n",
    "print(\"f:\", f)\n",
    "print(\"f.shape:\", f.shape)"
   ]
  },
  {
   "cell_type": "code",
   "execution_count": 242,
   "metadata": {},
   "outputs": [
    {
     "name": "stdout",
     "output_type": "stream",
     "text": [
      "f: ((3*x)+y)\n",
      "f.shape: (2, 2)\n"
     ]
    }
   ],
   "source": [
    "x = MX.sym(\"x\",2,2) #type: ignore\n",
    "y = MX.sym(\"y\") #type: ignore\n",
    "f = 3*x + y\n",
    "print(\"f:\", f)\n",
    "print(\"f.shape:\", f.shape)"
   ]
  },
  {
   "cell_type": "code",
   "execution_count": 243,
   "metadata": {},
   "outputs": [
    {
     "name": "stdout",
     "output_type": "stream",
     "text": [
      "x[0]\n"
     ]
    }
   ],
   "source": [
    "print(x[0,0])"
   ]
  },
  {
   "cell_type": "code",
   "execution_count": 244,
   "metadata": {},
   "outputs": [
    {
     "name": "stdout",
     "output_type": "stream",
     "text": [
      "A: (project((zeros(2x2,1nz)[0] = x[0]))[1] = (x[0]+x[1]))\n"
     ]
    }
   ],
   "source": [
    "x = MX.sym(\"x\", 2) #type: ignore\n",
    "A = MX(2,2)\n",
    "A[0,0] = x[0]\n",
    "A[1,1] = x[0] + x[1]\n",
    "print(\"A:\", A)"
   ]
  },
  {
   "cell_type": "code",
   "execution_count": 245,
   "metadata": {},
   "outputs": [
    {
     "name": "stdout",
     "output_type": "stream",
     "text": [
      "\n",
      "[[x_0, 00, 00], \n",
      " [x_1, x_3, 00], \n",
      " [x_2, x_4, x_5]]\n"
     ]
    }
   ],
   "source": [
    "print(SX.sym(\"x\", Sparsity.lower(3))) #type: ignore"
   ]
  },
  {
   "cell_type": "code",
   "execution_count": 246,
   "metadata": {},
   "outputs": [
    {
     "name": "stdout",
     "output_type": "stream",
     "text": [
      "M[0,:]: [[3, 7]]\n",
      "@1=1, \n",
      "[[@1, @1], \n",
      " [4, 5]]\n"
     ]
    }
   ],
   "source": [
    "M = SX([[3,7],[4,5]])\n",
    "print(\"M[0,:]:\", M[0,:])\n",
    "M[0,:] = 1\n",
    "print(M)"
   ]
  },
  {
   "cell_type": "code",
   "execution_count": 247,
   "metadata": {},
   "outputs": [
    {
     "name": "stdout",
     "output_type": "stream",
     "text": [
      "\n",
      "[[(sin(y_0)-x), (sin(y_2)-x)], \n",
      " [(sin(y_1)-x), (sin(y_3)-x)]]\n"
     ]
    }
   ],
   "source": [
    "x = SX.sym(\"x\")\n",
    "y = SX.sym(\"y\",2,2)\n",
    "print(sin(y)-x)"
   ]
  },
  {
   "cell_type": "code",
   "execution_count": 248,
   "metadata": {},
   "outputs": [
    {
     "name": "stdout",
     "output_type": "stream",
     "text": [
      "\n",
      "[[sq(y_0), sq(y_2)], \n",
      " [sq(y_1), sq(y_3)]] \n",
      "[[(sq(y_0)+(y_2*y_1)), ((y_0*y_2)+(y_2*y_3))], \n",
      " [((y_1*y_0)+(y_3*y_1)), ((y_1*y_2)+sq(y_3))]]\n"
     ]
    }
   ],
   "source": [
    "print(y*y, y@y)"
   ]
  },
  {
   "cell_type": "code",
   "execution_count": 249,
   "metadata": {},
   "outputs": [
    {
     "name": "stdout",
     "output_type": "stream",
     "text": [
      "\n",
      "[[y_0, y_2], \n",
      " [y_1, y_3]]\n",
      "\n",
      "[[y_0, y_1], \n",
      " [y_2, y_3]]\n"
     ]
    }
   ],
   "source": [
    "print(y)\n",
    "print(y.T)"
   ]
  },
  {
   "cell_type": "code",
   "execution_count": 250,
   "metadata": {},
   "outputs": [
    {
     "name": "stdout",
     "output_type": "stream",
     "text": [
      "@1=1, \n",
      "[[@1, 00, 00, 00, 00, @1, 00, 00], \n",
      " [00, 00, @1, 00, 00, 00, 00, @1]]\n"
     ]
    }
   ],
   "source": [
    "x = SX.eye(4)\n",
    "print(reshape(x,2,8))"
   ]
  },
  {
   "cell_type": "code",
   "execution_count": 251,
   "metadata": {},
   "outputs": [
    {
     "name": "stdout",
     "output_type": "stream",
     "text": [
      "[x_0, x_1, x_2, x_3, x_4, y_0, y_1, y_2, y_3, y_4]\n",
      "\n",
      "[[x_0, y_0], \n",
      " [x_1, y_1], \n",
      " [x_2, y_2], \n",
      " [x_3, y_3], \n",
      " [x_4, y_4]]\n"
     ]
    }
   ],
   "source": [
    "x = SX.sym(\"x\",5)\n",
    "y = SX.sym(\"y\",5)\n",
    "print(vertcat(x,y))\n",
    "print(horzcat(x,y))"
   ]
  },
  {
   "cell_type": "code",
   "execution_count": 252,
   "metadata": {},
   "outputs": [
    {
     "name": "stdout",
     "output_type": "stream",
     "text": [
      "\n",
      "[[x_0, y_0], \n",
      " [x_1, y_1], \n",
      " [x_2, y_2], \n",
      " [x_3, y_3], \n",
      " [x_4, y_4]] [x_0, x_1, x_2, x_3, x_4, y_0, y_1, y_2, y_3, y_4]\n"
     ]
    }
   ],
   "source": [
    "L = [x,y]\n",
    "print(hcat(L),vcat(L))"
   ]
  },
  {
   "cell_type": "code",
   "execution_count": 253,
   "metadata": {},
   "outputs": [
    {
     "name": "stdout",
     "output_type": "stream",
     "text": [
      "[SX([x_0, x_1, x_2, x_3, x_4]), SX([x_5, x_6, x_7, x_8, x_9])]\n"
     ]
    }
   ],
   "source": [
    "x = SX.sym(\"x\",5,2)\n",
    "w = horzsplit(x,[0,1,2])\n",
    "print(w)\n",
    "\n",
    "# splitting with horzplit and vertsplit is equivalent with slicing for SX but way more efficient for MX"
   ]
  },
  {
   "cell_type": "code",
   "execution_count": 254,
   "metadata": {},
   "outputs": [
    {
     "name": "stdout",
     "output_type": "stream",
     "text": [
      "(((sq(x_0)+sq(x_1))+sq(x_2))+sq(x_3))\n"
     ]
    }
   ],
   "source": [
    "x = SX.sym(\"x\",2,2)\n",
    "print(dot(x,x))"
   ]
  },
  {
   "cell_type": "code",
   "execution_count": 255,
   "metadata": {},
   "outputs": [
    {
     "name": "stdout",
     "output_type": "stream",
     "text": [
      "(A\\b)\n"
     ]
    }
   ],
   "source": [
    "A = MX.sym(\"A\",3,3)\n",
    "b = MX.sym(\"b\",3)\n",
    "print(solve(A,b))"
   ]
  },
  {
   "cell_type": "code",
   "execution_count": 256,
   "metadata": {},
   "outputs": [
    {
     "name": "stdout",
     "output_type": "stream",
     "text": [
      "\n",
      "[[A_0, A_3], \n",
      " [A_1, A_4], \n",
      " [A_2, A_5]]\n"
     ]
    }
   ],
   "source": [
    "A = SX.sym(\"A\",3,2)\n",
    "x = SX.sym(\"x\",2)\n",
    "print(jacobian(A@x,x))"
   ]
  },
  {
   "cell_type": "code",
   "execution_count": 257,
   "metadata": {},
   "outputs": [
    {
     "name": "stdout",
     "output_type": "stream",
     "text": [
      "\n",
      "[[(A_0+A_0), (A_3+A_3)], \n",
      " [(A_1+A_1), (A_4+A_4)], \n",
      " [(A_2+A_2), (A_5+A_5)]]\n"
     ]
    }
   ],
   "source": [
    "print(gradient(dot(A,A),A))"
   ]
  },
  {
   "cell_type": "code",
   "execution_count": 258,
   "metadata": {},
   "outputs": [
    {
     "name": "stdout",
     "output_type": "stream",
     "text": [
      "H: @1=2, \n",
      "[[@1, 00], \n",
      " [00, @1]]\n"
     ]
    }
   ],
   "source": [
    "[H,g] = hessian(dot(x,x),x)\n",
    "print(\"H:\",H)"
   ]
  },
  {
   "cell_type": "code",
   "execution_count": 259,
   "metadata": {},
   "outputs": [
    {
     "name": "stdout",
     "output_type": "stream",
     "text": [
      "[(v_0+(3*v_1)), ((4*v_0)+(7*v_1)), ((2*v_0)+(8*v_1))]\n"
     ]
    }
   ],
   "source": [
    "A = DM([[1,3],[4,7],[2,8]])\n",
    "x = SX.sym(\"x\",2)\n",
    "v = SX.sym(\"v\",2)\n",
    "f = mtimes(A,x)\n",
    "print(jtimes(f,x,v))"
   ]
  },
  {
   "cell_type": "code",
   "execution_count": 260,
   "metadata": {},
   "outputs": [
    {
     "name": "stdout",
     "output_type": "stream",
     "text": [
      "[(((2*w_2)+(4*w_1))+w_0), (((8*w_2)+(7*w_1))+(3*w_0))]\n"
     ]
    }
   ],
   "source": [
    "w = SX.sym(\"w\",3)\n",
    "f = mtimes(A,x)\n",
    "print(jtimes(f,x,w,True))"
   ]
  },
  {
   "cell_type": "code",
   "execution_count": 261,
   "metadata": {},
   "outputs": [
    {
     "name": "stdout",
     "output_type": "stream",
     "text": [
      "f: f:(i0[2],i1)->(o0[2],o1[2]) SXFunction\n"
     ]
    }
   ],
   "source": [
    "x = SX.sym(\"x\", 2)\n",
    "y = SX.sym(\"y\")\n",
    "f = Function(\"f\",[x,y],[x,sin(y)*x])\n",
    "print(\"f:\",f)"
   ]
  },
  {
   "cell_type": "code",
   "execution_count": 262,
   "metadata": {},
   "outputs": [
    {
     "name": "stdout",
     "output_type": "stream",
     "text": [
      "f: f:(i0[2],i1)->(o0[2],o1[2]) MXFunction\n"
     ]
    }
   ],
   "source": [
    "x = MX.sym(\"x\",2)\n",
    "y = MX.sym(\"y\")\n",
    "f = Function(\"f\",[x,y],[x,sin(y)*x])\n",
    "print(\"f:\", f)"
   ]
  },
  {
   "cell_type": "code",
   "execution_count": 263,
   "metadata": {},
   "outputs": [
    {
     "name": "stdout",
     "output_type": "stream",
     "text": [
      "f: f:(x[2],y)->(r[2],q[2]) MXFunction\n"
     ]
    }
   ],
   "source": [
    "x = MX.sym(\"x\",2)\n",
    "y = MX.sym(\"y\")\n",
    "f = Function(\"f\",[x,y],[x,sin(y)*x],[\"x\",\"y\"],[\"r\",\"q\"])\n",
    "print(\"f:\", f)"
   ]
  },
  {
   "cell_type": "code",
   "execution_count": 264,
   "metadata": {},
   "outputs": [
    {
     "name": "stdout",
     "output_type": "stream",
     "text": [
      "r0: [1.1, 1.1]\n",
      "q0: [-0.17352, -0.17352]\n"
     ]
    }
   ],
   "source": [
    "r0, q0 = f(1.1,3.3)\n",
    "print(\"r0:\", r0)\n",
    "print(\"q0:\", q0)"
   ]
  },
  {
   "cell_type": "code",
   "execution_count": 265,
   "metadata": {},
   "outputs": [
    {
     "data": {
      "text/plain": [
       "{'q': DM([-0.17352, -0.17352]), 'r': DM([1.1, 1.1])}"
      ]
     },
     "execution_count": 265,
     "metadata": {},
     "output_type": "execute_result"
    }
   ],
   "source": [
    "res = f(x=1.1,y=3.3)\n",
    "res"
   ]
  },
  {
   "cell_type": "code",
   "execution_count": 266,
   "metadata": {},
   "outputs": [
    {
     "name": "stdout",
     "output_type": "stream",
     "text": [
      "res: [DM([1.1, 1.1]), DM([-0.17352, -0.17352])]\n",
      "res: {'q': DM([-0.17352, -0.17352]), 'r': DM([1.1, 1.1])}\n"
     ]
    }
   ],
   "source": [
    "arg = [1.1,3.3]\n",
    "res = f.call(arg)\n",
    "print(\"res:\", res)\n",
    "arg = {\"x\":1.1,\"y\":3.3}\n",
    "res = f.call(arg)\n",
    "print(\"res:\", res)"
   ]
  },
  {
   "cell_type": "code",
   "execution_count": 267,
   "metadata": {},
   "outputs": [
    {
     "name": "stdout",
     "output_type": "stream",
     "text": [
      "f:(x[2],y)->(r[2],q[2]) MXFunction\n",
      "f:(x[2],y)->(r[2],q[2]) SXFunction\n"
     ]
    }
   ],
   "source": [
    "mx_function = f\n",
    "sx_function = mx_function.expand()\n",
    "print(f)\n",
    "print(sx_function)"
   ]
  },
  {
   "cell_type": "code",
   "execution_count": 268,
   "metadata": {},
   "outputs": [
    {
     "name": "stdout",
     "output_type": "stream",
     "text": [
      "G:(i0[2],i1[2])->(o0[2],o1[2]) Newton\n"
     ]
    }
   ],
   "source": [
    "nz = 2\n",
    "nx = 2\n",
    "z = SX.sym(\"x\",nz)\n",
    "x = SX.sym(\"x\",nx)\n",
    "g0 = sin(x+z)\n",
    "g1 = cos(x-z)\n",
    "g = Function(\"g\",[z,x],[g0,g1])\n",
    "G = rootfinder(\"G\", \"newton\", g)\n",
    "print(G)"
   ]
  },
  {
   "cell_type": "code",
   "execution_count": 269,
   "metadata": {},
   "outputs": [
    {
     "name": "stdout",
     "output_type": "stream",
     "text": [
      "F: F:(x0,z0,p,u[0],adj_xf[],adj_zf[],adj_qf[])->(xf,zf,qf[0],adj_x0[],adj_z0[],adj_p[],adj_u[]) IdasInterface\n"
     ]
    },
    {
     "name": "stderr",
     "output_type": "stream",
     "text": [
      "CasADi - 2023-06-25 16:38:06 WARNING(\"The options 't0', 'tf', 'grid' and 'output_t0' have been deprecated. Set the time grid by proving additional argument to the 'integrator' call instead.\") [.../casadi/core/integrator.cpp:495]\n"
     ]
    }
   ],
   "source": [
    "x = SX.sym(\"x\")\n",
    "z = SX.sym(\"z\")\n",
    "p = SX.sym(\"p\")\n",
    "dae = {\"x\":x, \"z\":z, \"p\":p, \"ode\":z+p, \"alg\":z*cos(z)-x}\n",
    "F = integrator(\"F\", \"idas\", dae, {\"t0\":0, \"tf\":1})\n",
    "print(\"F:\",F)"
   ]
  },
  {
   "cell_type": "code",
   "execution_count": 270,
   "metadata": {},
   "outputs": [
    {
     "name": "stdout",
     "output_type": "stream",
     "text": [
      "0.1724\n"
     ]
    }
   ],
   "source": [
    "r = F(x0=0,z0=0,p=0.1)\n",
    "print(r[\"xf\"])"
   ]
  },
  {
   "cell_type": "code",
   "execution_count": 272,
   "metadata": {},
   "outputs": [
    {
     "name": "stdout",
     "output_type": "stream",
     "text": [
      "S:(x0[3],p[],lbx[3],ubx[3],lbg,ubg,lam_x0[3],lam_g0)->(x[3],f,g,lam_x[3],lam_g,lam_p[]) IpoptInterface\n"
     ]
    }
   ],
   "source": [
    "x = SX.sym(\"x\")\n",
    "y = SX.sym(\"y\")\n",
    "z = SX.sym(\"z\")\n",
    "nlp = {\"x\": vertcat(x,y,z), \"f\": x**2+100*z**2, \"g\": z+(1-x)**2-y}\n",
    "S = nlpsol(\"S\", \"ipopt\", nlp)\n",
    "print(S)"
   ]
  },
  {
   "cell_type": "code",
   "execution_count": 279,
   "metadata": {},
   "outputs": [
    {
     "name": "stdout",
     "output_type": "stream",
     "text": [
      "This is Ipopt version 3.14.11, running with linear solver MUMPS 5.4.1.\n",
      "\n",
      "Number of nonzeros in equality constraint Jacobian...:        3\n",
      "Number of nonzeros in inequality constraint Jacobian.:        0\n",
      "Number of nonzeros in Lagrangian Hessian.............:        2\n",
      "\n",
      "Total number of variables............................:        3\n",
      "                     variables with only lower bounds:        0\n",
      "                variables with lower and upper bounds:        0\n",
      "                     variables with only upper bounds:        0\n",
      "Total number of equality constraints.................:        1\n",
      "Total number of inequality constraints...............:        0\n",
      "        inequality constraints with only lower bounds:        0\n",
      "   inequality constraints with lower and upper bounds:        0\n",
      "        inequality constraints with only upper bounds:        0\n",
      "\n",
      "iter    objective    inf_pr   inf_du lg(mu)  ||d||  lg(rg) alpha_du alpha_pr  ls\n",
      "   0  6.2500000e+01 0.00e+00 9.00e+01  -1.0 0.00e+00    -  0.00e+00 0.00e+00   0\n",
      "   1  1.8457621e+01 1.48e-02 4.10e+01  -1.0 4.10e-01   2.0 1.00e+00 1.00e+00f  1\n",
      "   2  7.8031530e+00 3.84e-03 8.76e+00  -1.0 2.63e-01   1.5 1.00e+00 1.00e+00f  1\n",
      "   3  7.1678278e+00 9.42e-05 1.04e+00  -1.0 9.32e-02   1.0 1.00e+00 1.00e+00f  1\n",
      "   4  6.7419924e+00 6.18e-03 9.95e-01  -1.0 2.69e-01   0.6 1.00e+00 1.00e+00f  1\n",
      "   5  5.4363330e+00 7.03e-02 1.04e+00  -1.7 8.40e-01   0.1 1.00e+00 1.00e+00f  1\n",
      "   6  1.2144815e+00 1.52e+00 1.32e+00  -1.7 3.21e+00  -0.4 1.00e+00 1.00e+00f  1\n",
      "   7  1.0214718e+00 2.51e-01 1.17e+01  -1.7 1.33e+00   0.9 1.00e+00 1.00e+00h  1\n",
      "   8  3.1864085e-01 1.04e-03 7.53e-01  -1.7 3.58e-01    -  1.00e+00 1.00e+00f  1\n",
      "   9  3.7092062e-66 3.19e-01 2.57e-32  -1.7 5.64e-01    -  1.00e+00 1.00e+00f  1\n",
      "iter    objective    inf_pr   inf_du lg(mu)  ||d||  lg(rg) alpha_du alpha_pr  ls\n",
      "  10  0.0000000e+00 0.00e+00 0.00e+00  -1.7 3.19e-01    -  1.00e+00 1.00e+00h  1\n",
      "\n",
      "Number of Iterations....: 10\n",
      "\n",
      "                                   (scaled)                 (unscaled)\n",
      "Objective...............:   0.0000000000000000e+00    0.0000000000000000e+00\n",
      "Dual infeasibility......:   0.0000000000000000e+00    0.0000000000000000e+00\n",
      "Constraint violation....:   0.0000000000000000e+00    0.0000000000000000e+00\n",
      "Variable bound violation:   0.0000000000000000e+00    0.0000000000000000e+00\n",
      "Complementarity.........:   0.0000000000000000e+00    0.0000000000000000e+00\n",
      "Overall NLP error.......:   0.0000000000000000e+00    0.0000000000000000e+00\n",
      "\n",
      "\n",
      "Number of objective function evaluations             = 11\n",
      "Number of objective gradient evaluations             = 11\n",
      "Number of equality constraint evaluations            = 11\n",
      "Number of inequality constraint evaluations          = 0\n",
      "Number of equality constraint Jacobian evaluations   = 11\n",
      "Number of inequality constraint Jacobian evaluations = 0\n",
      "Number of Lagrangian Hessian evaluations             = 10\n",
      "Total seconds in IPOPT                               = 0.007\n",
      "\n",
      "EXIT: Optimal Solution Found.\n",
      "           S  :   t_proc      (avg)   t_wall      (avg)    n_eval\n",
      "       nlp_f  |        0 (       0)  15.00us (681.82ns)        22\n",
      "       nlp_g  |        0 (       0)  33.00us (  1.50us)        22\n",
      "  nlp_grad_f  |        0 (       0)  26.00us (  1.08us)        24\n",
      "  nlp_hess_l  |        0 (       0)  13.00us (650.00ns)        20\n",
      "   nlp_jac_g  |        0 (       0)  18.00us (750.00ns)        24\n",
      "       total  |   7.00ms (  7.00ms)   7.81ms (  7.81ms)         1\n"
     ]
    }
   ],
   "source": [
    "r = S(x0=[2.5,3.0,0.75],\\\n",
    "      lbg=0, ubg=0)\n",
    "x_opt = r[\"x\"]  "
   ]
  }
 ],
 "metadata": {
  "kernelspec": {
   "display_name": "Python 3",
   "language": "python",
   "name": "python3"
  },
  "language_info": {
   "codemirror_mode": {
    "name": "ipython",
    "version": 3
   },
   "file_extension": ".py",
   "mimetype": "text/x-python",
   "name": "python",
   "nbconvert_exporter": "python",
   "pygments_lexer": "ipython3",
   "version": "3.11.3"
  },
  "orig_nbformat": 4
 },
 "nbformat": 4,
 "nbformat_minor": 2
}
