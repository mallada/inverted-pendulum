{
 "cells": [
  {
   "cell_type": "code",
   "execution_count": 1,
   "metadata": {},
   "outputs": [],
   "source": [
    "import numpy as np\n",
    "from numpy import radians, pi\n",
    "from lib.cartpolesystem import CartPoleSystem, Cart, Pole, StepperMotor\n",
    "from lib.cartpoleenv import CartPoleEnv\n",
    "from lib.regulators import LQR\n",
    "import time\n",
    "from time import perf_counter\n",
    "from lib.numerical import rk4_step"
   ]
  },
  {
   "cell_type": "code",
   "execution_count": 2,
   "metadata": {},
   "outputs": [
    {
     "name": "stdout",
     "output_type": "stream",
     "text": [
      "Checking if matlab equations exist...\n",
      "Using matlab equations\n",
      "Setting casadi equations\n",
      "sp_vars [s, d_s, theta1, d_theta1, dd_s, dd_theta1]\n",
      "sp_sols [(8.54296875e-7*d_theta1**2*sin(theta1)**3 + 8.54296875e-7*d_theta1**2*sin(theta1)*cos(theta1)**2 + 3.375e-7*d_theta1**2*sin(theta1) + 3.375e-7*d_theta1*cos(theta1) + 6.62428125e-5*dd_s*sin(theta1)**2 + 5.48521875e-5*dd_s*cos(theta1)**2 + 2.617e-5*dd_s - 0.00011174203125*sin(theta1)*cos(theta1))/(0.000253125*sin(theta1)**2 + 0.000253125*cos(theta1)**2 + 0.0001), (-0.0001*d_theta1 + 0.003375*dd_s*cos(theta1) + 0.03310875*sin(theta1))/(0.000253125*sin(theta1)**2 + 0.000253125*cos(theta1)**2 + 0.0001)]\n"
     ]
    },
    {
     "data": {
      "text/plain": [
       "(4,)"
      ]
     },
     "execution_count": 2,
     "metadata": {},
     "output_type": "execute_result"
    }
   ],
   "source": [
    "dt = 0.005\n",
    "g = 9.81\n",
    "r = 0.04456\n",
    "J = 0.0001\n",
    "d = 0.0001\n",
    "\n",
    "cart = Cart(0.2167, 0, (-0.8, 0.8), 0.1)\n",
    "motor = StepperMotor(r, (-10, 10), 0.2, (-2, 2), 0.1)\n",
    "poles = [Pole(0.045, 0.15, 0.075, d, J)]\n",
    "n = len(poles)\n",
    "\n",
    "system = CartPoleSystem(cart, motor, poles, g)\n",
    "\n",
    "max_time = 10\n",
    "N = int(max_time/dt)\n",
    "\n",
    "env = CartPoleEnv(system, dt, rk4_step)\n",
    "env.observation_space.shape"
   ]
  },
  {
   "cell_type": "code",
   "execution_count": 3,
   "metadata": {},
   "outputs": [],
   "source": [
    "linearization_x0 = np.array([0, 0] + [radians(0), 0]*n)\n",
    "linearization_u0 = np.array([0])\n",
    "\n",
    "A0, B0 = system.linearize(linearization_x0, linearization_u0)\n",
    "\n",
    "C = np.eye(2+2*n)\n",
    "D = np.zeros((2+2*n, 1))\n",
    "\n",
    "ct_dt = dt\n",
    "\n",
    "Q = np.diag([100, 10] + [100, 10]*n)\n",
    "R = np.diag([1])\n",
    "\n",
    "A_d0, B_d0 = LQR.discretize(ct_dt, A0, B0, C, D)\n",
    "_, K_d0 = LQR.calculate_K_d(A_d0, B_d0, Q, R)"
   ]
  },
  {
   "cell_type": "code",
   "execution_count": 4,
   "metadata": {},
   "outputs": [
    {
     "name": "stdout",
     "output_type": "stream",
     "text": [
      "A\n",
      "[[ 0.000  1.000  0.000  0.000]\n",
      " [ 0.000  0.000  0.000  0.000]\n",
      " [ 0.000  0.000  0.000  1.000]\n",
      " [ 0.000  0.000 -0.316  0.001]]\n",
      "B\n",
      "[[ 0.000]\n",
      " [ 1.000]\n",
      " [ 0.000]\n",
      " [ 0.229]]\n"
     ]
    }
   ],
   "source": [
    "np.set_printoptions(formatter={'float': '{: 0.3f}'.format})\n",
    "print(\"A\")\n",
    "print(A0)\n",
    "print(\"B\")\n",
    "print(B0)"
   ]
  },
  {
   "cell_type": "code",
   "execution_count": 5,
   "metadata": {},
   "outputs": [
    {
     "name": "stdout",
     "output_type": "stream",
     "text": [
      "The system is controllable.\n"
     ]
    }
   ],
   "source": [
    "def is_controllable(A, B):\n",
    "    n = A.shape[0]  # Number of states\n",
    "    controllability_matrix = np.column_stack([np.linalg.matrix_power(A, i) @ B for i in range(n)])\n",
    "    rank = np.linalg.matrix_rank(controllability_matrix)\n",
    "    return rank == n\n",
    "\n",
    "if is_controllable(A0, B0):\n",
    "    print(\"The system is controllable.\")\n",
    "else:\n",
    "    print(\"The system is not controllable.\")"
   ]
  },
  {
   "cell_type": "code",
   "execution_count": 6,
   "metadata": {},
   "outputs": [
    {
     "ename": "RuntimeError",
     "evalue": "Error in Function::call for 'constraint_states' [SXFunction] at .../casadi/core/function.cpp:330:\n.../casadi/core/function_internal.hpp:1618: Assertion \"arg.size()==n_in_\" failed:\nIncorrect number of inputs: Expected 5, got 7",
     "output_type": "error",
     "traceback": [
      "\u001b[1;31m---------------------------------------------------------------------------\u001b[0m",
      "\u001b[1;31mRuntimeError\u001b[0m                              Traceback (most recent call last)",
      "Cell \u001b[1;32mIn[6], line 3\u001b[0m\n\u001b[0;32m      1\u001b[0m x0 \u001b[39m=\u001b[39m np\u001b[39m.\u001b[39marray([\u001b[39m0\u001b[39m, \u001b[39m0\u001b[39m, radians(\u001b[39m-\u001b[39m\u001b[39m1\u001b[39m), \u001b[39m0\u001b[39m, radians(\u001b[39m0\u001b[39m), \u001b[39m0\u001b[39m])\n\u001b[1;32m----> 3\u001b[0m state, _ \u001b[39m=\u001b[39m env\u001b[39m.\u001b[39;49mreset(x0)\n\u001b[0;32m      5\u001b[0m r \u001b[39m=\u001b[39m np\u001b[39m.\u001b[39marray([\u001b[39m0.3\u001b[39m, \u001b[39m0\u001b[39m] \u001b[39m+\u001b[39m [radians(\u001b[39m0\u001b[39m), \u001b[39m0\u001b[39m]\u001b[39m*\u001b[39mn)\n\u001b[0;32m      7\u001b[0m last_update \u001b[39m=\u001b[39m perf_counter()\n",
      "File \u001b[1;32mc:\\Users\\sacka\\Documents\\programming\\projects\\inverted-pendulum\\src\\python\\lib\\cartpoleenv.py:76\u001b[0m, in \u001b[0;36mCartPoleEnv.reset\u001b[1;34m(self, initial_state)\u001b[0m\n\u001b[0;32m     74\u001b[0m \u001b[39mself\u001b[39m\u001b[39m.\u001b[39mstates\u001b[39m.\u001b[39mappend(initial_state)\n\u001b[0;32m     75\u001b[0m \u001b[39mself\u001b[39m\u001b[39m.\u001b[39mcontrols\u001b[39m.\u001b[39mappend(np\u001b[39m.\u001b[39mzeros(\u001b[39mself\u001b[39m\u001b[39m.\u001b[39msystem\u001b[39m.\u001b[39mnum_controls))\n\u001b[1;32m---> 76\u001b[0m \u001b[39mself\u001b[39m\u001b[39m.\u001b[39mconstraint_states\u001b[39m.\u001b[39mappend(\u001b[39mself\u001b[39;49m\u001b[39m.\u001b[39;49msystem\u001b[39m.\u001b[39;49mconstraint_states(initial_state, np\u001b[39m.\u001b[39;49mzeros(\u001b[39mself\u001b[39;49m\u001b[39m.\u001b[39;49msystem\u001b[39m.\u001b[39;49mnum_controls)))\n\u001b[0;32m     77\u001b[0m \u001b[39mself\u001b[39m\u001b[39m.\u001b[39mtimes\u001b[39m.\u001b[39mappend(\u001b[39m0\u001b[39m)\n\u001b[0;32m     78\u001b[0m \u001b[39mself\u001b[39m\u001b[39m.\u001b[39miterations \u001b[39m+\u001b[39m\u001b[39m=\u001b[39m \u001b[39m1\u001b[39m\n",
      "File \u001b[1;32mc:\\Users\\sacka\\Documents\\programming\\projects\\inverted-pendulum\\src\\python\\lib\\cartpolesystem.py:153\u001b[0m, in \u001b[0;36mCartPoleSystem.constraint_states\u001b[1;34m(self, state, control)\u001b[0m\n\u001b[0;32m    151\u001b[0m \u001b[39mdef\u001b[39;00m \u001b[39mconstraint_states\u001b[39m(\u001b[39mself\u001b[39m, state: np\u001b[39m.\u001b[39mndarray, control: np\u001b[39m.\u001b[39mndarray) \u001b[39m-\u001b[39m\u001b[39m>\u001b[39m np\u001b[39m.\u001b[39mndarray:\n\u001b[0;32m    152\u001b[0m     values \u001b[39m=\u001b[39m np\u001b[39m.\u001b[39mconcatenate((state, control))\n\u001b[1;32m--> 153\u001b[0m     c_states \u001b[39m=\u001b[39m \u001b[39mself\u001b[39;49m\u001b[39m.\u001b[39;49mca_constraint_states(\u001b[39m*\u001b[39;49mvalues)\n\u001b[0;32m    154\u001b[0m     f \u001b[39m=\u001b[39m np\u001b[39m.\u001b[39marray(c_states)\u001b[39m.\u001b[39mflatten()\u001b[39m.\u001b[39mastype(np\u001b[39m.\u001b[39mfloat64)[\u001b[39m0\u001b[39m]      \u001b[39m#type: ignore\u001b[39;00m\n\u001b[0;32m    155\u001b[0m     torque \u001b[39m=\u001b[39m f\u001b[39m*\u001b[39m\u001b[39mself\u001b[39m\u001b[39m.\u001b[39mmotor\u001b[39m.\u001b[39mr\n",
      "File \u001b[1;32mc:\\Users\\sacka\\AppData\\Local\\Programs\\Python\\Python310\\lib\\site-packages\\casadi\\casadi.py:23339\u001b[0m, in \u001b[0;36mFunction.__call__\u001b[1;34m(self, *args, **kwargs)\u001b[0m\n\u001b[0;32m  23336\u001b[0m     \u001b[39mraise\u001b[39;00m \u001b[39mSyntaxError\u001b[39;00m(\u001b[39m'\u001b[39m\u001b[39mFunction evaluation requires all arguments to be named or none\u001b[39m\u001b[39m'\u001b[39m)\n\u001b[0;32m  23337\u001b[0m   \u001b[39mif\u001b[39;00m \u001b[39mlen\u001b[39m(args)\u001b[39m>\u001b[39m\u001b[39m0\u001b[39m:\n\u001b[0;32m  23338\u001b[0m \u001b[39m# Ordered inputs -> return tuple\u001b[39;00m\n\u001b[1;32m> 23339\u001b[0m     ret \u001b[39m=\u001b[39m \u001b[39mself\u001b[39;49m\u001b[39m.\u001b[39;49mcall(args)\n\u001b[0;32m  23340\u001b[0m     \u001b[39mif\u001b[39;00m \u001b[39mlen\u001b[39m(ret)\u001b[39m==\u001b[39m\u001b[39m0\u001b[39m:\n\u001b[0;32m  23341\u001b[0m       \u001b[39mreturn\u001b[39;00m \u001b[39mNone\u001b[39;00m\n",
      "File \u001b[1;32mc:\\Users\\sacka\\AppData\\Local\\Programs\\Python\\Python310\\lib\\site-packages\\casadi\\casadi.py:20021\u001b[0m, in \u001b[0;36mFunction.call\u001b[1;34m(self, *args)\u001b[0m\n\u001b[0;32m  19850\u001b[0m \u001b[39mdef\u001b[39;00m \u001b[39mcall\u001b[39m(\u001b[39mself\u001b[39m, \u001b[39m*\u001b[39margs) \u001b[39m-\u001b[39m\u001b[39m>\u001b[39m \u001b[39m\"\u001b[39m\u001b[39mvoid\u001b[39m\u001b[39m\"\u001b[39m:\n\u001b[0;32m  19851\u001b[0m \u001b[39m    \u001b[39m\u001b[39m\"\"\"\u001b[39;00m\n\u001b[0;32m  19852\u001b[0m \u001b[39m      [INTERNAL] \u001b[39;00m\n\u001b[0;32m  19853\u001b[0m \n\u001b[1;32m   (...)\u001b[0m\n\u001b[0;32m  20019\u001b[0m \n\u001b[0;32m  20020\u001b[0m \u001b[39m    \"\"\"\u001b[39;00m\n\u001b[1;32m> 20021\u001b[0m     \u001b[39mreturn\u001b[39;00m _casadi\u001b[39m.\u001b[39;49mFunction_call(\u001b[39mself\u001b[39;49m, \u001b[39m*\u001b[39;49margs)\n",
      "\u001b[1;31mRuntimeError\u001b[0m: Error in Function::call for 'constraint_states' [SXFunction] at .../casadi/core/function.cpp:330:\n.../casadi/core/function_internal.hpp:1618: Assertion \"arg.size()==n_in_\" failed:\nIncorrect number of inputs: Expected 5, got 7"
     ]
    }
   ],
   "source": [
    "x0 = np.array([0, 0, radians(-1), 0, radians(0), 0])\n",
    "\n",
    "state, _ = env.reset(x0)\n",
    "\n",
    "r = np.array([0.3, 0] + [radians(0), 0]*n)\n",
    "\n",
    "last_update = perf_counter()\n",
    "\n",
    "time1 = time2 = 0\n",
    "\n",
    "for i in range(N-1):\n",
    "    while perf_counter() < last_update + dt:\n",
    "        pass\n",
    "    last_update = perf_counter()\n",
    "    error = system.calculate_error(state, r)\n",
    "    control = LQR.feedback(K_d0, error)\n",
    "    time1 = time.perf_counter()\n",
    "    state, reward, done, msg, _ = env.step(control)\n",
    "    time2 = time.perf_counter()\n",
    "    env.render()\n",
    "env.close()\n",
    "print(time2-time1)"
   ]
  }
 ],
 "metadata": {
  "kernelspec": {
   "display_name": "Python 3",
   "language": "python",
   "name": "python3"
  },
  "language_info": {
   "codemirror_mode": {
    "name": "ipython",
    "version": 3
   },
   "file_extension": ".py",
   "mimetype": "text/x-python",
   "name": "python",
   "nbconvert_exporter": "python",
   "pygments_lexer": "ipython3",
   "version": "3.10.11"
  },
  "orig_nbformat": 4,
  "vscode": {
   "interpreter": {
    "hash": "c47ec04b89712c100c23235f37aeb6c5bf9d4067c9ef07c39aad2ce02bf1608c"
   }
  }
 },
 "nbformat": 4,
 "nbformat_minor": 2
}
