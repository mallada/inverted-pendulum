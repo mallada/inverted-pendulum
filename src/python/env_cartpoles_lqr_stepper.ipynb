{
 "cells": [
  {
   "cell_type": "code",
   "execution_count": 1,
   "metadata": {},
   "outputs": [],
   "source": [
    "import numpy as np\n",
    "from numpy import radians, pi\n",
    "from lib.cartpolesystem import CartPoleSystem, Cart, Pole, StepperMotor\n",
    "from lib.cartpoleenv import CartPoleEnv\n",
    "from lib.regulators import LQR\n",
    "import time\n",
    "from time import perf_counter\n",
    "from lib.numerical import rk4_step"
   ]
  },
  {
   "cell_type": "code",
   "execution_count": 3,
   "metadata": {},
   "outputs": [
    {
     "data": {
      "text/plain": [
       "(6,)"
      ]
     },
     "execution_count": 3,
     "metadata": {},
     "output_type": "execute_result"
    }
   ],
   "source": [
    "dt = 0.005\n",
    "g = 9.81\n",
    "r = 0.04456\n",
    "J = 0.0001\n",
    "d = 0.0001\n",
    "\n",
    "cart = Cart(0.2167, 0, (-0.8, 0.8), 0.1)\n",
    "motor = StepperMotor(r, (-10, 10), 0.2, (-2, 2), 0.1)\n",
    "poles = [Pole(0.045, 0.15, 0.075, d, J),Pole(0.045, 0.2, 0.1, d, J)]\n",
    "n = len(poles)\n",
    "\n",
    "system = CartPoleSystem(cart, motor, poles, g)\n",
    "\n",
    "max_time = 10\n",
    "N = int(max_time/dt)\n",
    "\n",
    "env = CartPoleEnv(system, dt, rk4_step)\n",
    "env.observation_space.shape"
   ]
  },
  {
   "cell_type": "code",
   "execution_count": 4,
   "metadata": {},
   "outputs": [],
   "source": [
    "linearization_x0 = np.array([0, 0] + [radians(0), 0]*n)\n",
    "linearization_u0 = np.array([0])\n",
    "\n",
    "A0, B0 = system.linearize(linearization_x0, linearization_u0)\n",
    "\n",
    "C = np.eye(2+2*n)\n",
    "D = np.zeros((2+2*n, 1))\n",
    "\n",
    "ct_dt = dt\n",
    "\n",
    "Q = np.diag([100, 10] + [100, 10]*n)\n",
    "R = np.diag([1])\n",
    "\n",
    "A_d0, B_d0 = LQR.discretize(ct_dt, A0, B0, C, D)\n",
    "_, K_d0 = LQR.calculate_K_d(A_d0, B_d0, Q, R)"
   ]
  },
  {
   "cell_type": "code",
   "execution_count": 5,
   "metadata": {},
   "outputs": [
    {
     "name": "stdout",
     "output_type": "stream",
     "text": [
      "A\n",
      "[[ 0.000  1.000  0.000  0.000  0.000  0.000]\n",
      " [ 0.000  0.000  0.000  0.000  0.000  0.000]\n",
      " [ 0.000  0.000  0.000  1.000  0.000  0.000]\n",
      " [ 0.000  0.000  184.891 -0.601 -100.849  0.415]\n",
      " [ 0.000  0.000  0.000  0.000  0.000  1.000]\n",
      " [ 0.000  0.000 -226.911  0.919  204.033 -0.691]]\n",
      "B\n",
      "[[ 0.000]\n",
      " [ 1.000]\n",
      " [ 0.000]\n",
      " [ 8.567]\n",
      " [ 0.000]\n",
      " [-2.332]]\n"
     ]
    }
   ],
   "source": [
    "np.set_printoptions(formatter={'float': '{: 0.3f}'.format})\n",
    "print(\"A\")\n",
    "print(A0)\n",
    "print(\"B\")\n",
    "print(B0)"
   ]
  },
  {
   "cell_type": "code",
   "execution_count": 6,
   "metadata": {},
   "outputs": [
    {
     "name": "stdout",
     "output_type": "stream",
     "text": [
      "The system is controllable.\n"
     ]
    }
   ],
   "source": [
    "def is_controllable(A, B):\n",
    "    n = A.shape[0]  # Number of states\n",
    "    controllability_matrix = np.column_stack([np.linalg.matrix_power(A, i) @ B for i in range(n)])\n",
    "    rank = np.linalg.matrix_rank(controllability_matrix)\n",
    "    return rank == n\n",
    "\n",
    "if is_controllable(A0, B0):\n",
    "    print(\"The system is controllable.\")\n",
    "else:\n",
    "    print(\"The system is not controllable.\")"
   ]
  },
  {
   "cell_type": "code",
   "execution_count": 7,
   "metadata": {},
   "outputs": [
    {
     "ename": "AttributeError",
     "evalue": "'NoneType' object has no attribute 'fill'",
     "output_type": "error",
     "traceback": [
      "\u001b[1;31m---------------------------------------------------------------------------\u001b[0m",
      "\u001b[1;31mAttributeError\u001b[0m                            Traceback (most recent call last)",
      "Cell \u001b[1;32mIn[7], line 20\u001b[0m\n\u001b[0;32m     18\u001b[0m     state, reward, done, msg, _ \u001b[39m=\u001b[39m env\u001b[39m.\u001b[39mstep(control)\n\u001b[0;32m     19\u001b[0m     time2 \u001b[39m=\u001b[39m time\u001b[39m.\u001b[39mperf_counter()\n\u001b[1;32m---> 20\u001b[0m     env\u001b[39m.\u001b[39;49mrender()\n\u001b[0;32m     21\u001b[0m env\u001b[39m.\u001b[39mclose()\n\u001b[0;32m     22\u001b[0m \u001b[39mprint\u001b[39m(time2\u001b[39m-\u001b[39mtime1)\n",
      "File \u001b[1;32mc:\\Users\\sacka\\Documents\\programming\\projects\\inverted-pendulum\\src\\python\\lib\\cartpoleenv.py:160\u001b[0m, in \u001b[0;36mCartPoleEnv.render\u001b[1;34m(self, *states)\u001b[0m\n\u001b[0;32m    157\u001b[0m     \u001b[39mself\u001b[39m\u001b[39m.\u001b[39mclose()\n\u001b[0;32m    159\u001b[0m background_color \u001b[39m=\u001b[39m Colors\u001b[39m.\u001b[39mlight_gray\n\u001b[1;32m--> 160\u001b[0m \u001b[39mself\u001b[39;49m\u001b[39m.\u001b[39;49mscreen\u001b[39m.\u001b[39;49mfill(background_color)\n\u001b[0;32m    162\u001b[0m \u001b[39mif\u001b[39;00m \u001b[39mnot\u001b[39;00m states:\n\u001b[0;32m    163\u001b[0m   states \u001b[39m=\u001b[39m \u001b[39mtuple\u001b[39m([\u001b[39mself\u001b[39m\u001b[39m.\u001b[39mget_state()])\n",
      "\u001b[1;31mAttributeError\u001b[0m: 'NoneType' object has no attribute 'fill'"
     ]
    }
   ],
   "source": [
    "x0 = np.array([0, 0, radians(-1), 0, radians(0), 0])\n",
    "\n",
    "state, _ = env.reset(x0)\n",
    "\n",
    "r = np.array([0.3, 0] + [radians(0), 0]*n)\n",
    "\n",
    "last_update = perf_counter()\n",
    "\n",
    "time1 = time2 = 0\n",
    "\n",
    "for i in range(N-1):\n",
    "    while perf_counter() < last_update + dt:\n",
    "        pass\n",
    "    last_update = perf_counter()\n",
    "    error = system.calculate_error(state, r)\n",
    "    control = LQR.feedback(K_d0, error)\n",
    "    time1 = time.perf_counter()\n",
    "    state, reward, done, msg, _ = env.step(control)\n",
    "    time2 = time.perf_counter()\n",
    "    env.render()\n",
    "env.close()\n",
    "print(time2-time1)"
   ]
  }
 ],
 "metadata": {
  "kernelspec": {
   "display_name": "Python 3",
   "language": "python",
   "name": "python3"
  },
  "language_info": {
   "codemirror_mode": {
    "name": "ipython",
    "version": 3
   },
   "file_extension": ".py",
   "mimetype": "text/x-python",
   "name": "python",
   "nbconvert_exporter": "python",
   "pygments_lexer": "ipython3",
   "version": "3.10.11"
  },
  "orig_nbformat": 4,
  "vscode": {
   "interpreter": {
    "hash": "c47ec04b89712c100c23235f37aeb6c5bf9d4067c9ef07c39aad2ce02bf1608c"
   }
  }
 },
 "nbformat": 4,
 "nbformat_minor": 2
}
