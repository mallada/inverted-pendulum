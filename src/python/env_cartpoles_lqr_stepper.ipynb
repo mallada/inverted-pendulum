{
 "cells": [
  {
   "cell_type": "code",
   "execution_count": 1,
   "metadata": {},
   "outputs": [],
   "source": [
    "import numpy as np\n",
    "from numpy import radians, pi\n",
    "from lib.cartpolesystem import CartPoleStepperMotorSystem, Cart, Pole, StepperMotor\n",
    "from lib.cartpoleenv import CartPoleEnv\n",
    "from lib.colors import Colors\n",
    "from lib.controllers import LQR\n",
    "import time\n",
    "from time import perf_counter\n",
    "from matplotlib import pyplot as plt\n",
    "from lib.numerical import fe_step, rk4_step"
   ]
  },
  {
   "cell_type": "code",
   "execution_count": 2,
   "metadata": {},
   "outputs": [
    {
     "data": {
      "text/plain": [
       "(6,)"
      ]
     },
     "execution_count": 2,
     "metadata": {},
     "output_type": "execute_result"
    }
   ],
   "source": [
    "dt = 0.02\n",
    "g = 9.81\n",
    "\n",
    "cart = Cart(0.1, 0.01, (-0.8, 0.8), 0.1)\n",
    "motor = StepperMotor(0.05, (-2, 2), 0.2, (-100, 100), 0.2)\n",
    "poles = [Pole(0.1, 0.2, 0.01), Pole(0.1, 0.3, 0.01)]\n",
    "n = len(poles)\n",
    "\n",
    "system = CartPoleStepperMotorSystem(cart, motor, poles, g)\n",
    "\n",
    "max_time = 10\n",
    "N = int(max_time/dt)\n",
    "\n",
    "env = CartPoleEnv(system, dt, N, rk4_step)\n",
    "env.observation_space.shape"
   ]
  },
  {
   "cell_type": "code",
   "execution_count": 3,
   "metadata": {},
   "outputs": [],
   "source": [
    "linearization_x0 = np.array([0, 0] + [radians(0), 0]*n)\n",
    "linearization_u0 = np.array([0])\n",
    "\n",
    "A0, B0 = system.linearize(linearization_x0, linearization_u0)\n",
    "\n",
    "C = np.eye(2+2*n)\n",
    "D = np.zeros((2+2*n, 1))\n",
    "\n",
    "ct_dt = dt\n",
    "\n",
    "lqr = LQR(ct_dt)\n",
    "\n",
    "Q = np.diag([10, 1] + [100, 10]*n)\n",
    "R = np.diag([1])\n",
    "\n",
    "A_d0, B_d0 = lqr.discretize(A0, B0, C, D)\n",
    "_, K_d0 = lqr.calculate_K_d(A_d0, B_d0, Q, R)"
   ]
  },
  {
   "cell_type": "code",
   "execution_count": 4,
   "metadata": {},
   "outputs": [
    {
     "name": "stdout",
     "output_type": "stream",
     "text": [
      "A\n",
      "[[ 0.000  1.000  0.000  0.000  0.000  0.000]\n",
      " [ 0.000  0.000  0.000  0.000  0.000  0.000]\n",
      " [ 0.000  0.000  0.000  1.000  0.000  0.000]\n",
      " [ 0.000  0.000  42.043 -4.286  0.000  0.000]\n",
      " [ 0.000  0.000  0.000  0.000  0.000  1.000]\n",
      " [ 0.000  0.000  0.000  0.000  28.029 -1.905]]\n",
      "B\n",
      "[[ 0.000]\n",
      " [ 1.000]\n",
      " [ 0.000]\n",
      " [-4.286]\n",
      " [ 0.000]\n",
      " [-2.857]]\n"
     ]
    }
   ],
   "source": [
    "np.set_printoptions(formatter={'float': '{: 0.3f}'.format})\n",
    "print(\"A\")\n",
    "print(A0)\n",
    "print(\"B\")\n",
    "print(B0)"
   ]
  },
  {
   "cell_type": "code",
   "execution_count": 5,
   "metadata": {},
   "outputs": [
    {
     "name": "stdout",
     "output_type": "stream",
     "text": [
      "The system is controllable.\n"
     ]
    }
   ],
   "source": [
    "def is_controllable(A, B):\n",
    "    n = A.shape[0]  # Number of states\n",
    "    controllability_matrix = np.column_stack([np.linalg.matrix_power(A, i) @ B for i in range(n)])\n",
    "    rank = np.linalg.matrix_rank(controllability_matrix)\n",
    "    return rank == n\n",
    "\n",
    "if is_controllable(A0, B0):\n",
    "    print(\"The system is controllable.\")\n",
    "else:\n",
    "    print(\"The system is not controllable.\")"
   ]
  },
  {
   "cell_type": "code",
   "execution_count": 6,
   "metadata": {},
   "outputs": [
    {
     "name": "stdout",
     "output_type": "stream",
     "text": [
      "0.0002901999978348613\n"
     ]
    }
   ],
   "source": [
    "x0 = np.array([-0.4, 0, radians(5), 0, radians(4), 0])\n",
    "\n",
    "state, _ = env.reset(x0)\n",
    "\n",
    "r = np.array([0.1, 0] + [radians(0), 0]*n)\n",
    "\n",
    "last_update = perf_counter()\n",
    "\n",
    "time1 = time2 = 0\n",
    "\n",
    "for i in range(N-1):\n",
    "    while perf_counter() < last_update + dt:\n",
    "        pass\n",
    "    last_update = perf_counter()\n",
    "    error = system.calculate_error(state, r)\n",
    "    control = lqr.feedback(K_d0, error)\n",
    "    time1 = time.perf_counter()\n",
    "    state, reward, done, msg, _ = env.step(control)\n",
    "    time2 = time.perf_counter()\n",
    "    env.render()\n",
    "env.close()\n",
    "print(time2-time1)"
   ]
  }
 ],
 "metadata": {
  "kernelspec": {
   "display_name": "Python 3",
   "language": "python",
   "name": "python3"
  },
  "language_info": {
   "codemirror_mode": {
    "name": "ipython",
    "version": 3
   },
   "file_extension": ".py",
   "mimetype": "text/x-python",
   "name": "python",
   "nbconvert_exporter": "python",
   "pygments_lexer": "ipython3",
   "version": "3.11.3"
  },
  "orig_nbformat": 4,
  "vscode": {
   "interpreter": {
    "hash": "c47ec04b89712c100c23235f37aeb6c5bf9d4067c9ef07c39aad2ce02bf1608c"
   }
  }
 },
 "nbformat": 4,
 "nbformat_minor": 2
}
