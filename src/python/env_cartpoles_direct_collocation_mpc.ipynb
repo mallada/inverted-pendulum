{
 "cells": [
  {
   "cell_type": "code",
   "execution_count": 1,
   "metadata": {},
   "outputs": [],
   "source": [
    "import numpy as np\n",
    "from numpy import radians, pi\n",
    "from lib.cartpolesystem import CartPoleSystem\n",
    "from lib.cartpoleenv import CartPoleEnv\n",
    "from lib.colors import Colors\n",
    "from lib.direct_collocation import DirectCollocation\n",
    "import time\n",
    "from lib.controllers import LQR\n",
    "from time import perf_counter\n",
    "from matplotlib import pyplot as plt\n",
    "from scipy.io import savemat"
   ]
  },
  {
   "cell_type": "code",
   "execution_count": 2,
   "metadata": {},
   "outputs": [
    {
     "data": {
      "text/plain": [
       "(6, 1)"
      ]
     },
     "execution_count": 2,
     "metadata": {},
     "output_type": "execute_result"
    }
   ],
   "source": [
    "dt = 0.01\n",
    "g = 9.81\n",
    "\n",
    "n = 2\n",
    "system_noise = 0 * np.diag(np.ones(2+2*n))\n",
    "\n",
    "system = CartPoleSystem(\n",
    "    (0.0, 0.5, 0.005, -0.8, 0.8, Colors.red),\n",
    "    (0.2, 8.7e-5, 8.7e-5, 0.02, 0.05, 2400.0, Colors.black),\n",
    "    [\n",
    "        (0, 0.2, 0.2, 0.001, Colors.green),\n",
    "        (0, 0.1, 0.2, 0.001, Colors.blue),\n",
    "    ],\n",
    "    g,\n",
    "    dt,\n",
    "    \"rk4\",\n",
    "    \"nonlinear\",\n",
    "    system_noise\n",
    ")\n",
    "\n",
    "env = CartPoleEnv(system, dt, g)\n",
    "env.observation_space.shape"
   ]
  },
  {
   "cell_type": "code",
   "execution_count": 3,
   "metadata": {},
   "outputs": [],
   "source": [
    "direct_collocation = DirectCollocation(\n",
    "    7,\n",
    "    system.differentiate, \n",
    "    env.observation_space.shape[0],\n",
    "    env.action_space.shape[0],\n",
    "    env.observation_space.low,\n",
    "    env.observation_space.high,\n",
    "    env.action_space.low,\n",
    "    env.action_space.high,\n",
    "    0.1\n",
    ")\n",
    "\n",
    "x0 = np.vstack([-0.1, 0, radians(180), 0, radians(180), 0])\n",
    "\n",
    "r = np.vstack(\n",
    "    [0.1, 0, 0, 0, 0,0]\n",
    ")\n"
   ]
  },
  {
   "cell_type": "code",
   "execution_count": 4,
   "metadata": {},
   "outputs": [
    {
     "ename": "AttributeError",
     "evalue": "'NoneType' object has no attribute 'fill'",
     "output_type": "error",
     "traceback": [
      "\u001b[1;31m---------------------------------------------------------------------------\u001b[0m",
      "\u001b[1;31mAttributeError\u001b[0m                            Traceback (most recent call last)",
      "Cell \u001b[1;32mIn[4], line 24\u001b[0m\n\u001b[0;32m     21\u001b[0m         u \u001b[39m=\u001b[39m np\u001b[39m.\u001b[39mvstack([control[\u001b[39m0\u001b[39m][k]])\n\u001b[0;32m     23\u001b[0m         obs, reward, done, msg, _ \u001b[39m=\u001b[39m env\u001b[39m.\u001b[39mstep(u)\n\u001b[1;32m---> 24\u001b[0m         env\u001b[39m.\u001b[39;49mrender()\n\u001b[0;32m     25\u001b[0m env\u001b[39m.\u001b[39mclose()\n",
      "File \u001b[1;32mc:\\Users\\sacka\\Documents\\programming\\projects\\inverted-pendulum\\src\\lib\\cartpoleenv.py:126\u001b[0m, in \u001b[0;36mCartPoleEnv.render\u001b[1;34m(self, optional_text)\u001b[0m\n\u001b[0;32m    123\u001b[0m   \u001b[39mif\u001b[39;00m event\u001b[39m.\u001b[39mtype \u001b[39m==\u001b[39m pygame\u001b[39m.\u001b[39mQUIT: \n\u001b[0;32m    124\u001b[0m     \u001b[39mself\u001b[39m\u001b[39m.\u001b[39mclose()\n\u001b[1;32m--> 126\u001b[0m \u001b[39mself\u001b[39;49m\u001b[39m.\u001b[39;49mscreen\u001b[39m.\u001b[39;49mfill(Colors\u001b[39m.\u001b[39mgray)\n\u001b[0;32m    128\u001b[0m state \u001b[39m=\u001b[39m \u001b[39mself\u001b[39m\u001b[39m.\u001b[39msystem\u001b[39m.\u001b[39mget_state()\n\u001b[0;32m    129\u001b[0m state \u001b[39m=\u001b[39m state\u001b[39m.\u001b[39mT[\u001b[39m0\u001b[39m]\n",
      "\u001b[1;31mAttributeError\u001b[0m: 'NoneType' object has no attribute 'fill'"
     ]
    }
   ],
   "source": [
    "last_update = perf_counter()\n",
    "\n",
    "obs, _ = env.reset(x0)\n",
    "\n",
    "time_longer = 10\n",
    "N_longer = int(time_longer/dt)\n",
    "\n",
    "end_time = 1\n",
    "follow_curve = 1\n",
    "\n",
    "for i in range(N_longer):\n",
    "    time_left = end_time - i*dt\n",
    "    N = int(time_left/dt)\n",
    "    state, control = direct_collocation.make_controller(time_left, obs, r)\n",
    "\n",
    "    for k in range(follow_curve):\n",
    "        while perf_counter() < last_update + dt:\n",
    "            pass\n",
    "        last_update = perf_counter()\n",
    "\n",
    "        u = np.vstack([control[0][k]])\n",
    "\n",
    "        obs, reward, done, msg, _ = env.step(u)\n",
    "        env.render()\n",
    "env.close()"
   ]
  }
 ],
 "metadata": {
  "kernelspec": {
   "display_name": "Python 3",
   "language": "python",
   "name": "python3"
  },
  "language_info": {
   "codemirror_mode": {
    "name": "ipython",
    "version": 3
   },
   "file_extension": ".py",
   "mimetype": "text/x-python",
   "name": "python",
   "nbconvert_exporter": "python",
   "pygments_lexer": "ipython3",
   "version": "3.11.2"
  },
  "orig_nbformat": 4,
  "vscode": {
   "interpreter": {
    "hash": "c47ec04b89712c100c23235f37aeb6c5bf9d4067c9ef07c39aad2ce02bf1608c"
   }
  }
 },
 "nbformat": 4,
 "nbformat_minor": 2
}
