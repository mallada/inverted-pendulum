{
 "cells": [
  {
   "cell_type": "code",
   "execution_count": 43,
   "metadata": {},
   "outputs": [],
   "source": [
    "import casadi as ca"
   ]
  },
  {
   "cell_type": "code",
   "execution_count": 44,
   "metadata": {},
   "outputs": [],
   "source": [
    "num_poles = 3\n",
    "\n",
    "pole_as = [0.05, 0.1, 0.15]\n",
    "pole_ls = [0.1, 0.2, 0.3]\n",
    "pole_ms = [0.1, 0.15, 0.2]\n",
    "pole_ds = [0.01, 0.01, 0.01]\n",
    "pole_Js = [0.13, 0.12, 0.11]\n",
    "\n",
    "m_c = 0.5\n",
    "g = 9.81"
   ]
  },
  {
   "cell_type": "code",
   "execution_count": 45,
   "metadata": {},
   "outputs": [],
   "source": [
    "s = ca.MX.sym(\"s\")\n",
    "d_s = ca.MX.sym(\"d_s\")\n",
    "dd_s = ca.MX.sym(\"dd_s\")\n",
    "thetas = [ca.MX.sym(f\"theta_{i+1}\") for i in range(num_poles)]\n",
    "d_thetas = [ca.MX.sym(f\"d_theta_{i+1}\") for i in range(num_poles)]\n",
    "dd_thetas = [ca.MX.sym(f\"dd_theta_{i+1}\") for i in range(num_poles)]\n",
    "u = dd_s\n",
    "\n",
    "derivate_by_time_dict = {s: d_s, d_s: dd_s}\n",
    "for i in range(num_poles):\n",
    "    derivate_by_time_dict[thetas[i]] = d_thetas[i]\n",
    "    derivate_by_time_dict[d_thetas[i]] = dd_thetas[i]\n",
    "\n",
    "def derivate_by_time(expr):\n",
    "    for var, der in list(derivate_by_time_dict.items())[::-1]:\n",
    "        expr = ca.substitute(expr, var, der)\n",
    "    return expr"
   ]
  },
  {
   "cell_type": "code",
   "execution_count": 46,
   "metadata": {},
   "outputs": [],
   "source": [
    "pole_pcs = []\n",
    "for i, (theta, a) in enumerate(zip(thetas, pole_as)):\n",
    "    prev_1 = 0\n",
    "    prev_2 = 0\n",
    "    for prev_l, prev_theta in list(zip(pole_ls, thetas))[:i]:\n",
    "        prev_1 += -prev_l*ca.sin(prev_theta)\n",
    "        prev_2 += prev_l*ca.cos(prev_theta)\n",
    "    pole_pcs.append([s-a*ca.sin(theta)+prev_1, a*ca.cos(theta)+prev_2])"
   ]
  },
  {
   "cell_type": "code",
   "execution_count": 47,
   "metadata": {},
   "outputs": [],
   "source": [
    "def square_sum(x: tuple):\n",
    "    result = 0\n",
    "    for x_i in x:\n",
    "        result += x_i**2\n",
    "    return result\n",
    "\n",
    "T_c = 1/2*m_c*d_s**2\n",
    "T_p = 1/2*sum(m*square_sum(pc) for m, pc in zip(pole_ms, pole_pcs))+1/2*sum(J*d_theta**2 for J, d_theta in zip(pole_Js, d_thetas))\n",
    "T = T_c + T_p\n",
    "V = 0\n",
    "for m, pc in zip(pole_ms, pole_pcs):\n",
    "    V += g*m*pc[0]\n",
    "R = 0\n",
    "prev_w = 0\n",
    "for d, d_theta in zip(pole_ds, d_thetas):\n",
    "    R += 1/2*d*(d_theta-prev_w)**2\n",
    "    prev_w = d_theta"
   ]
  },
  {
   "cell_type": "code",
   "execution_count": 48,
   "metadata": {},
   "outputs": [
    {
     "data": {
      "text/plain": [
       "[SX(@1=0.1, @2=(s-(0.05*sin(theta_1))), @3=0.15, @4=-0.1, @5=((s-(@1*sin(theta_2)))+(@4*sin(theta_1))), @6=((s-(@3*sin(theta_3)))+((@4*sin(theta_1))+(-0.2*sin(theta_2)))), (((0.25*(dd_s+dd_s))-((0.5*(((@1*(@2+@2))+(@3*(@5+@5)))+(0.2*(@6+@6))))+-4.4145))-dd_s)),\n",
       " SX(@1=0.5, @2=0.15, @3=0.1, @4=-0.1, @5=((s-(@3*sin(theta_2)))+(@4*sin(theta_1))), @6=(@4*cos(theta_1)), @7=((@3*cos(theta_2))+(@3*cos(theta_1))), @8=0.05, @9=(s-(@8*sin(theta_1))), @10=(@8*cos(theta_1)), @11=(@8*cos(theta_1)), @12=0.2, @13=((s-(@2*sin(theta_3)))+((@4*sin(theta_1))+(-0.2*sin(theta_2)))), @14=(@4*cos(theta_1)), @15=((@2*cos(theta_3))+((@3*cos(theta_1))+(@12*cos(theta_2)))), @16=0.005, @17=(d_theta_2-d_theta_1), ((@1*(0.13*(dd_theta_1+dd_theta_1)))-(((@1*(((@2*(((@5+@5)*@6)-((@7+@7)*(@3*sin(theta_1)))))-(@3*(((@9+@9)*@10)+((@11+@11)*(@8*sin(theta_1))))))+(@12*(((@13+@13)*@14)-((@15+@15)*(@3*sin(theta_1)))))))-(((1.4715*@6)-(0.981*@10))+(1.962*@14)))+((@16*(d_theta_1+d_theta_1))-(@16*(@17+@17)))))),\n",
       " SX(@1=0.5, @2=0.2, @3=0.15, @4=-0.1, @5=-0.2, @6=((s-(@3*sin(theta_3)))+((@4*sin(theta_1))+(@5*sin(theta_2)))), @7=(@5*cos(theta_2)), @8=0.1, @9=((@3*cos(theta_3))+((@8*cos(theta_1))+(@2*cos(theta_2)))), @10=((s-(@8*sin(theta_2)))+(@4*sin(theta_1))), @11=(@8*cos(theta_2)), @12=((@8*cos(theta_2))+(@8*cos(theta_1))), @13=0.005, @14=(d_theta_2-d_theta_1), @15=(d_theta_3-d_theta_2), ((@1*(0.12*(dd_theta_2+dd_theta_2)))-(((@1*((@2*(((@6+@6)*@7)-((@9+@9)*(@2*sin(theta_2)))))-(@3*(((@10+@10)*@11)+((@12+@12)*(@8*sin(theta_2)))))))-((1.962*@7)-(1.4715*@11)))+((@13*(@14+@14))-(@13*(@15+@15)))))),\n",
       " SX(@1=0.5, @2=0.15, @3=(@2*cos(theta_3)), @4=0.2, @5=((s-(@2*sin(theta_3)))+((-0.1*sin(theta_1))+(-0.2*sin(theta_2)))), @6=((@2*cos(theta_3))+((0.1*cos(theta_1))+(@4*cos(theta_2)))), @7=(d_theta_3-d_theta_2), ((@1*(0.11*(dd_theta_3+dd_theta_3)))-(((1.962*@3)-(@1*(@4*(((@5+@5)*@3)+((@6+@6)*(@2*sin(theta_3)))))))+(0.005*(@7+@7)))))]"
      ]
     },
     "execution_count": 48,
     "metadata": {},
     "output_type": "execute_result"
    }
   ],
   "source": [
    "L = T-V\n",
    "eqs = []\n",
    "lh = derivate_by_time(ca.jacobian(L, d_s))\n",
    "lh -= ca.jacobian(L, s) + ca.jacobian(R, d_s)\n",
    "rh = u\n",
    "eqs.append(lh-rh)\n",
    "for theta, d_theta in zip(thetas, d_thetas):\n",
    "    lh = derivate_by_time(ca.jacobian(L, d_theta))\n",
    "    lh -= ca.jacobian(L, theta) + ca.jacobian(R, d_theta)\n",
    "    rh = 0\n",
    "    eqs.append(lh-rh)\n",
    "eqs"
   ]
  },
  {
   "cell_type": "code",
   "execution_count": 49,
   "metadata": {},
   "outputs": [
    {
     "name": "stdout",
     "output_type": "stream",
     "text": [
      "0x1\n"
     ]
    }
   ],
   "source": [
    "ca.fsolve"
   ]
  }
 ],
 "metadata": {
  "kernelspec": {
   "display_name": "Python 3",
   "language": "python",
   "name": "python3"
  },
  "language_info": {
   "codemirror_mode": {
    "name": "ipython",
    "version": 3
   },
   "file_extension": ".py",
   "mimetype": "text/x-python",
   "name": "python",
   "nbconvert_exporter": "python",
   "pygments_lexer": "ipython3",
   "version": "3.11.3"
  },
  "orig_nbformat": 4
 },
 "nbformat": 4,
 "nbformat_minor": 2
}
