{
 "cells": [
  {
   "cell_type": "code",
   "execution_count": 32,
   "metadata": {},
   "outputs": [],
   "source": [
    "import sympy as sp\n",
    "import numpy as np \n",
    "from numpy import radians\n",
    "from time import perf_counter"
   ]
  },
  {
   "cell_type": "code",
   "execution_count": 33,
   "metadata": {},
   "outputs": [],
   "source": [
    "num_poles = 2\n",
    "\n",
    "pole_as = [0.1 for i in range(num_poles)]\n",
    "pole_ls = [0.2 for i in range(num_poles)]\n",
    "pole_ms = [0.05 for i in range(num_poles)]\n",
    "pole_ds = [0.01 for i in range(num_poles)]\n",
    "pole_Js = [0.1 for i in range(num_poles)]\n",
    "\n",
    "m_c = 0.5\n",
    "g = 9.81"
   ]
  },
  {
   "cell_type": "code",
   "execution_count": 34,
   "metadata": {},
   "outputs": [],
   "source": [
    "t = sp.Symbol(\"t\")\n",
    "s = sp.Function(\"s\")(t)\n",
    "d_s = sp.diff(s, t)\n",
    "dd_s = sp.diff(d_s, t)\n",
    "thetas = [sp.Function(f\"theta_{i+1}\")(t) for i in range(num_poles)]\n",
    "d_thetas = [sp.diff(theta,t) for theta in thetas]\n",
    "dd_thetas = [sp.diff(d_theta,t) for d_theta in d_thetas]\n",
    "tau = sp.Symbol(\"tau\")"
   ]
  },
  {
   "cell_type": "code",
   "execution_count": 35,
   "metadata": {},
   "outputs": [],
   "source": [
    "pole_pcs = []\n",
    "for i, (theta, a) in enumerate(zip(thetas, pole_as)):\n",
    "    prev_1 = 0\n",
    "    prev_2 = 0\n",
    "    for prev_l, prev_theta in list(zip(pole_ls, thetas))[:i]:\n",
    "        prev_1 += -prev_l*sp.sin(prev_theta)\n",
    "        prev_2 += prev_l*sp.cos(prev_theta)\n",
    "    pole_pcs.append([s-a*sp.sin(theta)+prev_1, a*sp.cos(theta)+prev_2])"
   ]
  },
  {
   "cell_type": "code",
   "execution_count": 36,
   "metadata": {},
   "outputs": [
    {
     "name": "stdout",
     "output_type": "stream",
     "text": [
      "0.025*(-0.1*cos(theta_1(t))*Derivative(theta_1(t), t) + Derivative(s(t), t))**2 + 0.00025*sin(theta_1(t))**2*Derivative(theta_1(t), t)**2 + 0.05*Derivative(theta_1(t), t)**2\n",
      "0.001*(-sin(theta_1(t))*Derivative(theta_1(t), t) - 0.5*sin(theta_2(t))*Derivative(theta_2(t), t))**2 + 0.025*(-0.2*cos(theta_1(t))*Derivative(theta_1(t), t) - 0.1*cos(theta_2(t))*Derivative(theta_2(t), t) + Derivative(s(t), t))**2 + 0.05*Derivative(theta_2(t), t)**2\n"
     ]
    }
   ],
   "source": [
    "def square_sum(x: tuple):\n",
    "    result = 0\n",
    "    for x_i in x:\n",
    "        result += x_i**2\n",
    "    return result\n",
    "\n",
    "T = [1/2*m_c*d_s**2]\n",
    "for m, pc, J, d_theta in zip(pole_ms, pole_pcs, pole_Js, d_thetas):\n",
    "    d_pc = [sp.diff(p,t) for p in pc]\n",
    "    T_p = 1/2*m*square_sum(d_pc) + 1/2*J*d_theta**2\n",
    "    T.append(T_p)\n",
    "    print(T_p)\n",
    "    \n",
    "V = 0   \n",
    "for m, pc in zip(pole_ms, pole_pcs  ):\n",
    "    V += g*m*pc[1]\n",
    "R = 0\n",
    "prev_w = 0\n",
    "for d, d_theta in zip(pole_ds, d_thetas):\n",
    "    R += 1/2*d*(d_theta-prev_w)**2\n",
    "    prev_w = d_theta"
   ]
  },
  {
   "cell_type": "code",
   "execution_count": 37,
   "metadata": {},
   "outputs": [],
   "source": [
    "L = T[0]-V\n",
    "eqs = []\n",
    "lh = sp.diff(sp.diff(L, d_s),t) - sp.diff(L, s) + sp.diff(R, d_s)\n",
    "rh = tau\n",
    "eqs.append(lh-rh)\n",
    "for theta, d_theta, T_p in zip(thetas, d_thetas, T[1:]):\n",
    "    L = T_p-V\n",
    "    lh = sp.diff(sp.diff(L, d_theta),t) - sp.diff(L, theta) + sp.diff(R, d_theta)\n",
    "    rh = 0\n",
    "    eqs.append(lh-rh)"
   ]
  },
  {
   "cell_type": "code",
   "execution_count": 38,
   "metadata": {},
   "outputs": [
    {
     "data": {
      "text/latex": [
       "$\\displaystyle 0.5 \\frac{d^{2}}{d t^{2}} s{\\left(t \\right)}$"
      ],
      "text/plain": [
       "0.5*Derivative(s(t), (t, 2))"
      ]
     },
     "metadata": {},
     "output_type": "display_data"
    },
    {
     "data": {
      "text/latex": [
       "$\\displaystyle 1.46417910447761 \\sin{\\left(\\theta_{1}{\\left(t \\right)} \\right)} + 0.0497512437810945 \\cos{\\left(\\theta_{1}{\\left(t \\right)} \\right)} \\frac{d^{2}}{d t^{2}} s{\\left(t \\right)} - 0.199004975124378 \\frac{d}{d t} \\theta_{1}{\\left(t \\right)} + 0.0995024875621891 \\frac{d}{d t} \\theta_{2}{\\left(t \\right)}$"
      ],
      "text/plain": [
       "1.46417910447761*sin(theta_1(t)) + 0.0497512437810945*cos(theta_1(t))*Derivative(s(t), (t, 2)) - 0.199004975124378*Derivative(theta_1(t), t) + 0.0995024875621891*Derivative(theta_2(t), t)"
      ]
     },
     "metadata": {},
     "output_type": "display_data"
    },
    {
     "data": {
      "text/latex": [
       "$\\displaystyle 0.00995024875621891 \\sin{\\left(\\theta_{1}{\\left(t \\right)} - \\theta_{2}{\\left(t \\right)} \\right)} \\left(\\frac{d}{d t} \\theta_{1}{\\left(t \\right)}\\right)^{2} + 0.00049503725155318 \\sin^{2}{\\left(\\theta_{1}{\\left(t \\right)} \\right)} \\cos{\\left(\\theta_{2}{\\left(t \\right)} \\right)} \\frac{d^{2}}{d t^{2}} s{\\left(t \\right)} - 0.00049503725155318 \\sin{\\left(\\theta_{1}{\\left(t \\right)} \\right)} \\sin{\\left(\\theta_{2}{\\left(t \\right)} \\right)} \\cos{\\left(\\theta_{1}{\\left(t \\right)} \\right)} \\frac{d^{2}}{d t^{2}} s{\\left(t \\right)} - 0.0145689463132101 \\sin{\\left(\\theta_{1}{\\left(t \\right)} \\right)} \\cos{\\left(\\theta_{1}{\\left(t \\right)} - \\theta_{2}{\\left(t \\right)} \\right)} + 0.488059701492537 \\sin{\\left(\\theta_{2}{\\left(t \\right)} \\right)} + 0.00198014900621272 \\cos{\\left(\\theta_{1}{\\left(t \\right)} - \\theta_{2}{\\left(t \\right)} \\right)} \\frac{d}{d t} \\theta_{1}{\\left(t \\right)} - 0.000990074503106359 \\cos{\\left(\\theta_{1}{\\left(t \\right)} - \\theta_{2}{\\left(t \\right)} \\right)} \\frac{d}{d t} \\theta_{2}{\\left(t \\right)} + 0.0492562065295414 \\cos{\\left(\\theta_{2}{\\left(t \\right)} \\right)} \\frac{d^{2}}{d t^{2}} s{\\left(t \\right)} + 0.0995024875621891 \\frac{d}{d t} \\theta_{1}{\\left(t \\right)} - 0.0995024875621891 \\frac{d}{d t} \\theta_{2}{\\left(t \\right)}$"
      ],
      "text/plain": [
       "0.00995024875621891*sin(theta_1(t) - theta_2(t))*Derivative(theta_1(t), t)**2 + 0.00049503725155318*sin(theta_1(t))**2*cos(theta_2(t))*Derivative(s(t), (t, 2)) - 0.00049503725155318*sin(theta_1(t))*sin(theta_2(t))*cos(theta_1(t))*Derivative(s(t), (t, 2)) - 0.0145689463132101*sin(theta_1(t))*cos(theta_1(t) - theta_2(t)) + 0.488059701492537*sin(theta_2(t)) + 0.00198014900621272*cos(theta_1(t) - theta_2(t))*Derivative(theta_1(t), t) - 0.000990074503106359*cos(theta_1(t) - theta_2(t))*Derivative(theta_2(t), t) + 0.0492562065295414*cos(theta_2(t))*Derivative(s(t), (t, 2)) + 0.0995024875621891*Derivative(theta_1(t), t) - 0.0995024875621891*Derivative(theta_2(t), t)"
      ]
     },
     "metadata": {},
     "output_type": "display_data"
    }
   ],
   "source": [
    "sols = sp.solve(eqs, dd_thetas + [tau])\n",
    "for key, value in sols.items():\n",
    "    sols[key] = sp.simplify(value)\n",
    "    display(sols[key])"
   ]
  },
  {
   "cell_type": "code",
   "execution_count": 39,
   "metadata": {},
   "outputs": [
    {
     "data": {
      "text/plain": [
       "'1.46417910447761*sin(theta_1(t)) + 0.0497512437810945*cos(theta_1(t))*Derivative(s(t), (t, 2)) - 0.199004975124378*Derivative(theta_1(t), t) + 0.0995024875621891*Derivative(theta_2(t), t)'"
      ]
     },
     "execution_count": 39,
     "metadata": {},
     "output_type": "execute_result"
    }
   ],
   "source": [
    "str(sols[dd_thetas[0]])"
   ]
  },
  {
   "cell_type": "code",
   "execution_count": 40,
   "metadata": {},
   "outputs": [
    {
     "data": {
      "text/latex": [
       "$\\displaystyle 1.46417910447761 \\sin{\\left(\\theta_{1}{\\left(t \\right)} \\right)} + 0.0497512437810945 \\cos{\\left(\\theta_{1}{\\left(t \\right)} \\right)} \\frac{d^{2}}{d t^{2}} s{\\left(t \\right)} - 0.199004975124378 \\frac{d}{d t} \\theta_{1}{\\left(t \\right)} + 0.0995024875621891 \\frac{d}{d t} \\theta_{2}{\\left(t \\right)}$"
      ],
      "text/plain": [
       "1.46417910447761*sin(theta_1(t)) + 0.0497512437810945*cos(theta_1(t))*Derivative(s(t), (t, 2)) - 0.199004975124378*Derivative(theta_1(t), t) + 0.0995024875621891*Derivative(theta_2(t), t)"
      ]
     },
     "execution_count": 40,
     "metadata": {},
     "output_type": "execute_result"
    }
   ],
   "source": [
    "sp.sympify(str(sols[dd_thetas[0]]))"
   ]
  },
  {
   "cell_type": "code",
   "execution_count": 44,
   "metadata": {},
   "outputs": [
    {
     "name": "stdout",
     "output_type": "stream",
     "text": [
      "(((((0.0497512*dd_s)*cos(theta0))+(0.0995025*theta1))-(0.199005*dd_theta0))+(1.46418*sin(theta0)))\n"
     ]
    }
   ],
   "source": [
    "def sympy2casadi(sympy_expr,sympy_var,casadi_var):\n",
    "  import casadi\n",
    "  assert casadi_var.is_vector()\n",
    "  if casadi_var.shape[1]>1:\n",
    "    casadi_var = casadi_var.T\n",
    "  casadi_var = casadi.vertsplit(casadi_var)\n",
    "  from sympy.utilities.lambdify import lambdify\n",
    "\n",
    "  mapping = {'ImmutableDenseMatrix': casadi.blockcat,\n",
    "             'MutableDenseMatrix': casadi.blockcat,\n",
    "             'Abs':casadi.fabs\n",
    "            }\n",
    "  f = lambdify(sympy_var,sympy_expr,modules=[mapping, casadi])\n",
    "  return f(*casadi_var)\n",
    " \n",
    "import casadi as ca\n",
    "\n",
    "sp_vars = [s,d_s,dd_s] + thetas + d_thetas + dd_thetas\n",
    "xy = sp.Matrix(sp_vars)\n",
    "\n",
    "ca_vars= [ca.SX.sym(\"s\"), ca.SX.sym(\"d_s\"), ca.SX.sym(\"dd_s\")]\n",
    "for i in range(1,1+num_poles):\n",
    "  ca_vars.append(ca.SX.sym(\"theta\"+str(i)))\n",
    "  ca_vars.append(ca.SX.sym(\"d_theta\"+str(i)))\n",
    "  ca_vars.append(ca.SX.sym(\"dd_theta\"+str(i)))\n",
    "XY = ca.vertcat(*ca_vars)\n",
    "\n",
    "print(sympy2casadi(sols[dd_thetas[0]],xy,XY))"
   ]
  },
  {
   "cell_type": "code",
   "execution_count": null,
   "metadata": {},
   "outputs": [
    {
     "name": "stdout",
     "output_type": "stream",
     "text": [
      "Time: 0.2281134999357164\n"
     ]
    }
   ],
   "source": [
    "values = np.array([10, 0, radians(0), 0, radians(0), 0, radians(0), 0] + [0])\n",
    "variables = [s, d_s]\n",
    "for theta, d_theta in zip(thetas, d_thetas):\n",
    "    variables.append(theta)\n",
    "    variables.append(d_theta)\n",
    "variables.append(u)\n",
    "\n",
    "start_time = perf_counter()\n",
    "# substitute the values of the variables into the solutions\n",
    "sol_sub = sols.copy()\n",
    "for i in range(100):\n",
    "    for k, v in sols.items():\n",
    "        a = v.subs({var: value for var, value in zip(variables, values)})\n",
    "print(f\"Time: {perf_counter()-start_time}\")"
   ]
  }
 ],
 "metadata": {
  "kernelspec": {
   "display_name": "Python 3",
   "language": "python",
   "name": "python3"
  },
  "language_info": {
   "codemirror_mode": {
    "name": "ipython",
    "version": 3
   },
   "file_extension": ".py",
   "mimetype": "text/x-python",
   "name": "python",
   "nbconvert_exporter": "python",
   "pygments_lexer": "ipython3",
   "version": "3.10.11"
  },
  "orig_nbformat": 4
 },
 "nbformat": 4,
 "nbformat_minor": 2
}
