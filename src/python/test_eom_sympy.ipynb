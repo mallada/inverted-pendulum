{
 "cells": [
  {
   "cell_type": "code",
   "execution_count": 1,
   "metadata": {},
   "outputs": [],
   "source": [
    "import sympy as sp\n",
    "import numpy as np \n",
    "from numpy import radians\n",
    "from time import perf_counter"
   ]
  },
  {
   "cell_type": "code",
   "execution_count": 2,
   "metadata": {},
   "outputs": [],
   "source": [
    "num_poles = 2\n",
    "\n",
    "pole_as = [0.1 for i in range(num_poles)]\n",
    "pole_ls = [0.2 for i in range(num_poles)]\n",
    "pole_ms = [0.05 for i in range(num_poles)]\n",
    "pole_ds = [0.01 for i in range(num_poles)]\n",
    "pole_Js = [0.1 for i in range(num_poles)]\n",
    "\n",
    "m_c = 0.5\n",
    "g = 9.81"
   ]
  },
  {
   "cell_type": "code",
   "execution_count": 3,
   "metadata": {},
   "outputs": [],
   "source": [
    "t = sp.Symbol(\"t\")\n",
    "s = sp.Function(\"s\")(t)\n",
    "d_s = sp.diff(s, t)\n",
    "dd_s = sp.diff(d_s, t)\n",
    "thetas = [sp.Function(f\"theta_{i+1}\")(t) for i in range(num_poles)]\n",
    "d_thetas = [sp.diff(theta,t) for theta in thetas]\n",
    "dd_thetas = [sp.diff(d_theta,t) for d_theta in d_thetas]\n",
    "tau = sp.Symbol(\"tau\")"
   ]
  },
  {
   "cell_type": "code",
   "execution_count": 4,
   "metadata": {},
   "outputs": [],
   "source": [
    "pole_pcs = []\n",
    "for i, (theta, a) in enumerate(zip(thetas, pole_as)):\n",
    "    prev_1 = 0\n",
    "    prev_2 = 0\n",
    "    for prev_l, prev_theta in list(zip(pole_ls, thetas))[:i]:\n",
    "        prev_1 += -prev_l*sp.sin(prev_theta)\n",
    "        prev_2 += prev_l*sp.cos(prev_theta)\n",
    "    pole_pcs.append([s-a*sp.sin(theta)+prev_1, a*sp.cos(theta)+prev_2])"
   ]
  },
  {
   "cell_type": "code",
   "execution_count": 5,
   "metadata": {},
   "outputs": [],
   "source": [
    "def square_sum(x: tuple):\n",
    "    result = 0\n",
    "    for x_i in x:\n",
    "        result += x_i**2\n",
    "    return result\n",
    "\n",
    "T = 1/2*m_c*d_s**2\n",
    "for m, pc, J, d_theta in zip(pole_ms, pole_pcs, pole_Js, d_thetas):\n",
    "    d_pc = [sp.diff(p,t) for p in pc]\n",
    "    T_p = 1/2*m*square_sum(d_pc) + 1/2*J*d_theta**2\n",
    "    T += T_p\n",
    "    \n",
    "V = 0   \n",
    "for m, pc in zip(pole_ms, pole_pcs  ):\n",
    "    V += g*m*pc[1]\n",
    "R = 0\n",
    "prev_w = 0\n",
    "for d, d_theta in zip(pole_ds, d_thetas):\n",
    "    R += 1/2*d*(d_theta-prev_w)**2\n",
    "    prev_w = d_theta"
   ]
  },
  {
   "cell_type": "code",
   "execution_count": 6,
   "metadata": {},
   "outputs": [],
   "source": [
    "L = T-V\n",
    "eqs = []\n",
    "lh = sp.diff(sp.diff(L, d_s),t) - sp.diff(L, s) + sp.diff(R, d_s)\n",
    "rh = tau\n",
    "eqs.append(lh-rh)\n",
    "for theta, d_theta in zip(thetas, d_thetas):\n",
    "    L = T-V\n",
    "    lh = sp.diff(sp.diff(L, d_theta),t) - sp.diff(L, theta) + sp.diff(R, d_theta)\n",
    "    rh = 0\n",
    "    eqs.append(lh-rh)"
   ]
  },
  {
   "cell_type": "code",
   "execution_count": 13,
   "metadata": {},
   "outputs": [
    {
     "data": {
      "text/latex": [
       "$\\displaystyle \\frac{d^{2}}{d t^{2}} \\theta_{1}{\\left(t \\right)}$"
      ],
      "text/plain": [
       "Derivative(theta_1(t), (t, 2))"
      ]
     },
     "metadata": {},
     "output_type": "display_data"
    },
    {
     "data": {
      "text/latex": [
       "$\\displaystyle \\frac{- 0.00238101016965608 \\sin{\\left(\\theta_{1}{\\left(t \\right)} - 2 \\theta_{2}{\\left(t \\right)} \\right)} + 0.00975704473192398 \\sin{\\left(\\theta_{1}{\\left(t \\right)} - \\theta_{2}{\\left(t \\right)} \\right)} \\left(\\frac{d}{d t} \\theta_{2}{\\left(t \\right)}\\right)^{2} + 4.85425111040994 \\cdot 10^{-5} \\sin{\\left(2 \\theta_{1}{\\left(t \\right)} - 2 \\theta_{2}{\\left(t \\right)} \\right)} \\left(\\frac{d}{d t} \\theta_{1}{\\left(t \\right)}\\right)^{2} - 1.43336812213296 \\sin{\\left(\\theta_{1}{\\left(t \\right)} \\right)} + 0.000242712555520497 \\cos{\\left(\\theta_{1}{\\left(t \\right)} - 2 \\theta_{2}{\\left(t \\right)} \\right)} \\frac{d^{2}}{d t^{2}} s{\\left(t \\right)} + 0.000970850222081988 \\cos{\\left(\\theta_{1}{\\left(t \\right)} - \\theta_{2}{\\left(t \\right)} \\right)} \\frac{d}{d t} \\theta_{1}{\\left(t \\right)} - 0.000970850222081988 \\cos{\\left(\\theta_{1}{\\left(t \\right)} - \\theta_{2}{\\left(t \\right)} \\right)} \\frac{d}{d t} \\theta_{2}{\\left(t \\right)} - 4.06575814682064 \\cdot 10^{-20} \\cos{\\left(\\theta_{1}{\\left(t \\right)} + 2 \\theta_{2}{\\left(t \\right)} \\right)} \\frac{d^{2}}{d t^{2}} s{\\left(t \\right)} - 0.146112958423339 \\cos{\\left(\\theta_{1}{\\left(t \\right)} \\right)} \\frac{d^{2}}{d t^{2}} s{\\left(t \\right)} + 0.19514089463848 \\frac{d}{d t} \\theta_{1}{\\left(t \\right)} - 0.0975704473192398 \\frac{d}{d t} \\theta_{2}{\\left(t \\right)}}{4.85425111040994 \\cdot 10^{-5} \\cos{\\left(2 \\theta_{1}{\\left(t \\right)} - 2 \\theta_{2}{\\left(t \\right)} \\right)} - 1.0000485425111}$"
      ],
      "text/plain": [
       "(-0.00238101016965608*sin(theta_1(t) - 2*theta_2(t)) + 0.00975704473192398*sin(theta_1(t) - theta_2(t))*Derivative(theta_2(t), t)**2 + 4.85425111040994e-5*sin(2*theta_1(t) - 2*theta_2(t))*Derivative(theta_1(t), t)**2 - 1.43336812213296*sin(theta_1(t)) + 0.000242712555520497*cos(theta_1(t) - 2*theta_2(t))*Derivative(s(t), (t, 2)) + 0.000970850222081988*cos(theta_1(t) - theta_2(t))*Derivative(theta_1(t), t) - 0.000970850222081988*cos(theta_1(t) - theta_2(t))*Derivative(theta_2(t), t) - 4.06575814682064e-20*cos(theta_1(t) + 2*theta_2(t))*Derivative(s(t), (t, 2)) - 0.146112958423339*cos(theta_1(t))*Derivative(s(t), (t, 2)) + 0.19514089463848*Derivative(theta_1(t), t) - 0.0975704473192398*Derivative(theta_2(t), t))/(4.85425111040994e-5*cos(2*theta_1(t) - 2*theta_2(t)) - 1.0000485425111)"
      ]
     },
     "metadata": {},
     "output_type": "display_data"
    },
    {
     "data": {
      "text/latex": [
       "$\\displaystyle \\frac{d^{2}}{d t^{2}} \\theta_{2}{\\left(t \\right)}$"
      ],
      "text/plain": [
       "Derivative(theta_2(t), (t, 2))"
      ]
     },
     "metadata": {},
     "output_type": "display_data"
    },
    {
     "data": {
      "text/latex": [
       "$\\displaystyle \\frac{- 0.00995121477634038 \\sin{\\left(\\theta_{1}{\\left(t \\right)} - \\theta_{2}{\\left(t \\right)} \\right)} \\left(\\frac{d}{d t} \\theta_{1}{\\left(t \\right)}\\right)^{2} - 4.85425111040994 \\cdot 10^{-5} \\sin{\\left(2 \\theta_{1}{\\left(t \\right)} - 2 \\theta_{2}{\\left(t \\right)} \\right)} \\left(\\frac{d}{d t} \\theta_{2}{\\left(t \\right)}\\right)^{2} + 0.00714303050896823 \\sin{\\left(2 \\theta_{1}{\\left(t \\right)} - \\theta_{2}{\\left(t \\right)} \\right)} - 0.480964054270527 \\sin{\\left(\\theta_{2}{\\left(t \\right)} \\right)} - 0.00194170044416398 \\cos{\\left(\\theta_{1}{\\left(t \\right)} - \\theta_{2}{\\left(t \\right)} \\right)} \\frac{d}{d t} \\theta_{1}{\\left(t \\right)} + 0.000970850222081989 \\cos{\\left(\\theta_{1}{\\left(t \\right)} - \\theta_{2}{\\left(t \\right)} \\right)} \\frac{d}{d t} \\theta_{2}{\\left(t \\right)} + 0.000728137666561491 \\cos{\\left(2 \\theta_{1}{\\left(t \\right)} - \\theta_{2}{\\left(t \\right)} \\right)} \\frac{d^{2}}{d t^{2}} s{\\left(t \\right)} - 0.0490279362151404 \\cos{\\left(\\theta_{2}{\\left(t \\right)} \\right)} \\frac{d^{2}}{d t^{2}} s{\\left(t \\right)} - 0.0995121477634038 \\frac{d}{d t} \\theta_{1}{\\left(t \\right)} + 0.0995121477634038 \\frac{d}{d t} \\theta_{2}{\\left(t \\right)}}{4.85425111040994 \\cdot 10^{-5} \\cos{\\left(2 \\theta_{1}{\\left(t \\right)} - 2 \\theta_{2}{\\left(t \\right)} \\right)} - 1.0000485425111}$"
      ],
      "text/plain": [
       "(-0.00995121477634038*sin(theta_1(t) - theta_2(t))*Derivative(theta_1(t), t)**2 - 4.85425111040994e-5*sin(2*theta_1(t) - 2*theta_2(t))*Derivative(theta_2(t), t)**2 + 0.00714303050896823*sin(2*theta_1(t) - theta_2(t)) - 0.480964054270527*sin(theta_2(t)) - 0.00194170044416398*cos(theta_1(t) - theta_2(t))*Derivative(theta_1(t), t) + 0.000970850222081989*cos(theta_1(t) - theta_2(t))*Derivative(theta_2(t), t) + 0.000728137666561491*cos(2*theta_1(t) - theta_2(t))*Derivative(s(t), (t, 2)) - 0.0490279362151404*cos(theta_2(t))*Derivative(s(t), (t, 2)) - 0.0995121477634038*Derivative(theta_1(t), t) + 0.0995121477634038*Derivative(theta_2(t), t))/(4.85425111040994e-5*cos(2*theta_1(t) - 2*theta_2(t)) - 1.0000485425111)"
      ]
     },
     "metadata": {},
     "output_type": "display_data"
    },
    {
     "data": {
      "text/latex": [
       "$\\displaystyle \\tau$"
      ],
      "text/plain": [
       "tau"
      ]
     },
     "metadata": {},
     "output_type": "display_data"
    },
    {
     "data": {
      "text/latex": [
       "$\\displaystyle \\frac{2.41498992742895 \\cdot 10^{-5} \\sin{\\left(\\theta_{1}{\\left(t \\right)} - 2 \\theta_{2}{\\left(t \\right)} \\right)} \\left(\\frac{d}{d t} \\theta_{1}{\\left(t \\right)}\\right)^{2} - 7.29351229339094 \\cdot 10^{-5} \\sin{\\left(2 \\theta_{1}{\\left(t \\right)} - \\theta_{2}{\\left(t \\right)} \\right)} \\left(\\frac{d}{d t} \\theta_{2}{\\left(t \\right)}\\right)^{2} - 0.0149758501007257 \\sin{\\left(\\theta_{1}{\\left(t \\right)} \\right)} \\left(\\frac{d}{d t} \\theta_{1}{\\left(t \\right)}\\right)^{2} + 0.0107324033397248 \\sin{\\left(2 \\theta_{1}{\\left(t \\right)} \\right)} - 0.00492706487706609 \\sin{\\left(\\theta_{2}{\\left(t \\right)} \\right)} \\left(\\frac{d}{d t} \\theta_{2}{\\left(t \\right)}\\right)^{2} + 0.0011845525594039 \\sin{\\left(2 \\theta_{2}{\\left(t \\right)} \\right)} + 4.85425111040994 \\cdot 10^{-6} \\cos{\\left(\\theta_{1}{\\left(t \\right)} - 2 \\theta_{2}{\\left(t \\right)} \\right)} \\frac{d}{d t} \\theta_{1}{\\left(t \\right)} - 2.42712555520497 \\cdot 10^{-6} \\cos{\\left(\\theta_{1}{\\left(t \\right)} - 2 \\theta_{2}{\\left(t \\right)} \\right)} \\frac{d}{d t} \\theta_{2}{\\left(t \\right)} + 2.54848183296522 \\cdot 10^{-5} \\cos{\\left(2 \\theta_{1}{\\left(t \\right)} - 2 \\theta_{2}{\\left(t \\right)} \\right)} \\frac{d^{2}}{d t^{2}} s{\\left(t \\right)} - 7.28137666561491 \\cdot 10^{-6} \\cos{\\left(2 \\theta_{1}{\\left(t \\right)} - \\theta_{2}{\\left(t \\right)} \\right)} \\frac{d}{d t} \\theta_{1}{\\left(t \\right)} + 7.28137666561491 \\cdot 10^{-6} \\cos{\\left(2 \\theta_{1}{\\left(t \\right)} - \\theta_{2}{\\left(t \\right)} \\right)} \\frac{d}{d t} \\theta_{2}{\\left(t \\right)} - 0.00292225916846679 \\cos{\\left(\\theta_{1}{\\left(t \\right)} \\right)} \\frac{d}{d t} \\theta_{1}{\\left(t \\right)} + 0.00146112958423339 \\cos{\\left(\\theta_{1}{\\left(t \\right)} \\right)} \\frac{d}{d t} \\theta_{2}{\\left(t \\right)} + 0.00109402684400864 \\cos{\\left(2 \\theta_{1}{\\left(t \\right)} \\right)} \\frac{d^{2}}{d t^{2}} s{\\left(t \\right)} + 0.000490279362151404 \\cos{\\left(\\theta_{2}{\\left(t \\right)} \\right)} \\frac{d}{d t} \\theta_{1}{\\left(t \\right)} - 0.000490279362151404 \\cos{\\left(\\theta_{2}{\\left(t \\right)} \\right)} \\frac{d}{d t} \\theta_{2}{\\left(t \\right)} + 0.000120749496371447 \\cos{\\left(2 \\theta_{2}{\\left(t \\right)} \\right)} \\frac{d^{2}}{d t^{2}} s{\\left(t \\right)} - 0.59881070847795 \\frac{d^{2}}{d t^{2}} s{\\left(t \\right)}}{4.85425111040994 \\cdot 10^{-5} \\cos{\\left(2 \\theta_{1}{\\left(t \\right)} - 2 \\theta_{2}{\\left(t \\right)} \\right)} - 1.0000485425111}$"
      ],
      "text/plain": [
       "(2.41498992742895e-5*sin(theta_1(t) - 2*theta_2(t))*Derivative(theta_1(t), t)**2 - 7.29351229339094e-5*sin(2*theta_1(t) - theta_2(t))*Derivative(theta_2(t), t)**2 - 0.0149758501007257*sin(theta_1(t))*Derivative(theta_1(t), t)**2 + 0.0107324033397248*sin(2*theta_1(t)) - 0.00492706487706609*sin(theta_2(t))*Derivative(theta_2(t), t)**2 + 0.0011845525594039*sin(2*theta_2(t)) + 4.85425111040994e-6*cos(theta_1(t) - 2*theta_2(t))*Derivative(theta_1(t), t) - 2.42712555520497e-6*cos(theta_1(t) - 2*theta_2(t))*Derivative(theta_2(t), t) + 2.54848183296522e-5*cos(2*theta_1(t) - 2*theta_2(t))*Derivative(s(t), (t, 2)) - 7.28137666561491e-6*cos(2*theta_1(t) - theta_2(t))*Derivative(theta_1(t), t) + 7.28137666561491e-6*cos(2*theta_1(t) - theta_2(t))*Derivative(theta_2(t), t) - 0.00292225916846679*cos(theta_1(t))*Derivative(theta_1(t), t) + 0.00146112958423339*cos(theta_1(t))*Derivative(theta_2(t), t) + 0.00109402684400864*cos(2*theta_1(t))*Derivative(s(t), (t, 2)) + 0.000490279362151404*cos(theta_2(t))*Derivative(theta_1(t), t) - 0.000490279362151404*cos(theta_2(t))*Derivative(theta_2(t), t) + 0.000120749496371447*cos(2*theta_2(t))*Derivative(s(t), (t, 2)) - 0.59881070847795*Derivative(s(t), (t, 2)))/(4.85425111040994e-5*cos(2*theta_1(t) - 2*theta_2(t)) - 1.0000485425111)"
      ]
     },
     "metadata": {},
     "output_type": "display_data"
    }
   ],
   "source": [
    "sols = sp.solve(eqs, dd_thetas + [tau])\n",
    "for key, value in sols.items():\n",
    "    sols[key] = sp.simplify(value)\n",
    "    display(key, sols[key])"
   ]
  },
  {
   "cell_type": "code",
   "execution_count": 8,
   "metadata": {},
   "outputs": [
    {
     "data": {
      "text/plain": [
       "'(-0.00238101016965608*sin(theta_1(t) - 2*theta_2(t)) + 0.00975704473192398*sin(theta_1(t) - theta_2(t))*Derivative(theta_2(t), t)**2 + 4.85425111040994e-5*sin(2*theta_1(t) - 2*theta_2(t))*Derivative(theta_1(t), t)**2 - 1.43336812213296*sin(theta_1(t)) + 0.000242712555520497*cos(theta_1(t) - 2*theta_2(t))*Derivative(s(t), (t, 2)) + 0.000970850222081988*cos(theta_1(t) - theta_2(t))*Derivative(theta_1(t), t) - 0.000970850222081988*cos(theta_1(t) - theta_2(t))*Derivative(theta_2(t), t) - 4.06575814682064e-20*cos(theta_1(t) + 2*theta_2(t))*Derivative(s(t), (t, 2)) - 0.146112958423339*cos(theta_1(t))*Derivative(s(t), (t, 2)) + 0.19514089463848*Derivative(theta_1(t), t) - 0.0975704473192398*Derivative(theta_2(t), t))/(4.85425111040994e-5*cos(2*theta_1(t) - 2*theta_2(t)) - 1.0000485425111)'"
      ]
     },
     "execution_count": 8,
     "metadata": {},
     "output_type": "execute_result"
    }
   ],
   "source": [
    "str(sols[dd_thetas[0]])"
   ]
  },
  {
   "cell_type": "code",
   "execution_count": 9,
   "metadata": {},
   "outputs": [
    {
     "data": {
      "text/latex": [
       "$\\displaystyle \\frac{- 0.00238101016965608 \\sin{\\left(\\theta_{1}{\\left(t \\right)} - 2 \\theta_{2}{\\left(t \\right)} \\right)} + 0.00975704473192398 \\sin{\\left(\\theta_{1}{\\left(t \\right)} - \\theta_{2}{\\left(t \\right)} \\right)} \\left(\\frac{d}{d t} \\theta_{2}{\\left(t \\right)}\\right)^{2} + 4.85425111040994 \\cdot 10^{-5} \\sin{\\left(2 \\theta_{1}{\\left(t \\right)} - 2 \\theta_{2}{\\left(t \\right)} \\right)} \\left(\\frac{d}{d t} \\theta_{1}{\\left(t \\right)}\\right)^{2} - 1.43336812213296 \\sin{\\left(\\theta_{1}{\\left(t \\right)} \\right)} + 0.000242712555520497 \\cos{\\left(\\theta_{1}{\\left(t \\right)} - 2 \\theta_{2}{\\left(t \\right)} \\right)} \\frac{d^{2}}{d t^{2}} s{\\left(t \\right)} + 0.000970850222081988 \\cos{\\left(\\theta_{1}{\\left(t \\right)} - \\theta_{2}{\\left(t \\right)} \\right)} \\frac{d}{d t} \\theta_{1}{\\left(t \\right)} - 0.000970850222081988 \\cos{\\left(\\theta_{1}{\\left(t \\right)} - \\theta_{2}{\\left(t \\right)} \\right)} \\frac{d}{d t} \\theta_{2}{\\left(t \\right)} - 4.06575814682064 \\cdot 10^{-20} \\cos{\\left(\\theta_{1}{\\left(t \\right)} + 2 \\theta_{2}{\\left(t \\right)} \\right)} \\frac{d^{2}}{d t^{2}} s{\\left(t \\right)} - 0.146112958423339 \\cos{\\left(\\theta_{1}{\\left(t \\right)} \\right)} \\frac{d^{2}}{d t^{2}} s{\\left(t \\right)} + 0.19514089463848 \\frac{d}{d t} \\theta_{1}{\\left(t \\right)} - 0.0975704473192398 \\frac{d}{d t} \\theta_{2}{\\left(t \\right)}}{4.85425111040994 \\cdot 10^{-5} \\cos{\\left(2 \\theta_{1}{\\left(t \\right)} - 2 \\theta_{2}{\\left(t \\right)} \\right)} - 1.0000485425111}$"
      ],
      "text/plain": [
       "(-0.00238101016965608*sin(theta_1(t) - 2*theta_2(t)) + 0.00975704473192398*sin(theta_1(t) - theta_2(t))*Derivative(theta_2(t), t)**2 + 4.85425111040994e-5*sin(2*theta_1(t) - 2*theta_2(t))*Derivative(theta_1(t), t)**2 - 1.43336812213296*sin(theta_1(t)) + 0.000242712555520497*cos(theta_1(t) - 2*theta_2(t))*Derivative(s(t), (t, 2)) + 0.000970850222081988*cos(theta_1(t) - theta_2(t))*Derivative(theta_1(t), t) - 0.000970850222081988*cos(theta_1(t) - theta_2(t))*Derivative(theta_2(t), t) - 4.06575814682064e-20*cos(theta_1(t) + 2*theta_2(t))*Derivative(s(t), (t, 2)) - 0.146112958423339*cos(theta_1(t))*Derivative(s(t), (t, 2)) + 0.19514089463848*Derivative(theta_1(t), t) - 0.0975704473192398*Derivative(theta_2(t), t))/(4.85425111040994e-5*cos(2*theta_1(t) - 2*theta_2(t)) - 1.0000485425111)"
      ]
     },
     "execution_count": 9,
     "metadata": {},
     "output_type": "execute_result"
    }
   ],
   "source": [
    "sp.sympify(str(sols[dd_thetas[0]]))"
   ]
  },
  {
   "cell_type": "code",
   "execution_count": 10,
   "metadata": {},
   "outputs": [
    {
     "name": "stdout",
     "output_type": "stream",
     "text": [
      "@1=2, @2=4.85425e-05, @3=0.0995121, ((((((((((((-0.0490279*dd_s)*cos(d_theta1))+((0.000728138*dd_s)*cos(((@1*theta1)-d_theta1))))-((@2*sq(d_theta2))*sin(((@1*theta1)-(@1*d_theta1)))))+((0.00097085*d_theta2)*cos((theta1-d_theta1))))+(@3*d_theta2))-((0.00995121*sq(theta2))*sin((theta1-d_theta1))))-((0.0019417*theta2)*cos((theta1-d_theta1))))-(@3*theta2))-(0.480964*sin(d_theta1)))+(0.00714303*sin(((@1*theta1)-d_theta1))))/((@2*cos(((@1*theta1)-(@1*d_theta1))))-1.00005))\n"
     ]
    }
   ],
   "source": [
    "def sympy2casadi(sympy_expr,sympy_var,casadi_var):\n",
    "  import casadi\n",
    "  assert casadi_var.is_vector()\n",
    "  if casadi_var.shape[1]>1:\n",
    "    casadi_var = casadi_var.T\n",
    "  casadi_var = casadi.vertsplit(casadi_var)\n",
    "  from sympy.utilities.lambdify import lambdify\n",
    "\n",
    "  mapping = {'ImmutableDenseMatrix': casadi.blockcat,\n",
    "             'MutableDenseMatrix': casadi.blockcat,\n",
    "             'Abs':casadi.fabs\n",
    "            }\n",
    "  f = lambdify(sympy_var,sympy_expr,modules=[mapping, casadi])\n",
    "  return f(*casadi_var)\n",
    " \n",
    "import casadi as ca\n",
    "\n",
    "sp_vars = [s,d_s,dd_s] + thetas + d_thetas\n",
    "xy = sp.Matrix(sp_vars)\n",
    "\n",
    "ca_vars= [ca.SX.sym(\"s\"), ca.SX.sym(\"d_s\"), ca.SX.sym(\"dd_s\")]\n",
    "for i in range(1,1+num_poles):\n",
    "  ca_vars.append(ca.SX.sym(\"theta\"+str(i)))\n",
    "  ca_vars.append(ca.SX.sym(\"d_theta\"+str(i)))\n",
    "XY = ca.vertcat(*ca_vars)\n",
    "\n",
    "print(sympy2casadi(sols[dd_thetas[1]],xy,XY))"
   ]
  },
  {
   "cell_type": "code",
   "execution_count": 11,
   "metadata": {},
   "outputs": [
    {
     "name": "stdout",
     "output_type": "stream",
     "text": [
      "@1=vertsplit(opti0_x_1), @2=@1{2}, @3=@1{3}, @4=@1{4}, @5=@1{6}, @6=@1{5}, (((((((((((((-0.146113*@2)*cos(@3))+((0.000242713*@2)*cos(((2.*@4)-@3))))-((4.06576e-20*@2)*cos(((2.*@4)+@3))))-((0.00975704*sq(@5))*sin((@4-@3))))-((0.00097085*@5)*cos((@4-@3))))-(0.0975704*@5))-((4.85425e-05*sq(@6))*sin(((2.*@4)-(2.*@3)))))+((0.00097085*@6)*cos((@4-@3))))+(0.195141*@6))-(1.43337*sin(@3)))+(0.00238101*sin(((2.*@4)-@3))))/((4.85425e-05*cos(((2.*@4)-(2.*@3))))-1.00005))\n"
     ]
    }
   ],
   "source": [
    "opti = ca.Opti()\n",
    "opti_vars = opti.variable(2+2*num_poles+1)\n",
    "print(sympy2casadi(sols[dd_thetas[0]],xy,opti_vars))"
   ]
  },
  {
   "cell_type": "code",
   "execution_count": 12,
   "metadata": {},
   "outputs": [
    {
     "name": "stdout",
     "output_type": "stream",
     "text": [
      "Time: 0.193207599921152\n"
     ]
    }
   ],
   "source": [
    "values = np.array([10, 0, radians(0), 0, radians(0), 0, radians(0), 0] + [0])\n",
    "variables = [s, d_s]\n",
    "for theta, d_theta in zip(thetas, d_thetas):\n",
    "    variables.append(theta)\n",
    "    variables.append(d_theta)\n",
    "variables.append(dd_s)\n",
    "\n",
    "start_time = perf_counter()\n",
    "# substitute the values of the variables into the solutions\n",
    "sol_sub = sols.copy()\n",
    "for i in range(100):\n",
    "    for k, v in sols.items():\n",
    "        a = v.subs({var: value for var, value in zip(variables, values)})\n",
    "print(f\"Time: {perf_counter()-start_time}\")"
   ]
  }
 ],
 "metadata": {
  "kernelspec": {
   "display_name": "Python 3",
   "language": "python",
   "name": "python3"
  },
  "language_info": {
   "codemirror_mode": {
    "name": "ipython",
    "version": 3
   },
   "file_extension": ".py",
   "mimetype": "text/x-python",
   "name": "python",
   "nbconvert_exporter": "python",
   "pygments_lexer": "ipython3",
   "version": "3.10.11"
  },
  "orig_nbformat": 4
 },
 "nbformat": 4,
 "nbformat_minor": 2
}
