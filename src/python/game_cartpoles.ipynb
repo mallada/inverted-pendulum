{
 "cells": [
  {
   "cell_type": "code",
   "execution_count": 1,
   "metadata": {},
   "outputs": [],
   "source": [
    "from lib.cartpolegame import CartPoleGame\n",
    "from lib.cartpoleenv import CartPoleEnv\n",
    "from lib.cartpolesystem import CartPoleStepperMotorSystem, Cart, Pole\n",
    "from lib.motors import StepperMotor\n",
    "from lib.numerical import rk4_step"
   ]
  },
  {
   "cell_type": "code",
   "execution_count": 2,
   "metadata": {},
   "outputs": [
    {
     "data": {
      "text/plain": [
       "(6,)"
      ]
     },
     "execution_count": 2,
     "metadata": {},
     "output_type": "execute_result"
    }
   ],
   "source": [
    "dt = 0.005\n",
    "g = 9.81\n",
    "\n",
    "cart = Cart(0.1, 0.01, (-0.8, 0.8), 0.1)\n",
    "motor = StepperMotor(0.06, (-10, 10), 0.2, (-2, 2), 0.1)\n",
    "poles = [Pole(0.1, 0.15, 0.01), Pole(0.2, 0.2, 0.01)]\n",
    "n = len(poles)\n",
    "\n",
    "system = CartPoleStepperMotorSystem(cart, motor, poles, g)\n",
    "\n",
    "env = CartPoleEnv(system, dt, rk4_step)\n",
    "env.observation_space.shape"
   ]
  },
  {
   "cell_type": "code",
   "execution_count": 3,
   "metadata": {},
   "outputs": [],
   "source": [
    "game = CartPoleGame(env)"
   ]
  }
 ],
 "metadata": {
  "kernelspec": {
   "display_name": "Python 3",
   "language": "python",
   "name": "python3"
  },
  "language_info": {
   "codemirror_mode": {
    "name": "ipython",
    "version": 3
   },
   "file_extension": ".py",
   "mimetype": "text/x-python",
   "name": "python",
   "nbconvert_exporter": "python",
   "pygments_lexer": "ipython3",
   "version": "3.11.3"
  },
  "orig_nbformat": 4
 },
 "nbformat": 4,
 "nbformat_minor": 2
}
