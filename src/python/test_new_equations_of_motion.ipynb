{
 "cells": [
  {
   "cell_type": "code",
   "execution_count": 68,
   "metadata": {},
   "outputs": [],
   "source": [
    "import sympy as sp"
   ]
  },
  {
   "cell_type": "code",
   "execution_count": 69,
   "metadata": {},
   "outputs": [],
   "source": [
    "num_poles = 3\n",
    "\n",
    "pole_as = [sp.Symbol(f'a_{i}') for i in range(num_poles)]\n",
    "pole_ls = [sp.Symbol(f'l_{i}') for i in range(num_poles)]\n",
    "pole_ms = [sp.Symbol(f'm_{i}') for i in range(num_poles)]\n",
    "pole_ds = [sp.Symbol(f'd_{i}') for i in range(num_poles)]\n",
    "pole_Js = [sp.Symbol(f'J_{i}') for i in range(num_poles)]\n",
    "\n",
    "m_c = sp.Symbol(\"m_c\")\n",
    "g = sp.Symbol(\"g\")"
   ]
  },
  {
   "cell_type": "code",
   "execution_count": 70,
   "metadata": {},
   "outputs": [],
   "source": [
    "s = sp.Symbol(\"s\")\n",
    "d_s = sp.Symbol(\"\\\\dot{s}\")\n",
    "dd_s = sp.Symbol(\"\\\\ddot{s}\")\n",
    "thetas = [sp.Symbol(f\"\\\\theta_{i+1}\") for i in range(num_poles)]\n",
    "d_thetas = [sp.Symbol(f\"\\\\dot{{\\\\theta}}_{i+1}\") for i in range(num_poles)]\n",
    "dd_thetas = [sp.Symbol(f\"\\\\ddot{{\\\\theta}}_{i+1}\") for i in range(num_poles)]\n",
    "u = dd_s\n",
    "\n",
    "derivate_by_time_dict = {s: d_s, d_s: dd_s}\n",
    "for i in range(num_poles):\n",
    "    derivate_by_time_dict[thetas[i]] = d_thetas[i]\n",
    "    derivate_by_time_dict[d_thetas[i]] = dd_thetas[i]"
   ]
  },
  {
   "cell_type": "code",
   "execution_count": 72,
   "metadata": {},
   "outputs": [],
   "source": [
    "pole_pcs = []\n",
    "for i, (theta, a) in enumerate(zip(thetas, pole_as)):\n",
    "    prev_1 = 0\n",
    "    prev_2 = 0\n",
    "    for prev_l, prev_theta in list(zip(pole_ls, thetas))[:i]:\n",
    "        prev_1 += -prev_l*sp.sin(prev_theta)\n",
    "        prev_2 += prev_l*sp.cos(prev_theta)\n",
    "    pole_pcs.append([s-a*sp.sin(theta)+prev_1, a*sp.cos(theta)+prev_2])"
   ]
  },
  {
   "cell_type": "code",
   "execution_count": 73,
   "metadata": {},
   "outputs": [],
   "source": [
    "def square_sum(x: tuple):\n",
    "    result = 0\n",
    "    for x_i in x:\n",
    "        result += x_i**2\n",
    "    return result\n",
    "\n",
    "T_c = 1/2*m_c*d_s**2\n",
    "T_p = 1/2*sum(m*square_sum(pc) for m, pc in zip(pole_ms, pole_pcs))+1/2*sum(J*d_theta**2 for J, d_theta in zip(pole_Js, d_thetas))\n",
    "T = T_c + T_p\n",
    "V = 0\n",
    "for m, pc in zip(pole_ms, pole_pcs):\n",
    "    V += g*m*pc[0]\n",
    "R = 0\n",
    "prev_w = 0\n",
    "for d, d_theta in zip(pole_ds, d_thetas):\n",
    "    R += 1/2*d*(d_theta-prev_w)**2\n",
    "    prev_w = d_theta"
   ]
  },
  {
   "cell_type": "code",
   "execution_count": 74,
   "metadata": {},
   "outputs": [
    {
     "data": {
      "text/plain": [
       "[1.0*\\ddot{s}*m_c - \\ddot{s} + g*m_0 + g*m_1 + g*m_2 - 0.5*m_0*(-2*a_0*sin(\\theta_1) + 2*s) - 0.5*m_1*(-2*a_1*sin(\\theta_2) - 2*l_0*sin(\\theta_1) + 2*s) - 0.5*m_2*(-2*a_2*sin(\\theta_3) - 2*l_0*sin(\\theta_1) - 2*l_1*sin(\\theta_2) + 2*s),\n",
       " 1.0*J_0*\\ddot{\\theta}_1 - 1.0*\\dot{\\theta}_1*d_0 - a_0*g*m_0*cos(\\theta_1) - 0.5*d_1*(2*\\dot{\\theta}_1 - 2*\\dot{\\theta}_2) - g*l_0*m_1*cos(\\theta_1) - g*l_0*m_2*cos(\\theta_1) - 0.5*m_0*(-2*a_0**2*sin(\\theta_1)*cos(\\theta_1) - 2*a_0*(-a_0*sin(\\theta_1) + s)*cos(\\theta_1)) - 0.5*m_1*(-2*l_0*(a_1*cos(\\theta_2) + l_0*cos(\\theta_1))*sin(\\theta_1) - 2*l_0*(-a_1*sin(\\theta_2) - l_0*sin(\\theta_1) + s)*cos(\\theta_1)) - 0.5*m_2*(-2*l_0*(a_2*cos(\\theta_3) + l_0*cos(\\theta_1) + l_1*cos(\\theta_2))*sin(\\theta_1) - 2*l_0*(-a_2*sin(\\theta_3) - l_0*sin(\\theta_1) - l_1*sin(\\theta_2) + s)*cos(\\theta_1)),\n",
       " 1.0*J_1*\\ddot{\\theta}_2 - a_1*g*m_1*cos(\\theta_2) - 0.5*d_1*(-2*\\dot{\\theta}_1 + 2*\\dot{\\theta}_2) - 0.5*d_2*(2*\\dot{\\theta}_2 - 2*\\dot{\\theta}_3) - g*l_1*m_2*cos(\\theta_2) - 0.5*m_1*(-2*a_1*(a_1*cos(\\theta_2) + l_0*cos(\\theta_1))*sin(\\theta_2) - 2*a_1*(-a_1*sin(\\theta_2) - l_0*sin(\\theta_1) + s)*cos(\\theta_2)) - 0.5*m_2*(-2*l_1*(a_2*cos(\\theta_3) + l_0*cos(\\theta_1) + l_1*cos(\\theta_2))*sin(\\theta_2) - 2*l_1*(-a_2*sin(\\theta_3) - l_0*sin(\\theta_1) - l_1*sin(\\theta_2) + s)*cos(\\theta_2)),\n",
       " 1.0*J_2*\\ddot{\\theta}_3 - a_2*g*m_2*cos(\\theta_3) - 0.5*d_2*(-2*\\dot{\\theta}_2 + 2*\\dot{\\theta}_3) - 0.5*m_2*(-2*a_2*(a_2*cos(\\theta_3) + l_0*cos(\\theta_1) + l_1*cos(\\theta_2))*sin(\\theta_3) - 2*a_2*(-a_2*sin(\\theta_3) - l_0*sin(\\theta_1) - l_1*sin(\\theta_2) + s)*cos(\\theta_3))]"
      ]
     },
     "execution_count": 74,
     "metadata": {},
     "output_type": "execute_result"
    }
   ],
   "source": [
    "L = T-V\n",
    "eqs = []\n",
    "lh = sp.diff(L, d_s).subs(derivate_by_time_dict)\n",
    "lh -= sp.diff(L, s) + sp.diff(R, d_s)\n",
    "rh = u\n",
    "eqs.append(lh-rh)\n",
    "for theta, d_theta in zip(thetas, d_thetas):\n",
    "    lh = sp.diff(L, d_theta).subs(derivate_by_time_dict)\n",
    "    lh -= sp.diff(L, theta) + sp.diff(R, d_theta)\n",
    "    rh = 0\n",
    "    eqs.append(lh-rh)\n",
    "eqs"
   ]
  },
  {
   "cell_type": "code",
   "execution_count": 86,
   "metadata": {},
   "outputs": [
    {
     "data": {
      "text/latex": [
       "$\\displaystyle \\frac{- \\dot{\\theta}_2 d_{2} + \\dot{\\theta}_3 d_{2} + a_{2} g m_{2} \\cos{\\left(\\theta_{3} \\right)} + a_{2} l_{0} m_{2} \\sin{\\left(\\theta_{1} - \\theta_{3} \\right)} + a_{2} l_{1} m_{2} \\sin{\\left(\\theta_{2} - \\theta_{3} \\right)} - a_{2} m_{2} s \\cos{\\left(\\theta_{3} \\right)}}{J_{2}}$"
      ],
      "text/plain": [
       "(-\\dot{\\theta}_2*d_2 + \\dot{\\theta}_3*d_2 + a_2*g*m_2*cos(\\theta_3) + a_2*l_0*m_2*sin(\\theta_1 - \\theta_3) + a_2*l_1*m_2*sin(\\theta_2 - \\theta_3) - a_2*m_2*s*cos(\\theta_3))/J_2"
      ]
     },
     "execution_count": 86,
     "metadata": {},
     "output_type": "execute_result"
    }
   ],
   "source": [
    "sol = sp.solve(eqs, dd_thetas+[dd_s])\n",
    "sp.simplify(sol[dd_thetas[0]])"
   ]
  },
  {
   "cell_type": "code",
   "execution_count": null,
   "metadata": {},
   "outputs": [],
   "source": []
  }
 ],
 "metadata": {
  "kernelspec": {
   "display_name": "Python 3",
   "language": "python",
   "name": "python3"
  },
  "language_info": {
   "codemirror_mode": {
    "name": "ipython",
    "version": 3
   },
   "file_extension": ".py",
   "mimetype": "text/x-python",
   "name": "python",
   "nbconvert_exporter": "python",
   "pygments_lexer": "ipython3",
   "version": "3.11.3"
  },
  "orig_nbformat": 4
 },
 "nbformat": 4,
 "nbformat_minor": 2
}
