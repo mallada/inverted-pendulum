{
 "cells": [
  {
   "cell_type": "code",
   "execution_count": 153,
   "metadata": {},
   "outputs": [],
   "source": [
    "import sympy as sp\n",
    "import numpy as np \n",
    "from numpy import radians\n",
    "from time import perf_counter"
   ]
  },
  {
   "cell_type": "code",
   "execution_count": 154,
   "metadata": {},
   "outputs": [],
   "source": [
    "num_poles = 3\n",
    "\n",
    "pole_as = [0.05+0.05*i for i in range(num_poles)]\n",
    "pole_ls = [0.1+0.1*i for i in range(num_poles)]\n",
    "pole_ms = [0.1+0.05*i for i in range(num_poles)]\n",
    "pole_ds = [0.01 for i in range(num_poles)]\n",
    "pole_Js = [0.13-0.01*i for i in range(num_poles)]\n",
    "\n",
    "m_c = 0.5\n",
    "g = 9.81"
   ]
  },
  {
   "cell_type": "code",
   "execution_count": 155,
   "metadata": {},
   "outputs": [],
   "source": [
    "s = sp.Symbol(\"s\")\n",
    "d_s = sp.Symbol(\"\\\\dot{s}\")\n",
    "dd_s = sp.Symbol(\"\\\\ddot{s}\")\n",
    "thetas = [sp.Symbol(f\"\\\\theta_{i+1}\") for i in range(num_poles)]\n",
    "d_thetas = [sp.Symbol(f\"\\\\dot{{\\\\theta}}_{i+1}\") for i in range(num_poles)]\n",
    "dd_thetas = [sp.Symbol(f\"\\\\ddot{{\\\\theta}}_{i+1}\") for i in range(num_poles)]\n",
    "u = dd_s\n",
    "\n",
    "derivate_by_time_dict = {s: d_s, d_s: dd_s}\n",
    "for i in range(num_poles):\n",
    "    derivate_by_time_dict[thetas[i]] = d_thetas[i]\n",
    "    derivate_by_time_dict[d_thetas[i]] = dd_thetas[i]"
   ]
  },
  {
   "cell_type": "code",
   "execution_count": 156,
   "metadata": {},
   "outputs": [
    {
     "name": "stdout",
     "output_type": "stream",
     "text": [
      "[[s - 0.05*sin(\\theta_1), 0.05*cos(\\theta_1)], [s - 0.1*sin(\\theta_1) - 0.1*sin(\\theta_2), 0.1*cos(\\theta_1) + 0.1*cos(\\theta_2)], [s - 0.1*sin(\\theta_1) - 0.2*sin(\\theta_2) - 0.15*sin(\\theta_3), 0.1*cos(\\theta_1) + 0.2*cos(\\theta_2) + 0.15*cos(\\theta_3)]]\n"
     ]
    }
   ],
   "source": [
    "pole_pcs = []\n",
    "for i, (theta, a) in enumerate(zip(thetas, pole_as)):\n",
    "    prev_1 = 0\n",
    "    prev_2 = 0\n",
    "    for prev_l, prev_theta in list(zip(pole_ls, thetas))[:i]:\n",
    "        prev_1 += -prev_l*sp.sin(prev_theta)\n",
    "        prev_2 += prev_l*sp.cos(prev_theta)\n",
    "    pole_pcs.append([s-a*sp.sin(theta)+prev_1, a*sp.cos(theta)+prev_2])\n",
    "print(pole_pcs)"
   ]
  },
  {
   "cell_type": "code",
   "execution_count": 161,
   "metadata": {},
   "outputs": [
    {
     "name": "stdout",
     "output_type": "stream",
     "text": [
      "(s - 0.05*sin(\\theta_1))**2 + 0.0025*cos(\\theta_1)**2\n",
      "0.01*(cos(\\theta_1) + cos(\\theta_2))**2 + (s - 0.1*sin(\\theta_1) - 0.1*sin(\\theta_2))**2\n",
      "0.04*(0.5*cos(\\theta_1) + cos(\\theta_2) + 0.75*cos(\\theta_3))**2 + (s - 0.1*sin(\\theta_1) - 0.2*sin(\\theta_2) - 0.15*sin(\\theta_3))**2\n"
     ]
    }
   ],
   "source": [
    "def square_sum(x: tuple):\n",
    "    result = 0\n",
    "    for x_i in x:\n",
    "        result += x_i**2\n",
    "    print(result)\n",
    "    return result\n",
    "\n",
    "T = [1/2*m_c*d_s**2]\n",
    "for m, pc, J, d_theta in zip(pole_ms, pole_pcs, pole_Js, d_thetas):\n",
    "    T_p = 1/2*m*square_sum(pc) + 1/2*J*d_theta**2\n",
    "    T.append(T_p)\n",
    "    \n",
    "V = 0   \n",
    "for m, pc in zip(pole_ms, pole_pcs):\n",
    "    V += g*m*pc[1]\n",
    "R = 0\n",
    "prev_w = 0\n",
    "for d, d_theta in zip(pole_ds, d_thetas):\n",
    "    R += 1/2*d*(d_theta-prev_w)**2\n",
    "    prev_w = d_theta"
   ]
  },
  {
   "cell_type": "code",
   "execution_count": 162,
   "metadata": {},
   "outputs": [
    {
     "data": {
      "text/plain": [
       "[0.13*\\ddot{\\theta}_1 - 0.02*\\dot{\\theta}_1 + 0.01*\\dot{\\theta}_2 + 0.005*(s - 0.05*sin(\\theta_1))*cos(\\theta_1) + 0.00025*sin(\\theta_1)*cos(\\theta_1) - 0.3924*sin(\\theta_1),\n",
       " 0.12*\\ddot{\\theta}_2 + 0.01*\\dot{\\theta}_1 - 0.02*\\dot{\\theta}_2 + 0.01*\\dot{\\theta}_3 + 0.0015*(cos(\\theta_1) + cos(\\theta_2))*sin(\\theta_2) + 0.015*(s - 0.1*sin(\\theta_1) - 0.1*sin(\\theta_2))*cos(\\theta_2) - 0.53955*sin(\\theta_2),\n",
       " 0.11*\\ddot{\\theta}_3 + 0.01*\\dot{\\theta}_2 - 0.01*\\dot{\\theta}_3 + 0.006*(0.5*cos(\\theta_1) + cos(\\theta_2) + 0.75*cos(\\theta_3))*sin(\\theta_3) + 0.03*(s - 0.1*sin(\\theta_1) - 0.2*sin(\\theta_2) - 0.15*sin(\\theta_3))*cos(\\theta_3) - 0.2943*sin(\\theta_3)]"
      ]
     },
     "execution_count": 162,
     "metadata": {},
     "output_type": "execute_result"
    }
   ],
   "source": [
    "eqs = []\n",
    "# lh = sp.diff(L, d_s).subs(derivate_by_time_dict)\n",
    "# lh -= sp.diff(L, s) + sp.diff(R, d_s)\n",
    "# rh = u\n",
    "# eqs.append(lh-rh)\n",
    "for theta, d_theta, T_p in zip(thetas, d_thetas, T[1:]):\n",
    "    L = T_p-V\n",
    "    lh = sp.diff(L, d_theta).subs(derivate_by_time_dict)\n",
    "    lh -= sp.diff(L, theta) + sp.diff(R, d_theta)\n",
    "    rh = 0\n",
    "    eqs.append(lh-rh)\n",
    "eqs"
   ]
  },
  {
   "cell_type": "code",
   "execution_count": 163,
   "metadata": {},
   "outputs": [],
   "source": [
    "sol = sp.solve(eqs, dd_thetas)\n",
    "sol = {k: v.simplify() for k, v in sol.items()}"
   ]
  },
  {
   "cell_type": "code",
   "execution_count": 169,
   "metadata": {},
   "outputs": [
    {
     "name": "stdout",
     "output_type": "stream",
     "text": [
      "\\ddot{\\theta}_1: 0.0526794175845388\n",
      "\\ddot{\\theta}_2: 0.000218155080466044\n",
      "\\ddot{\\theta}_3: 0.000475974721016823\n",
      "Time: 0.03662220004480332\n"
     ]
    }
   ],
   "source": [
    "values = np.array([0, 0, radians(1), 0, radians(1), 0, radians(1), 0] + [0])\n",
    "variables = [s, d_s]\n",
    "for theta, d_theta in zip(thetas, d_thetas):\n",
    "    variables.append(theta)\n",
    "    variables.append(d_theta)\n",
    "variables.append(u)\n",
    "\n",
    "start_time = perf_counter()\n",
    "# substitute the values of the variables into the solutions\n",
    "sol_sub = sol.copy()\n",
    "for i in range(1):\n",
    "    for k, v in sol.items():\n",
    "        sol_sub[k] = v.subs({k: v for k, v in zip(variables, values)})\n",
    "        print(f\"{k}: {sol_sub[k]}\")\n",
    "print(f\"Time: {perf_counter()-start_time}\")"
   ]
  }
 ],
 "metadata": {
  "kernelspec": {
   "display_name": "Python 3",
   "language": "python",
   "name": "python3"
  },
  "language_info": {
   "codemirror_mode": {
    "name": "ipython",
    "version": 3
   },
   "file_extension": ".py",
   "mimetype": "text/x-python",
   "name": "python",
   "nbconvert_exporter": "python",
   "pygments_lexer": "ipython3",
   "version": "3.11.3"
  },
  "orig_nbformat": 4
 },
 "nbformat": 4,
 "nbformat_minor": 2
}
