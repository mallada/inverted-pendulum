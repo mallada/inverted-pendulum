{
 "cells": [
  {
   "cell_type": "code",
   "execution_count": 9,
   "metadata": {},
   "outputs": [],
   "source": [
    "import sympy as sp\n",
    "import numpy as np \n",
    "from numpy import radians\n",
    "from time import perf_counter"
   ]
  },
  {
   "cell_type": "code",
   "execution_count": 10,
   "metadata": {},
   "outputs": [],
   "source": [
    "num_poles = 2\n",
    "\n",
    "pole_as = [sp.Symbol(f'a_{i+1}') for i in range(num_poles)]\n",
    "pole_ls = [sp.Symbol(f'l_{i+1}') for i in range(num_poles)]\n",
    "pole_ms = [sp.Symbol(f'm_{i+1}') for i in range(num_poles)]\n",
    "pole_ds = [sp.Symbol(f'd_{i+1}') for i in range(num_poles)]\n",
    "pole_Js = [sp.Symbol(f'J_{i+1}') for i in range(num_poles)]\n",
    "\n",
    "m_c = sp.Symbol('m_c')\n",
    "g = sp.Symbol('g')"
   ]
  },
  {
   "cell_type": "code",
   "execution_count": 26,
   "metadata": {},
   "outputs": [],
   "source": [
    "t = sp.Symbol(\"t\")\n",
    "s = sp.Function(\"s\")(t)\n",
    "d_s = sp.diff(s, t)\n",
    "dd_s = sp.diff(d_s, t)\n",
    "thetas = [sp.Function(f\"theta_{i+1}\")(t) for i in range(num_poles)]\n",
    "d_thetas = [sp.diff(theta,t) for theta in thetas]\n",
    "dd_thetas = [sp.diff(d_theta,t) for d_theta in d_thetas]\n",
    "u = dd_s\n",
    "torque = sp.Symbol(\"tau\")"
   ]
  },
  {
   "cell_type": "code",
   "execution_count": 27,
   "metadata": {},
   "outputs": [],
   "source": [
    "pole_pcs = []\n",
    "for i, (theta, a) in enumerate(zip(thetas, pole_as)):\n",
    "    prev_1 = 0\n",
    "    prev_2 = 0\n",
    "    for prev_l, prev_theta in list(zip(pole_ls, thetas))[:i]:\n",
    "        prev_1 += -prev_l*sp.sin(prev_theta)\n",
    "        prev_2 += prev_l*sp.cos(prev_theta)\n",
    "    pole_pcs.append([s-a*sp.sin(theta)+prev_1, a*sp.cos(theta)+prev_2])"
   ]
  },
  {
   "cell_type": "code",
   "execution_count": 28,
   "metadata": {},
   "outputs": [
    {
     "name": "stdout",
     "output_type": "stream",
     "text": [
      "0.5*J_1*Derivative(theta_1(t), t)**2 + 0.5*m_1*(a_1**2*sin(theta_1(t))**2*Derivative(theta_1(t), t)**2 + (-a_1*cos(theta_1(t))*Derivative(theta_1(t), t) + Derivative(s(t), t))**2)\n",
      "0.5*J_2*Derivative(theta_2(t), t)**2 + 0.5*m_2*((-a_2*sin(theta_2(t))*Derivative(theta_2(t), t) - l_1*sin(theta_1(t))*Derivative(theta_1(t), t))**2 + (-a_2*cos(theta_2(t))*Derivative(theta_2(t), t) - l_1*cos(theta_1(t))*Derivative(theta_1(t), t) + Derivative(s(t), t))**2)\n"
     ]
    }
   ],
   "source": [
    "def square_sum(x: tuple):\n",
    "    result = 0\n",
    "    for x_i in x:\n",
    "        result += x_i**2\n",
    "    return result\n",
    "\n",
    "T = [1/2*m_c*d_s**2]\n",
    "for m, pc, J, d_theta in zip(pole_ms, pole_pcs, pole_Js, d_thetas):\n",
    "    d_pc = [sp.diff(p,t) for p in pc]\n",
    "    T_p = 1/2*m*square_sum(d_pc) + 1/2*J*d_theta**2\n",
    "    T.append(T_p)\n",
    "    print(T_p)\n",
    "    \n",
    "V = 0   \n",
    "for m, pc in zip(pole_ms, pole_pcs  ):\n",
    "    V += g*m*pc[1]\n",
    "R = 0\n",
    "prev_w = 0\n",
    "for d, d_theta in zip(pole_ds, d_thetas):\n",
    "    R += 1/2*d*(d_theta-prev_w)**2\n",
    "    prev_w = d_theta"
   ]
  },
  {
   "cell_type": "code",
   "execution_count": 29,
   "metadata": {},
   "outputs": [],
   "source": [
    "L = T[0]-V\n",
    "eqs = []\n",
    "lh = sp.diff(sp.diff(L, d_s),t) - sp.diff(L, s) + sp.diff(R, d_s)\n",
    "rh = torque\n",
    "eqs.append(lh-rh)\n",
    "for theta, d_theta, T_p in zip(thetas, d_thetas, T[1:]):\n",
    "    L = T_p-V\n",
    "    lh = sp.diff(sp.diff(L, d_theta),t) - sp.diff(L, theta) + sp.diff(R, d_theta)\n",
    "    rh = 0\n",
    "    eqs.append(lh-rh)"
   ]
  },
  {
   "cell_type": "code",
   "execution_count": 30,
   "metadata": {},
   "outputs": [
    {
     "data": {
      "text/latex": [
       "$\\displaystyle m_{c} \\frac{d^{2}}{d t^{2}} s{\\left(t \\right)}$"
      ],
      "text/plain": [
       "m_c*Derivative(s(t), (t, 2))"
      ]
     },
     "metadata": {},
     "output_type": "display_data"
    },
    {
     "data": {
      "text/latex": [
       "$\\displaystyle \\frac{a_{1} g m_{1} \\sin{\\left(\\theta_{1}{\\left(t \\right)} \\right)} + a_{1} m_{1} \\cos{\\left(\\theta_{1}{\\left(t \\right)} \\right)} \\frac{d^{2}}{d t^{2}} s{\\left(t \\right)} - d_{1} \\frac{d}{d t} \\theta_{1}{\\left(t \\right)} - d_{2} \\frac{d}{d t} \\theta_{1}{\\left(t \\right)} + d_{2} \\frac{d}{d t} \\theta_{2}{\\left(t \\right)} + g l_{1} m_{2} \\sin{\\left(\\theta_{1}{\\left(t \\right)} \\right)}}{J_{1} + a_{1}^{2} m_{1}}$"
      ],
      "text/plain": [
       "(a_1*g*m_1*sin(theta_1(t)) + a_1*m_1*cos(theta_1(t))*Derivative(s(t), (t, 2)) - d_1*Derivative(theta_1(t), t) - d_2*Derivative(theta_1(t), t) + d_2*Derivative(theta_2(t), t) + g*l_1*m_2*sin(theta_1(t)))/(J_1 + a_1**2*m_1)"
      ]
     },
     "metadata": {},
     "output_type": "display_data"
    },
    {
     "data": {
      "text/latex": [
       "$\\displaystyle \\frac{J_{1} a_{2} g m_{2} \\sin{\\left(\\theta_{2}{\\left(t \\right)} \\right)} + J_{1} a_{2} l_{1} m_{2} \\sin{\\left(\\theta_{1}{\\left(t \\right)} - \\theta_{2}{\\left(t \\right)} \\right)} \\left(\\frac{d}{d t} \\theta_{1}{\\left(t \\right)}\\right)^{2} + J_{1} a_{2} m_{2} \\cos{\\left(\\theta_{2}{\\left(t \\right)} \\right)} \\frac{d^{2}}{d t^{2}} s{\\left(t \\right)} + J_{1} d_{2} \\frac{d}{d t} \\theta_{1}{\\left(t \\right)} - J_{1} d_{2} \\frac{d}{d t} \\theta_{2}{\\left(t \\right)} + a_{1}^{2} a_{2} g m_{1} m_{2} \\sin{\\left(\\theta_{2}{\\left(t \\right)} \\right)} + a_{1}^{2} a_{2} l_{1} m_{1} m_{2} \\sin{\\left(\\theta_{1}{\\left(t \\right)} - \\theta_{2}{\\left(t \\right)} \\right)} \\left(\\frac{d}{d t} \\theta_{1}{\\left(t \\right)}\\right)^{2} + a_{1}^{2} a_{2} m_{1} m_{2} \\cos{\\left(\\theta_{2}{\\left(t \\right)} \\right)} \\frac{d^{2}}{d t^{2}} s{\\left(t \\right)} + a_{1}^{2} d_{2} m_{1} \\frac{d}{d t} \\theta_{1}{\\left(t \\right)} - a_{1}^{2} d_{2} m_{1} \\frac{d}{d t} \\theta_{2}{\\left(t \\right)} - a_{1} a_{2} g l_{1} m_{1} m_{2} \\sin{\\left(\\theta_{1}{\\left(t \\right)} \\right)} \\cos{\\left(\\theta_{1}{\\left(t \\right)} - \\theta_{2}{\\left(t \\right)} \\right)} + a_{1} a_{2} l_{1} m_{1} m_{2} \\sin{\\left(\\theta_{1}{\\left(t \\right)} - \\theta_{2}{\\left(t \\right)} \\right)} \\sin{\\left(\\theta_{1}{\\left(t \\right)} \\right)} \\frac{d^{2}}{d t^{2}} s{\\left(t \\right)} - a_{1} a_{2} l_{1} m_{1} m_{2} \\cos{\\left(\\theta_{2}{\\left(t \\right)} \\right)} \\frac{d^{2}}{d t^{2}} s{\\left(t \\right)} + a_{2} d_{1} l_{1} m_{2} \\cos{\\left(\\theta_{1}{\\left(t \\right)} - \\theta_{2}{\\left(t \\right)} \\right)} \\frac{d}{d t} \\theta_{1}{\\left(t \\right)} + a_{2} d_{2} l_{1} m_{2} \\cos{\\left(\\theta_{1}{\\left(t \\right)} - \\theta_{2}{\\left(t \\right)} \\right)} \\frac{d}{d t} \\theta_{1}{\\left(t \\right)} - a_{2} d_{2} l_{1} m_{2} \\cos{\\left(\\theta_{1}{\\left(t \\right)} - \\theta_{2}{\\left(t \\right)} \\right)} \\frac{d}{d t} \\theta_{2}{\\left(t \\right)} - a_{2} g l_{1}^{2} m_{2}^{2} \\sin{\\left(\\theta_{1}{\\left(t \\right)} \\right)} \\cos{\\left(\\theta_{1}{\\left(t \\right)} - \\theta_{2}{\\left(t \\right)} \\right)}}{J_{1} J_{2} + J_{1} a_{2}^{2} m_{2} + J_{2} a_{1}^{2} m_{1} + a_{1}^{2} a_{2}^{2} m_{1} m_{2}}$"
      ],
      "text/plain": [
       "(J_1*a_2*g*m_2*sin(theta_2(t)) + J_1*a_2*l_1*m_2*sin(theta_1(t) - theta_2(t))*Derivative(theta_1(t), t)**2 + J_1*a_2*m_2*cos(theta_2(t))*Derivative(s(t), (t, 2)) + J_1*d_2*Derivative(theta_1(t), t) - J_1*d_2*Derivative(theta_2(t), t) + a_1**2*a_2*g*m_1*m_2*sin(theta_2(t)) + a_1**2*a_2*l_1*m_1*m_2*sin(theta_1(t) - theta_2(t))*Derivative(theta_1(t), t)**2 + a_1**2*a_2*m_1*m_2*cos(theta_2(t))*Derivative(s(t), (t, 2)) + a_1**2*d_2*m_1*Derivative(theta_1(t), t) - a_1**2*d_2*m_1*Derivative(theta_2(t), t) - a_1*a_2*g*l_1*m_1*m_2*sin(theta_1(t))*cos(theta_1(t) - theta_2(t)) + a_1*a_2*l_1*m_1*m_2*sin(theta_1(t) - theta_2(t))*sin(theta_1(t))*Derivative(s(t), (t, 2)) - a_1*a_2*l_1*m_1*m_2*cos(theta_2(t))*Derivative(s(t), (t, 2)) + a_2*d_1*l_1*m_2*cos(theta_1(t) - theta_2(t))*Derivative(theta_1(t), t) + a_2*d_2*l_1*m_2*cos(theta_1(t) - theta_2(t))*Derivative(theta_1(t), t) - a_2*d_2*l_1*m_2*cos(theta_1(t) - theta_2(t))*Derivative(theta_2(t), t) - a_2*g*l_1**2*m_2**2*sin(theta_1(t))*cos(theta_1(t) - theta_2(t)))/(J_1*J_2 + J_1*a_2**2*m_2 + J_2*a_1**2*m_1 + a_1**2*a_2**2*m_1*m_2)"
      ]
     },
     "metadata": {},
     "output_type": "display_data"
    }
   ],
   "source": [
    "sols = sp.solve(eqs, dd_thetas + [torque])\n",
    "for key, value in sols.items():\n",
    "    sols[key] = sp.simplify(value)\n",
    "    display(sols[key])"
   ]
  },
  {
   "cell_type": "code",
   "execution_count": 31,
   "metadata": {},
   "outputs": [
    {
     "data": {
      "text/plain": [
       "'(a_1*g*m_1*sin(theta_1(t)) + a_1*m_1*cos(theta_1(t))*Derivative(s(t), (t, 2)) - d_1*Derivative(theta_1(t), t) - d_2*Derivative(theta_1(t), t) + d_2*Derivative(theta_2(t), t) + g*l_1*m_2*sin(theta_1(t)))/(J_1 + a_1**2*m_1)'"
      ]
     },
     "execution_count": 31,
     "metadata": {},
     "output_type": "execute_result"
    }
   ],
   "source": [
    "str(sols[dd_thetas[0]])"
   ]
  },
  {
   "cell_type": "code",
   "execution_count": 34,
   "metadata": {},
   "outputs": [
    {
     "data": {
      "text/latex": [
       "$\\displaystyle \\frac{a_{1} g m_{1} \\sin{\\left(\\theta_{1}{\\left(t \\right)} \\right)} + a_{1} m_{1} \\cos{\\left(\\theta_{1}{\\left(t \\right)} \\right)} \\frac{d^{2}}{d t^{2}} s{\\left(t \\right)} - d_{1} \\frac{d}{d t} \\theta_{1}{\\left(t \\right)} - d_{2} \\frac{d}{d t} \\theta_{1}{\\left(t \\right)} + d_{2} \\frac{d}{d t} \\theta_{2}{\\left(t \\right)} + g l_{1} m_{2} \\sin{\\left(\\theta_{1}{\\left(t \\right)} \\right)}}{J_{1} + a_{1}^{2} m_{1}}$"
      ],
      "text/plain": [
       "(a_1*g*m_1*sin(theta_1(t)) + a_1*m_1*cos(theta_1(t))*Derivative(s(t), (t, 2)) - d_1*Derivative(theta_1(t), t) - d_2*Derivative(theta_1(t), t) + d_2*Derivative(theta_2(t), t) + g*l_1*m_2*sin(theta_1(t)))/(J_1 + a_1**2*m_1)"
      ]
     },
     "execution_count": 34,
     "metadata": {},
     "output_type": "execute_result"
    }
   ],
   "source": [
    "sp.sympify(str(sols[dd_thetas[0]]))"
   ]
  },
  {
   "cell_type": "code",
   "execution_count": 47,
   "metadata": {},
   "outputs": [
    {
     "name": "stdout",
     "output_type": "stream",
     "text": [
      "[SX(x), SX(y)]\n",
      "[(x*sqrt(y)), sin((x+y)), fabs((x-y))]\n"
     ]
    }
   ],
   "source": [
    "def sympy2casadi(sympy_expr,sympy_var,casadi_var):\n",
    "  import casadi\n",
    "  assert casadi_var.is_vector()\n",
    "  if casadi_var.shape[1]>1:\n",
    "    casadi_var = casadi_var.T\n",
    "  casadi_var = casadi.vertsplit(casadi_var)\n",
    "  from sympy.utilities.lambdify import lambdify\n",
    "\n",
    "  mapping = {'ImmutableDenseMatrix': casadi.blockcat,\n",
    "             'MutableDenseMatrix': casadi.blockcat,\n",
    "             'Abs':casadi.fabs\n",
    "            }\n",
    "  f = lambdify(sympy_var,sympy_expr,modules=[mapping, casadi])\n",
    "  print(casadi_var)\n",
    "  return f(*casadi_var)\n",
    "  \n",
    "\n",
    "import sympy\n",
    "x,y = sympy.symbols(\"x y\")\n",
    "import casadi\n",
    "X = casadi.SX.sym(\"x\")\n",
    "Y = casadi.SX.sym(\"y\")\n",
    "\n",
    "xy = sympy.Matrix([x,y])\n",
    "e = sympy.Matrix([x*sympy.sqrt(y),sympy.sin(x+y),abs(x-y)])\n",
    "XY = casadi.vertcat(X,Y)\n",
    "print(sympy2casadi(e,xy,XY))"
   ]
  },
  {
   "cell_type": "code",
   "execution_count": 33,
   "metadata": {},
   "outputs": [
    {
     "name": "stdout",
     "output_type": "stream",
     "text": [
      "Time: 0.2281134999357164\n"
     ]
    }
   ],
   "source": [
    "values = np.array([10, 0, radians(0), 0, radians(0), 0, radians(0), 0] + [0])\n",
    "variables = [s, d_s]\n",
    "for theta, d_theta in zip(thetas, d_thetas):\n",
    "    variables.append(theta)\n",
    "    variables.append(d_theta)\n",
    "variables.append(u)\n",
    "\n",
    "start_time = perf_counter()\n",
    "# substitute the values of the variables into the solutions\n",
    "sol_sub = sols.copy()\n",
    "for i in range(100):\n",
    "    for k, v in sols.items():\n",
    "        a = v.subs({var: value for var, value in zip(variables, values)})\n",
    "print(f\"Time: {perf_counter()-start_time}\")"
   ]
  }
 ],
 "metadata": {
  "kernelspec": {
   "display_name": "Python 3",
   "language": "python",
   "name": "python3"
  },
  "language_info": {
   "codemirror_mode": {
    "name": "ipython",
    "version": 3
   },
   "file_extension": ".py",
   "mimetype": "text/x-python",
   "name": "python",
   "nbconvert_exporter": "python",
   "pygments_lexer": "ipython3",
   "version": "3.10.11"
  },
  "orig_nbformat": 4
 },
 "nbformat": 4,
 "nbformat_minor": 2
}
