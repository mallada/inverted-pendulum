{
 "cells": [
  {
   "cell_type": "code",
   "execution_count": 2,
   "metadata": {},
   "outputs": [],
   "source": [
    "import casadi as ca\n",
    "import sympy as sp\n",
    "import numpy as np\n",
    "from lib.utils import sympy2casadi"
   ]
  },
  {
   "cell_type": "code",
   "execution_count": 3,
   "metadata": {},
   "outputs": [],
   "source": [
    "num_poles = 2\n",
    "\n",
    "pole_as = [0.1 for i in range(num_poles)]\n",
    "pole_ls = [0.2 for i in range(num_poles)]\n",
    "pole_ms = [0.05 for i in range(num_poles)]\n",
    "pole_ds = [0.01 for i in range(num_poles)]\n",
    "pole_Js = [0.1 for i in range(num_poles)]\n",
    "\n",
    "m_c = 0.5\n",
    "g = 9.81"
   ]
  },
  {
   "cell_type": "code",
   "execution_count": 6,
   "metadata": {},
   "outputs": [],
   "source": [
    "t = sp.symbols(\"t\")\n",
    "s = sp.Function(\"s\")(t) #type: ignore\n",
    "d_s = sp.diff(s, t)\n",
    "dd_s = sp.diff(d_s, t)\n",
    "thetas = [sp.Function(f\"theta{i+1}\")(t) for i in range(num_poles)] #type: ignore\n",
    "d_thetas = [sp.diff(theta,t) for theta in thetas]\n",
    "dd_thetas = [sp.diff(d_theta,t) for d_theta in d_thetas]\n",
    "\n",
    "pole_pc1s = []\n",
    "pole_pc2s = []\n",
    "for i, (theta, a) in enumerate(zip(thetas, pole_as)):\n",
    "    prev_1 = 0\n",
    "    prev_2 = 0\n",
    "    for prev_l, prev_theta in list(zip(pole_ls, thetas))[:i]:\n",
    "        prev_1 += -prev_l*sp.sin(prev_theta)\n",
    "        prev_2 += prev_l*sp.cos(prev_theta)\n",
    "    pole_pc1s.append(s-a*sp.sin(theta)+prev_1)\n",
    "    pole_pc2s.append(a*sp.cos(theta)+prev_2)\n",
    "\n",
    "T = 1/2*m_c*d_s**2\n",
    "for m, pc1, pc2, J, d_theta in zip(pole_ms, pole_pc1s, pole_pc2s, pole_Js, d_thetas):\n",
    "    d_pc1 = sp.diff(pc1,t)\n",
    "    d_pc2 = sp.diff(pc2,t)\n",
    "    T += 1/2*m*(d_pc1**2 + d_pc2**2) + 1/2*J*d_theta**2 #type: ignore\n",
    "    \n",
    "V = 0   \n",
    "for m, pc2 in zip(pole_ms, pole_pc2s):\n",
    "    V += g*m*pc2\n",
    "\n",
    "R = 0\n",
    "prev_w = 0\n",
    "for d, d_theta in zip(pole_ds, d_thetas):\n",
    "    R += 1/2*d*(d_theta-prev_w)**2 #type: ignore\n",
    "    prev_w = d_theta\n",
    "\n",
    "eqs = []\n",
    "for theta, d_theta in zip(thetas, d_thetas):\n",
    "    L = T-V\n",
    "    lh = sp.diff(sp.diff(L, d_theta),t) - sp.diff(L, theta) + sp.diff(R, d_theta) #type: ignore\n",
    "    rh = 0\n",
    "    eqs.append(lh-rh)\n",
    "\n",
    "sp_vars = [s, d_s] + [item for pair in zip(thetas, d_thetas) for item in pair] + [dd_s] + dd_thetas\n",
    "sols = sp.solve(eqs, dd_thetas)\n",
    "sp_sols = [sp.simplify(sols[dd_theta]) for dd_theta in dd_thetas]"
   ]
  },
  {
   "cell_type": "code",
   "execution_count": 7,
   "metadata": {},
   "outputs": [
    {
     "name": "stdout",
     "output_type": "stream",
     "text": [
      "Sol\n"
     ]
    },
    {
     "data": {
      "text/latex": [
       "$\\displaystyle \\frac{- 0.00238101016965608 \\sin{\\left(\\theta_{1}{\\left(t \\right)} - 2 \\theta_{2}{\\left(t \\right)} \\right)} + 0.00975704473192398 \\sin{\\left(\\theta_{1}{\\left(t \\right)} - \\theta_{2}{\\left(t \\right)} \\right)} \\left(\\frac{d}{d t} \\theta_{2}{\\left(t \\right)}\\right)^{2} + 4.85425111040994 \\cdot 10^{-5} \\sin{\\left(2 \\theta_{1}{\\left(t \\right)} - 2 \\theta_{2}{\\left(t \\right)} \\right)} \\left(\\frac{d}{d t} \\theta_{1}{\\left(t \\right)}\\right)^{2} - 1.43336812213296 \\sin{\\left(\\theta_{1}{\\left(t \\right)} \\right)} + 0.000242712555520497 \\cos{\\left(\\theta_{1}{\\left(t \\right)} - 2 \\theta_{2}{\\left(t \\right)} \\right)} \\frac{d^{2}}{d t^{2}} s{\\left(t \\right)} + 0.000970850222081988 \\cos{\\left(\\theta_{1}{\\left(t \\right)} - \\theta_{2}{\\left(t \\right)} \\right)} \\frac{d}{d t} \\theta_{1}{\\left(t \\right)} - 0.000970850222081988 \\cos{\\left(\\theta_{1}{\\left(t \\right)} - \\theta_{2}{\\left(t \\right)} \\right)} \\frac{d}{d t} \\theta_{2}{\\left(t \\right)} - 4.06575814682064 \\cdot 10^{-20} \\cos{\\left(\\theta_{1}{\\left(t \\right)} + 2 \\theta_{2}{\\left(t \\right)} \\right)} \\frac{d^{2}}{d t^{2}} s{\\left(t \\right)} - 0.146112958423339 \\cos{\\left(\\theta_{1}{\\left(t \\right)} \\right)} \\frac{d^{2}}{d t^{2}} s{\\left(t \\right)} + 0.19514089463848 \\frac{d}{d t} \\theta_{1}{\\left(t \\right)} - 0.0975704473192398 \\frac{d}{d t} \\theta_{2}{\\left(t \\right)}}{4.85425111040994 \\cdot 10^{-5} \\cos{\\left(2 \\theta_{1}{\\left(t \\right)} - 2 \\theta_{2}{\\left(t \\right)} \\right)} - 1.0000485425111}$"
      ],
      "text/plain": [
       "(-0.00238101016965608*sin(theta1(t) - 2*theta2(t)) + 0.00975704473192398*sin(theta1(t) - theta2(t))*Derivative(theta2(t), t)**2 + 4.85425111040994e-5*sin(2*theta1(t) - 2*theta2(t))*Derivative(theta1(t), t)**2 - 1.43336812213296*sin(theta1(t)) + 0.000242712555520497*cos(theta1(t) - 2*theta2(t))*Derivative(s(t), (t, 2)) + 0.000970850222081988*cos(theta1(t) - theta2(t))*Derivative(theta1(t), t) - 0.000970850222081988*cos(theta1(t) - theta2(t))*Derivative(theta2(t), t) - 4.06575814682064e-20*cos(theta1(t) + 2*theta2(t))*Derivative(s(t), (t, 2)) - 0.146112958423339*cos(theta1(t))*Derivative(s(t), (t, 2)) + 0.19514089463848*Derivative(theta1(t), t) - 0.0975704473192398*Derivative(theta2(t), t))/(4.85425111040994e-5*cos(2*theta1(t) - 2*theta2(t)) - 1.0000485425111)"
      ]
     },
     "metadata": {},
     "output_type": "display_data"
    },
    {
     "name": "stdout",
     "output_type": "stream",
     "text": [
      "Sol\n"
     ]
    },
    {
     "data": {
      "text/latex": [
       "$\\displaystyle \\frac{- 0.00995121477634038 \\sin{\\left(\\theta_{1}{\\left(t \\right)} - \\theta_{2}{\\left(t \\right)} \\right)} \\left(\\frac{d}{d t} \\theta_{1}{\\left(t \\right)}\\right)^{2} - 4.85425111040994 \\cdot 10^{-5} \\sin{\\left(2 \\theta_{1}{\\left(t \\right)} - 2 \\theta_{2}{\\left(t \\right)} \\right)} \\left(\\frac{d}{d t} \\theta_{2}{\\left(t \\right)}\\right)^{2} + 0.00714303050896823 \\sin{\\left(2 \\theta_{1}{\\left(t \\right)} - \\theta_{2}{\\left(t \\right)} \\right)} - 0.480964054270527 \\sin{\\left(\\theta_{2}{\\left(t \\right)} \\right)} - 0.00194170044416398 \\cos{\\left(\\theta_{1}{\\left(t \\right)} - \\theta_{2}{\\left(t \\right)} \\right)} \\frac{d}{d t} \\theta_{1}{\\left(t \\right)} + 0.000970850222081989 \\cos{\\left(\\theta_{1}{\\left(t \\right)} - \\theta_{2}{\\left(t \\right)} \\right)} \\frac{d}{d t} \\theta_{2}{\\left(t \\right)} + 0.000728137666561491 \\cos{\\left(2 \\theta_{1}{\\left(t \\right)} - \\theta_{2}{\\left(t \\right)} \\right)} \\frac{d^{2}}{d t^{2}} s{\\left(t \\right)} - 0.0490279362151404 \\cos{\\left(\\theta_{2}{\\left(t \\right)} \\right)} \\frac{d^{2}}{d t^{2}} s{\\left(t \\right)} - 0.0995121477634038 \\frac{d}{d t} \\theta_{1}{\\left(t \\right)} + 0.0995121477634038 \\frac{d}{d t} \\theta_{2}{\\left(t \\right)}}{4.85425111040994 \\cdot 10^{-5} \\cos{\\left(2 \\theta_{1}{\\left(t \\right)} - 2 \\theta_{2}{\\left(t \\right)} \\right)} - 1.0000485425111}$"
      ],
      "text/plain": [
       "(-0.00995121477634038*sin(theta1(t) - theta2(t))*Derivative(theta1(t), t)**2 - 4.85425111040994e-5*sin(2*theta1(t) - 2*theta2(t))*Derivative(theta2(t), t)**2 + 0.00714303050896823*sin(2*theta1(t) - theta2(t)) - 0.480964054270527*sin(theta2(t)) - 0.00194170044416398*cos(theta1(t) - theta2(t))*Derivative(theta1(t), t) + 0.000970850222081989*cos(theta1(t) - theta2(t))*Derivative(theta2(t), t) + 0.000728137666561491*cos(2*theta1(t) - theta2(t))*Derivative(s(t), (t, 2)) - 0.0490279362151404*cos(theta2(t))*Derivative(s(t), (t, 2)) - 0.0995121477634038*Derivative(theta1(t), t) + 0.0995121477634038*Derivative(theta2(t), t))/(4.85425111040994e-5*cos(2*theta1(t) - 2*theta2(t)) - 1.0000485425111)"
      ]
     },
     "metadata": {},
     "output_type": "display_data"
    }
   ],
   "source": [
    "for sol in sp_sols:\n",
    "    print(\"Sol\")\n",
    "    display(sol)"
   ]
  }
 ],
 "metadata": {
  "kernelspec": {
   "display_name": "Python 3",
   "language": "python",
   "name": "python3"
  },
  "language_info": {
   "codemirror_mode": {
    "name": "ipython",
    "version": 3
   },
   "file_extension": ".py",
   "mimetype": "text/x-python",
   "name": "python",
   "nbconvert_exporter": "python",
   "pygments_lexer": "ipython3",
   "version": "3.10.11"
  },
  "orig_nbformat": 4
 },
 "nbformat": 4,
 "nbformat_minor": 2
}
