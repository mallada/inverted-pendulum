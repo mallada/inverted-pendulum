{
 "cells": [
  {
   "cell_type": "code",
   "execution_count": 10,
   "metadata": {},
   "outputs": [],
   "source": [
    "import gym\n",
    "import time\n",
    "from math import sin, cos, radians, log10\n",
    "from sklearn.preprocessing import KBinsDiscretizer\n",
    "import numpy as np\n",
    "from ipywidgets import IntProgress\n",
    "from IPython.display import display\n",
    "from time import perf_counter"
   ]
  },
  {
   "cell_type": "code",
   "execution_count": 11,
   "metadata": {},
   "outputs": [],
   "source": [
    "env = gym.make(\"CartPole-v1\")\n",
    "env_render = gym.make(\"CartPole-v1\", render_mode=\"human\")\n"
   ]
  },
  {
   "cell_type": "code",
   "execution_count": 12,
   "metadata": {},
   "outputs": [],
   "source": [
    "n_bins = (6,12)\n",
    "lower_bounds = [env.observation_space.low[2], -radians(50)]\n",
    "upper_bounds = [env.observation_space.high[2], radians(50)]\n",
    "    \n",
    "def discretizer(_, __, angle, pole_velocity) -> tuple[int,...]:\n",
    "    est = KBinsDiscretizer(n_bins=n_bins, encode=\"ordinal\", strategy=\"uniform\")\n",
    "    est.fit([lower_bounds, upper_bounds])\n",
    "    return tuple(map(int, est.transform([[angle, pole_velocity]])[0]))"
   ]
  },
  {
   "cell_type": "code",
   "execution_count": 13,
   "metadata": {},
   "outputs": [
    {
     "data": {
      "text/plain": [
       "(6, 12, 2)"
      ]
     },
     "execution_count": 13,
     "metadata": {},
     "output_type": "execute_result"
    }
   ],
   "source": [
    "Q_table = np.zeros(n_bins + (env.action_space.n,))\n",
    "Q_table.shape"
   ]
  },
  {
   "cell_type": "code",
   "execution_count": 14,
   "metadata": {},
   "outputs": [],
   "source": [
    "def policy(state: tuple):\n",
    "    return np.argmax(Q_table[state])"
   ]
  },
  {
   "cell_type": "code",
   "execution_count": 15,
   "metadata": {},
   "outputs": [],
   "source": [
    "def new_Q_value(reward: float, new_state: tuple, discount_factor=1.0) -> float:\n",
    "    future_optimal_value = np.max(Q_table[new_state])\n",
    "    learned_value = reward + discount_factor * future_optimal_value\n",
    "    return learned_value"
   ]
  },
  {
   "cell_type": "code",
   "execution_count": 16,
   "metadata": {},
   "outputs": [],
   "source": [
    "def learning_rate(n: int, min_rate=0.01) -> float:\n",
    "    return max(min_rate, min(1.0, 1.0 - log10((n+1)/25)))"
   ]
  },
  {
   "cell_type": "code",
   "execution_count": 17,
   "metadata": {},
   "outputs": [],
   "source": [
    "def exploration_rate(n: int, min_rate=0.1) -> float:\n",
    "    return max(min_rate, min(1, 1.0-log10((n+1)/25)))"
   ]
  },
  {
   "cell_type": "code",
   "execution_count": 18,
   "metadata": {},
   "outputs": [
    {
     "data": {
      "application/vnd.jupyter.widget-view+json": {
       "model_id": "ff13ce4410a54e7c92cd81dae82b420b",
       "version_major": 2,
       "version_minor": 0
      },
      "text/plain": [
       "IntProgress(value=0, max=2000)"
      ]
     },
     "metadata": {},
     "output_type": "display_data"
    },
    {
     "ename": "KeyboardInterrupt",
     "evalue": "",
     "output_type": "error",
     "traceback": [
      "\u001b[1;31m---------------------------------------------------------------------------\u001b[0m",
      "\u001b[1;31mKeyboardInterrupt\u001b[0m                         Traceback (most recent call last)",
      "\u001b[1;32mc:\\Users\\sacka\\Documents\\programming\\projects\\inverted-pendulum\\gym_cartpolev1_example.ipynb Cell 9\u001b[0m in \u001b[0;36m<cell line: 7>\u001b[1;34m()\u001b[0m\n\u001b[0;32m     <a href='vscode-notebook-cell:/c%3A/Users/sacka/Documents/programming/projects/inverted-pendulum/gym_cartpolev1_example.ipynb#X11sZmlsZQ%3D%3D?line=26'>27</a>\u001b[0m     action \u001b[39m=\u001b[39m env_e\u001b[39m.\u001b[39maction_space\u001b[39m.\u001b[39msample()\n\u001b[0;32m     <a href='vscode-notebook-cell:/c%3A/Users/sacka/Documents/programming/projects/inverted-pendulum/gym_cartpolev1_example.ipynb#X11sZmlsZQ%3D%3D?line=28'>29</a>\u001b[0m obs, reward, done, info, _ \u001b[39m=\u001b[39m env_e\u001b[39m.\u001b[39mstep(action, )\n\u001b[1;32m---> <a href='vscode-notebook-cell:/c%3A/Users/sacka/Documents/programming/projects/inverted-pendulum/gym_cartpolev1_example.ipynb#X11sZmlsZQ%3D%3D?line=29'>30</a>\u001b[0m new_state \u001b[39m=\u001b[39m discretizer(\u001b[39m*\u001b[39;49mobs)\n\u001b[0;32m     <a href='vscode-notebook-cell:/c%3A/Users/sacka/Documents/programming/projects/inverted-pendulum/gym_cartpolev1_example.ipynb#X11sZmlsZQ%3D%3D?line=31'>32</a>\u001b[0m lr \u001b[39m=\u001b[39m learning_rate(e)\n\u001b[0;32m     <a href='vscode-notebook-cell:/c%3A/Users/sacka/Documents/programming/projects/inverted-pendulum/gym_cartpolev1_example.ipynb#X11sZmlsZQ%3D%3D?line=32'>33</a>\u001b[0m learnt_value \u001b[39m=\u001b[39m new_Q_value(reward, new_state, \u001b[39m1\u001b[39m)\n",
      "\u001b[1;32mc:\\Users\\sacka\\Documents\\programming\\projects\\inverted-pendulum\\gym_cartpolev1_example.ipynb Cell 9\u001b[0m in \u001b[0;36mdiscretizer\u001b[1;34m(_, __, angle, pole_velocity)\u001b[0m\n\u001b[0;32m      <a href='vscode-notebook-cell:/c%3A/Users/sacka/Documents/programming/projects/inverted-pendulum/gym_cartpolev1_example.ipynb#X11sZmlsZQ%3D%3D?line=5'>6</a>\u001b[0m est \u001b[39m=\u001b[39m KBinsDiscretizer(n_bins\u001b[39m=\u001b[39mn_bins, encode\u001b[39m=\u001b[39m\u001b[39m\"\u001b[39m\u001b[39mordinal\u001b[39m\u001b[39m\"\u001b[39m, strategy\u001b[39m=\u001b[39m\u001b[39m\"\u001b[39m\u001b[39muniform\u001b[39m\u001b[39m\"\u001b[39m)\n\u001b[0;32m      <a href='vscode-notebook-cell:/c%3A/Users/sacka/Documents/programming/projects/inverted-pendulum/gym_cartpolev1_example.ipynb#X11sZmlsZQ%3D%3D?line=6'>7</a>\u001b[0m est\u001b[39m.\u001b[39mfit([lower_bounds, upper_bounds])\n\u001b[1;32m----> <a href='vscode-notebook-cell:/c%3A/Users/sacka/Documents/programming/projects/inverted-pendulum/gym_cartpolev1_example.ipynb#X11sZmlsZQ%3D%3D?line=7'>8</a>\u001b[0m \u001b[39mreturn\u001b[39;00m \u001b[39mtuple\u001b[39m(\u001b[39mmap\u001b[39m(\u001b[39mint\u001b[39m, est\u001b[39m.\u001b[39;49mtransform([[angle, pole_velocity]])[\u001b[39m0\u001b[39m]))\n",
      "File \u001b[1;32mc:\\Python310\\lib\\site-packages\\sklearn\\preprocessing\\_discretization.py:375\u001b[0m, in \u001b[0;36mKBinsDiscretizer.transform\u001b[1;34m(self, X)\u001b[0m\n\u001b[0;32m    373\u001b[0m bin_edges \u001b[39m=\u001b[39m \u001b[39mself\u001b[39m\u001b[39m.\u001b[39mbin_edges_\n\u001b[0;32m    374\u001b[0m \u001b[39mfor\u001b[39;00m jj \u001b[39min\u001b[39;00m \u001b[39mrange\u001b[39m(Xt\u001b[39m.\u001b[39mshape[\u001b[39m1\u001b[39m]):\n\u001b[1;32m--> 375\u001b[0m     Xt[:, jj] \u001b[39m=\u001b[39m np\u001b[39m.\u001b[39;49msearchsorted(bin_edges[jj][\u001b[39m1\u001b[39;49m:\u001b[39m-\u001b[39;49m\u001b[39m1\u001b[39;49m], Xt[:, jj], side\u001b[39m=\u001b[39;49m\u001b[39m\"\u001b[39;49m\u001b[39mright\u001b[39;49m\u001b[39m\"\u001b[39;49m)\n\u001b[0;32m    377\u001b[0m \u001b[39mif\u001b[39;00m \u001b[39mself\u001b[39m\u001b[39m.\u001b[39mencode \u001b[39m==\u001b[39m \u001b[39m\"\u001b[39m\u001b[39mordinal\u001b[39m\u001b[39m\"\u001b[39m:\n\u001b[0;32m    378\u001b[0m     \u001b[39mreturn\u001b[39;00m Xt\n",
      "File \u001b[1;32m<__array_function__ internals>:180\u001b[0m, in \u001b[0;36msearchsorted\u001b[1;34m(*args, **kwargs)\u001b[0m\n",
      "File \u001b[1;32mc:\\Python310\\lib\\site-packages\\numpy\\core\\fromnumeric.py:1387\u001b[0m, in \u001b[0;36msearchsorted\u001b[1;34m(a, v, side, sorter)\u001b[0m\n\u001b[0;32m   1319\u001b[0m \u001b[39m@array_function_dispatch\u001b[39m(_searchsorted_dispatcher)\n\u001b[0;32m   1320\u001b[0m \u001b[39mdef\u001b[39;00m \u001b[39msearchsorted\u001b[39m(a, v, side\u001b[39m=\u001b[39m\u001b[39m'\u001b[39m\u001b[39mleft\u001b[39m\u001b[39m'\u001b[39m, sorter\u001b[39m=\u001b[39m\u001b[39mNone\u001b[39;00m):\n\u001b[0;32m   1321\u001b[0m     \u001b[39m\"\"\"\u001b[39;00m\n\u001b[0;32m   1322\u001b[0m \u001b[39m    Find indices where elements should be inserted to maintain order.\u001b[39;00m\n\u001b[0;32m   1323\u001b[0m \n\u001b[1;32m   (...)\u001b[0m\n\u001b[0;32m   1385\u001b[0m \n\u001b[0;32m   1386\u001b[0m \u001b[39m    \"\"\"\u001b[39;00m\n\u001b[1;32m-> 1387\u001b[0m     \u001b[39mreturn\u001b[39;00m _wrapfunc(a, \u001b[39m'\u001b[39;49m\u001b[39msearchsorted\u001b[39;49m\u001b[39m'\u001b[39;49m, v, side\u001b[39m=\u001b[39;49mside, sorter\u001b[39m=\u001b[39;49msorter)\n",
      "File \u001b[1;32mc:\\Python310\\lib\\site-packages\\numpy\\core\\fromnumeric.py:57\u001b[0m, in \u001b[0;36m_wrapfunc\u001b[1;34m(obj, method, *args, **kwds)\u001b[0m\n\u001b[0;32m     54\u001b[0m     \u001b[39mreturn\u001b[39;00m _wrapit(obj, method, \u001b[39m*\u001b[39margs, \u001b[39m*\u001b[39m\u001b[39m*\u001b[39mkwds)\n\u001b[0;32m     56\u001b[0m \u001b[39mtry\u001b[39;00m:\n\u001b[1;32m---> 57\u001b[0m     \u001b[39mreturn\u001b[39;00m bound(\u001b[39m*\u001b[39margs, \u001b[39m*\u001b[39m\u001b[39m*\u001b[39mkwds)\n\u001b[0;32m     58\u001b[0m \u001b[39mexcept\u001b[39;00m \u001b[39mTypeError\u001b[39;00m:\n\u001b[0;32m     59\u001b[0m     \u001b[39m# A TypeError occurs if the object does have such a method in its\u001b[39;00m\n\u001b[0;32m     60\u001b[0m     \u001b[39m# class, but its signature is not identical to that of NumPy's. This\u001b[39;00m\n\u001b[1;32m   (...)\u001b[0m\n\u001b[0;32m     64\u001b[0m     \u001b[39m# Call _wrapit from within the except clause to ensure a potential\u001b[39;00m\n\u001b[0;32m     65\u001b[0m     \u001b[39m# exception has a traceback chain.\u001b[39;00m\n\u001b[0;32m     66\u001b[0m     \u001b[39mreturn\u001b[39;00m _wrapit(obj, method, \u001b[39m*\u001b[39margs, \u001b[39m*\u001b[39m\u001b[39m*\u001b[39mkwds)\n",
      "\u001b[1;31mKeyboardInterrupt\u001b[0m: "
     ]
    },
    {
     "ename": "",
     "evalue": "",
     "output_type": "error",
     "traceback": [
      "\u001b[1;31mThe Kernel crashed while executing code in the the current cell or a previous cell. Please review the code in the cell(s) to identify a possible cause of the failure. Click <a href='https://aka.ms/vscodeJupyterKernelCrash'>here</a> for more info. View Jupyter <a href='command:jupyter.viewOutput'>log</a> for further details."
     ]
    }
   ],
   "source": [
    "n_episodes = 2000\n",
    "\n",
    "f = IntProgress(min=0, max=n_episodes) # instantiate the bar\n",
    "display(f) # display the bar\n",
    "\n",
    "env_e = env\n",
    "for e in range(n_episodes):\n",
    "    f.value += 1\n",
    "    start_time = perf_counter()\n",
    "\n",
    "    if e % 100 == 0:\n",
    "        env_e = env_render\n",
    "    elif (e-1) % 100 == 0:\n",
    "        env_e = env\n",
    "\n",
    "    obs, info = env_e.reset()\n",
    "    current_state, done = discretizer(*obs), False\n",
    "\n",
    "    while not done:\n",
    "        if perf_counter() - start_time > 10:\n",
    "            done = True\n",
    "            continue\n",
    "\n",
    "        action = policy(current_state)\n",
    "\n",
    "        if np.random.random() < exploration_rate(e):\n",
    "            action = env_e.action_space.sample()\n",
    "\n",
    "        obs, reward, done, info, _ = env_e.step(action, )\n",
    "        new_state = discretizer(*obs)\n",
    "\n",
    "        lr = learning_rate(e)\n",
    "        learnt_value = new_Q_value(reward, new_state, 1)\n",
    "        old_value = Q_table[current_state][action]\n",
    "        Q_table[current_state][action] = (1-lr)*old_value + lr*learnt_value\n",
    "\n",
    "        current_state = new_state\n",
    "env.close()\n",
    "env_render.close()"
   ]
  }
 ],
 "metadata": {
  "kernelspec": {
   "display_name": "Python 3",
   "language": "python",
   "name": "python3"
  },
  "language_info": {
   "codemirror_mode": {
    "name": "ipython",
    "version": 3
   },
   "file_extension": ".py",
   "mimetype": "text/x-python",
   "name": "python",
   "nbconvert_exporter": "python",
   "pygments_lexer": "ipython3",
   "version": "3.10.5 (tags/v3.10.5:f377153, Jun  6 2022, 16:14:13) [MSC v.1929 64 bit (AMD64)]"
  },
  "orig_nbformat": 4,
  "vscode": {
   "interpreter": {
    "hash": "369f2c481f4da34e4445cda3fffd2e751bd1c4d706f27375911949ba6bb62e1c"
   }
  }
 },
 "nbformat": 4,
 "nbformat_minor": 2
}
