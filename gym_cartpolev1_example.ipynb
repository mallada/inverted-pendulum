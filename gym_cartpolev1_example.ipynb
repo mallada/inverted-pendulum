{
 "cells": [
  {
   "cell_type": "code",
   "execution_count": 1,
   "metadata": {},
   "outputs": [],
   "source": [
    "import gym\n",
    "import time\n",
    "from math import sin, cos, radians, log10\n",
    "from sklearn.preprocessing import KBinsDiscretizer\n",
    "import numpy as np\n",
    "from ipywidgets import IntProgress\n",
    "from IPython.display import display"
   ]
  },
  {
   "cell_type": "code",
   "execution_count": 2,
   "metadata": {},
   "outputs": [],
   "source": [
    "env = gym.make(\"CartPole-v1\")\n",
    "env_render = gym.make(\"CartPole-v1\", render_mode=\"human\")\n"
   ]
  },
  {
   "cell_type": "code",
   "execution_count": 3,
   "metadata": {},
   "outputs": [],
   "source": [
    "n_bins = (6,12)\n",
    "lower_bounds = [env.observation_space.low[2], -radians(50)]\n",
    "upper_bounds = [env.observation_space.high[2], radians(50)]\n",
    "\n",
    "def discretizer(_, __, angle, pole_velocity) -> tuple[int,...]:\n",
    "    est = KBinsDiscretizer(n_bins=n_bins, encode=\"ordinal\", strategy=\"uniform\")\n",
    "    est.fit([lower_bounds, upper_bounds])\n",
    "    return tuple(map(int, est.transform([[angle, pole_velocity]])[0]))"
   ]
  },
  {
   "cell_type": "code",
   "execution_count": 4,
   "metadata": {},
   "outputs": [
    {
     "data": {
      "text/plain": [
       "(6, 12, 2)"
      ]
     },
     "execution_count": 4,
     "metadata": {},
     "output_type": "execute_result"
    }
   ],
   "source": [
    "Q_table = np.zeros(n_bins + (env.action_space.n,))\n",
    "Q_table.shape"
   ]
  },
  {
   "cell_type": "code",
   "execution_count": 5,
   "metadata": {},
   "outputs": [],
   "source": [
    "def policy(state: tuple):\n",
    "    return np.argmax(Q_table[state])"
   ]
  },
  {
   "cell_type": "code",
   "execution_count": 6,
   "metadata": {},
   "outputs": [],
   "source": [
    "def new_Q_value(reward: float, new_state: tuple, discount_factor=1) -> float:\n",
    "    future_optimal_value = np.max(Q_table[new_state])\n",
    "    learned_value = reward + discount_factor * future_optimal_value\n",
    "    return learned_value"
   ]
  },
  {
   "cell_type": "code",
   "execution_count": 7,
   "metadata": {},
   "outputs": [],
   "source": [
    "def learning_rate(n: int, min_rate=0.01) -> float:\n",
    "    return max(min_rate, min(1.0, 1.0 - log10((n+1)/25)))"
   ]
  },
  {
   "cell_type": "code",
   "execution_count": 8,
   "metadata": {},
   "outputs": [],
   "source": [
    "def exploration_rate(n: int, min_rate=0.1) -> float:\n",
    "    return max(min_rate, min(1, 1.0-log10((n+1)/25)))"
   ]
  },
  {
   "cell_type": "code",
   "execution_count": 9,
   "metadata": {},
   "outputs": [
    {
     "data": {
      "application/vnd.jupyter.widget-view+json": {
       "model_id": "34ce7ad85a0d49e8a04eeb34c94cd351",
       "version_major": 2,
       "version_minor": 0
      },
      "text/plain": [
       "IntProgress(value=0, max=1000)"
      ]
     },
     "metadata": {},
     "output_type": "display_data"
    }
   ],
   "source": [
    "n_episodes = 1000\n",
    "\n",
    "f = IntProgress(min=0, max=n_episodes) # instantiate the bar\n",
    "display(f) # display the bar\n",
    "\n",
    "env_e = env\n",
    "for e in range(n_episodes):\n",
    "    f.value += 1\n",
    "\n",
    "    if e % 100 == 0:\n",
    "        env_e = env_render\n",
    "    elif (e-1) % 100 == 0:\n",
    "        env_e = env\n",
    "\n",
    "    obs, info = env_e.reset()\n",
    "    current_state, done = discretizer(*obs), False\n",
    "\n",
    "    while not done:\n",
    "        action = policy(current_state)\n",
    "\n",
    "        if np.random.random() < exploration_rate(e):\n",
    "            action = env_e.action_space.sample()\n",
    "\n",
    "        obs, reward, done, info, _ = env_e.step(action, )\n",
    "        new_state = discretizer(*obs)\n",
    "\n",
    "        lr = learning_rate(e)\n",
    "        learnt_value = new_Q_value(reward, new_state)\n",
    "        old_value = Q_table[current_state][action]\n",
    "        Q_table[current_state][action] = (1-lr)*old_value + lr*learnt_value\n",
    "\n",
    "        current_state = new_state\n",
    "env.close()\n",
    "env_render.close()"
   ]
  }
 ],
 "metadata": {
  "kernelspec": {
   "display_name": "Python 3",
   "language": "python",
   "name": "python3"
  },
  "language_info": {
   "codemirror_mode": {
    "name": "ipython",
    "version": 3
   },
   "file_extension": ".py",
   "mimetype": "text/x-python",
   "name": "python",
   "nbconvert_exporter": "python",
   "pygments_lexer": "ipython3",
   "version": "3.10.5"
  },
  "orig_nbformat": 4,
  "vscode": {
   "interpreter": {
    "hash": "369f2c481f4da34e4445cda3fffd2e751bd1c4d706f27375911949ba6bb62e1c"
   }
  }
 },
 "nbformat": 4,
 "nbformat_minor": 2
}
